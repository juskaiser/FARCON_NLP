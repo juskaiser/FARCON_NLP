{
 "cells": [
  {
   "cell_type": "markdown",
   "metadata": {},
   "source": [
    "Run the tests in the cells below by hitting ```shift + enter``` with the cell selected."
   ]
  },
  {
   "cell_type": "code",
   "execution_count": null,
   "metadata": {},
   "outputs": [],
   "source": [
    "# Verify the right environment is enabled by checking the python path below\n",
    "import sys\n",
    "print(sys.executable)"
   ]
  },
  {
   "cell_type": "code",
   "execution_count": null,
   "metadata": {},
   "outputs": [],
   "source": [
    "# test the main packages we'll be using are installed by importing them\n",
    "import pandas as pd\n",
    "import numpy as np\n",
    "import matplotlib.pyplot as plt\n",
    "import seaborn\n",
    "import sklearn\n",
    "import spacy\n",
    "nlp = spacy.load('en')\n",
    "\n",
    "print(\"\\n### Great, it seems like all the libraries were loaded correclty!\")\n",
    "# If all the libraries import without an error they are probably installed correctly"
   ]
  },
  {
   "cell_type": "code",
   "execution_count": null,
   "metadata": {
    "collapsed": true
   },
   "outputs": [],
   "source": [
    "# Function for testing the location of the data files (this won't work if you\n",
    "# renamed the data files)\n",
    "from IPython.display import display\n",
    "\n",
    "def test_data():\n",
    "    amz_elec_test = pd.read_csv('data/amazon_electronics_reviews_subset.csv', header=0, index_col=0)\n",
    "    print(\"\\nAmazon Reviews data set:\")\n",
    "    display(amz_elec_test.head(1))\n",
    "    print(\"- - - - - - - - -\")\n",
    "    print(\"\\nAmazon Reviews for the Sandisk SD Card:\")\n",
    "    sandisk_test = pd.read_csv('data/sandisk_sd_card_reviews.csv', header=0, index_col=0)\n",
    "    display(sandisk_test.head(1))\n",
    "    print(\"\\n### It seems like the data files are all in the right location!\")"
   ]
  },
  {
   "cell_type": "code",
   "execution_count": null,
   "metadata": {
    "scrolled": true
   },
   "outputs": [],
   "source": [
    "# If everything loads correclty you should see the Message: \n",
    "# \"It seems like the data files are all in the right location!\" at the bottom of the cell\n",
    "test_data()"
   ]
  }
 ],
 "metadata": {
  "anaconda-cloud": {},
  "kernelspec": {
   "display_name": "Python 3",
   "language": "python",
   "name": "python3"
  },
  "language_info": {
   "codemirror_mode": {
    "name": "ipython",
    "version": 3
   },
   "file_extension": ".py",
   "mimetype": "text/x-python",
   "name": "python",
   "nbconvert_exporter": "python",
   "pygments_lexer": "ipython3",
   "version": "3.6.2"
  }
 },
 "nbformat": 4,
 "nbformat_minor": 1
}
