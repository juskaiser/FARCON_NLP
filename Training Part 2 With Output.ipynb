{
 "cells": [
  {
   "cell_type": "markdown",
   "metadata": {},
   "source": [
    "**\\*Remember to activate the *far_nlp* environment before starting jupyter notebook from command line and running this notebook:**\n",
    "\n",
    "**OS X, Linux:** `$ source activate far_nlp`\n",
    "\n",
    "**Windows:** `$ activate far_nlp`"
   ]
  },
  {
   "cell_type": "code",
   "execution_count": 1,
   "metadata": {},
   "outputs": [
    {
     "name": "stdout",
     "output_type": "stream",
     "text": [
      "/Users/Justin/anaconda/envs/far_nlp/bin/python\n"
     ]
    }
   ],
   "source": [
    "# Verify the right environment is enabled by checking the python path\n",
    "import sys\n",
    "print(sys.executable)"
   ]
  },
  {
   "cell_type": "markdown",
   "metadata": {},
   "source": [
    "# Classifying Text Documents"
   ]
  },
  {
   "cell_type": "markdown",
   "metadata": {},
   "source": [
    "Imagine the following scenario: Amazon is wanting to do a better job promoting new, potentially helpful, product reviews so they can be more visible to customers. The algorithm for displaying reviews is based on the current helpfulness rating for each review and new reviews get pushed to the bottom of the list because they have no rating.\n",
    "\n",
    "Our task is to use information from past reviews that have already been rated to predict the helpfulness of new reviews. We'll focus on seeing if we can use the review text to make a prediction."
   ]
  },
  {
   "cell_type": "markdown",
   "metadata": {},
   "source": [
    "## Load in the Amazon Reviews"
   ]
  },
  {
   "cell_type": "code",
   "execution_count": 2,
   "metadata": {
    "collapsed": true
   },
   "outputs": [],
   "source": [
    "import pandas as pd\n",
    "import numpy as np\n",
    "from sklearn.preprocessing import Binarizer"
   ]
  },
  {
   "cell_type": "markdown",
   "metadata": {},
   "source": [
    "The data we're using for this is from the Amazon product data curated by Julian McAuley [http://jmcauley.ucsd.edu/data/amazon/](http://jmcauley.ucsd.edu/data/amazon/). We're looking at a random sample of the reviews in the Electronics category. See the link for the full data source and a further explanation of the fields."
   ]
  },
  {
   "cell_type": "code",
   "execution_count": 3,
   "metadata": {
    "collapsed": true
   },
   "outputs": [],
   "source": [
    "# First load in the reviews data set\n",
    "amazon_reviews = pd.read_csv('data/amazon_electronics_reviews_subset.csv', header=0, index_col=0)"
   ]
  },
  {
   "cell_type": "markdown",
   "metadata": {},
   "source": [
    "### Try it Out:"
   ]
  },
  {
   "cell_type": "markdown",
   "metadata": {},
   "source": [
    "Preview a sample of the data set by using either `.head()` or `.sample()`."
   ]
  },
  {
   "cell_type": "code",
   "execution_count": 4,
   "metadata": {
    "collapsed": true
   },
   "outputs": [],
   "source": [
    "# Your code here\n",
    "\n",
    "\n"
   ]
  },
  {
   "cell_type": "markdown",
   "metadata": {},
   "source": [
    "#### Hint:"
   ]
  },
  {
   "cell_type": "code",
   "execution_count": 5,
   "metadata": {},
   "outputs": [
    {
     "data": {
      "text/html": [
       "<div>\n",
       "<style>\n",
       "    .dataframe thead tr:only-child th {\n",
       "        text-align: right;\n",
       "    }\n",
       "\n",
       "    .dataframe thead th {\n",
       "        text-align: left;\n",
       "    }\n",
       "\n",
       "    .dataframe tbody tr th {\n",
       "        vertical-align: top;\n",
       "    }\n",
       "</style>\n",
       "<table border=\"1\" class=\"dataframe\">\n",
       "  <thead>\n",
       "    <tr style=\"text-align: right;\">\n",
       "      <th></th>\n",
       "      <th>asin</th>\n",
       "      <th>helpful</th>\n",
       "      <th>overall</th>\n",
       "      <th>reviewText</th>\n",
       "      <th>reviewTime</th>\n",
       "      <th>reviewerID</th>\n",
       "      <th>reviewerName</th>\n",
       "      <th>summary</th>\n",
       "      <th>unixReviewTime</th>\n",
       "    </tr>\n",
       "  </thead>\n",
       "  <tbody>\n",
       "    <tr>\n",
       "      <th>286664</th>\n",
       "      <td>B000OX06DY</td>\n",
       "      <td>[15, 16]</td>\n",
       "      <td>5</td>\n",
       "      <td>This is one of those products that looks like ...</td>\n",
       "      <td>02 16, 2009</td>\n",
       "      <td>A1YVO5V1SO18DZ</td>\n",
       "      <td>The Bee Bee \"BB\"</td>\n",
       "      <td>Big backpack with plenty of room - exceptional...</td>\n",
       "      <td>1234742400</td>\n",
       "    </tr>\n",
       "    <tr>\n",
       "      <th>156440</th>\n",
       "      <td>B0009Q4PIS</td>\n",
       "      <td>[0, 0]</td>\n",
       "      <td>5</td>\n",
       "      <td>These are perfect! I only wish I had brought t...</td>\n",
       "      <td>12 26, 2012</td>\n",
       "      <td>A2D1ZQEFS1NBH2</td>\n",
       "      <td>David Washington \"little dave\"</td>\n",
       "      <td>Awesome!</td>\n",
       "      <td>1356480000</td>\n",
       "    </tr>\n",
       "    <tr>\n",
       "      <th>346333</th>\n",
       "      <td>B000XC2F3K</td>\n",
       "      <td>[0, 0]</td>\n",
       "      <td>5</td>\n",
       "      <td>If you photograph outside in the sun this in a...</td>\n",
       "      <td>12 4, 2012</td>\n",
       "      <td>A1E54CX25DA6D</td>\n",
       "      <td>Thomas Lanna</td>\n",
       "      <td>must have</td>\n",
       "      <td>1354579200</td>\n",
       "    </tr>\n",
       "    <tr>\n",
       "      <th>227320</th>\n",
       "      <td>B000HLZXH2</td>\n",
       "      <td>[0, 0]</td>\n",
       "      <td>5</td>\n",
       "      <td>It is sturdy, It fits and looks good. I bought...</td>\n",
       "      <td>12 1, 2013</td>\n",
       "      <td>A35FJQ0EIW07MF</td>\n",
       "      <td>Adele Yuncker</td>\n",
       "      <td>Just what I needed</td>\n",
       "      <td>1385856000</td>\n",
       "    </tr>\n",
       "    <tr>\n",
       "      <th>617724</th>\n",
       "      <td>B002KY1HXS</td>\n",
       "      <td>[8, 14]</td>\n",
       "      <td>3</td>\n",
       "      <td>I had a very tough time deciding whether I sho...</td>\n",
       "      <td>02 11, 2012</td>\n",
       "      <td>A18MBO1U4DPY20</td>\n",
       "      <td>Harkanwar Anand</td>\n",
       "      <td>Why B&amp;W is better</td>\n",
       "      <td>1328918400</td>\n",
       "    </tr>\n",
       "    <tr>\n",
       "      <th>1514665</th>\n",
       "      <td>B00A8EYS6U</td>\n",
       "      <td>[0, 0]</td>\n",
       "      <td>3</td>\n",
       "      <td>I used this case about 1 day , went back  to m...</td>\n",
       "      <td>02 26, 2014</td>\n",
       "      <td>APBAS0SCK6GEZ</td>\n",
       "      <td>Donna Alberson</td>\n",
       "      <td>just ok</td>\n",
       "      <td>1393372800</td>\n",
       "    </tr>\n",
       "    <tr>\n",
       "      <th>543486</th>\n",
       "      <td>B001UKH4OY</td>\n",
       "      <td>[1, 1]</td>\n",
       "      <td>5</td>\n",
       "      <td>This integrates perfectly with the honeywell L...</td>\n",
       "      <td>12 3, 2012</td>\n",
       "      <td>A29WAMDRBA65I1</td>\n",
       "      <td>vincent himpe</td>\n",
       "      <td>Easy to install. Works like a charm</td>\n",
       "      <td>1354492800</td>\n",
       "    </tr>\n",
       "    <tr>\n",
       "      <th>778607</th>\n",
       "      <td>B003GZ828I</td>\n",
       "      <td>[1, 2]</td>\n",
       "      <td>1</td>\n",
       "      <td>I am reasonably computer savvy, although not a...</td>\n",
       "      <td>04 5, 2012</td>\n",
       "      <td>A3TWCBY131EVQ0</td>\n",
       "      <td>Steven Podnos</td>\n",
       "      <td>Malfunctioning after one week</td>\n",
       "      <td>1333584000</td>\n",
       "    </tr>\n",
       "    <tr>\n",
       "      <th>785801</th>\n",
       "      <td>B003K0E6BG</td>\n",
       "      <td>[0, 0]</td>\n",
       "      <td>4</td>\n",
       "      <td>I went to the Apple store for a case but they ...</td>\n",
       "      <td>07 17, 2010</td>\n",
       "      <td>A19ZYCGNDWPW5Q</td>\n",
       "      <td>JoeO</td>\n",
       "      <td>Good but could be better</td>\n",
       "      <td>1279324800</td>\n",
       "    </tr>\n",
       "    <tr>\n",
       "      <th>420192</th>\n",
       "      <td>B0019NADUO</td>\n",
       "      <td>[0, 0]</td>\n",
       "      <td>5</td>\n",
       "      <td>Since I first bought my HP computer I have alw...</td>\n",
       "      <td>07 18, 2012</td>\n",
       "      <td>A1HZ6T8V9IFBRV</td>\n",
       "      <td>soradore</td>\n",
       "      <td>Buy These</td>\n",
       "      <td>1342569600</td>\n",
       "    </tr>\n",
       "  </tbody>\n",
       "</table>\n",
       "</div>"
      ],
      "text/plain": [
       "               asin   helpful  overall  \\\n",
       "286664   B000OX06DY  [15, 16]        5   \n",
       "156440   B0009Q4PIS    [0, 0]        5   \n",
       "346333   B000XC2F3K    [0, 0]        5   \n",
       "227320   B000HLZXH2    [0, 0]        5   \n",
       "617724   B002KY1HXS   [8, 14]        3   \n",
       "1514665  B00A8EYS6U    [0, 0]        3   \n",
       "543486   B001UKH4OY    [1, 1]        5   \n",
       "778607   B003GZ828I    [1, 2]        1   \n",
       "785801   B003K0E6BG    [0, 0]        4   \n",
       "420192   B0019NADUO    [0, 0]        5   \n",
       "\n",
       "                                                reviewText   reviewTime  \\\n",
       "286664   This is one of those products that looks like ...  02 16, 2009   \n",
       "156440   These are perfect! I only wish I had brought t...  12 26, 2012   \n",
       "346333   If you photograph outside in the sun this in a...   12 4, 2012   \n",
       "227320   It is sturdy, It fits and looks good. I bought...   12 1, 2013   \n",
       "617724   I had a very tough time deciding whether I sho...  02 11, 2012   \n",
       "1514665  I used this case about 1 day , went back  to m...  02 26, 2014   \n",
       "543486   This integrates perfectly with the honeywell L...   12 3, 2012   \n",
       "778607   I am reasonably computer savvy, although not a...   04 5, 2012   \n",
       "785801   I went to the Apple store for a case but they ...  07 17, 2010   \n",
       "420192   Since I first bought my HP computer I have alw...  07 18, 2012   \n",
       "\n",
       "             reviewerID                    reviewerName  \\\n",
       "286664   A1YVO5V1SO18DZ                The Bee Bee \"BB\"   \n",
       "156440   A2D1ZQEFS1NBH2  David Washington \"little dave\"   \n",
       "346333    A1E54CX25DA6D                    Thomas Lanna   \n",
       "227320   A35FJQ0EIW07MF                   Adele Yuncker   \n",
       "617724   A18MBO1U4DPY20                 Harkanwar Anand   \n",
       "1514665   APBAS0SCK6GEZ                  Donna Alberson   \n",
       "543486   A29WAMDRBA65I1                   vincent himpe   \n",
       "778607   A3TWCBY131EVQ0                   Steven Podnos   \n",
       "785801   A19ZYCGNDWPW5Q                            JoeO   \n",
       "420192   A1HZ6T8V9IFBRV                        soradore   \n",
       "\n",
       "                                                   summary  unixReviewTime  \n",
       "286664   Big backpack with plenty of room - exceptional...      1234742400  \n",
       "156440                                            Awesome!      1356480000  \n",
       "346333                                           must have      1354579200  \n",
       "227320                                  Just what I needed      1385856000  \n",
       "617724                                   Why B&W is better      1328918400  \n",
       "1514665                                            just ok      1393372800  \n",
       "543486                 Easy to install. Works like a charm      1354492800  \n",
       "778607                       Malfunctioning after one week      1333584000  \n",
       "785801                            Good but could be better      1279324800  \n",
       "420192                                           Buy These      1342569600  "
      ]
     },
     "execution_count": 5,
     "metadata": {},
     "output_type": "execute_result"
    }
   ],
   "source": [
    "amazon_reviews.sample(10)"
   ]
  },
  {
   "cell_type": "markdown",
   "metadata": {},
   "source": [
    "## Operationalize the Y Variable"
   ]
  },
  {
   "cell_type": "markdown",
   "metadata": {},
   "source": [
    "The *helpful* column gives us how many reviews were voted helpful and the total number of votes received for that review. For example, if a particular review was voted helpful 6 times and unhelpful 4 times, we would end up with a rating of [6, 10].\n",
    "\n",
    "We'll have to do some work place the reviews into categories for helpful/not helpful. We are only going to consider reviews with 10 or more total votes because it's too easy for a review with only a few votes to have a high rating. Then we'll divide the number of helpful votes by the total number of votes received. Lastly, if the average for a review is greater than 60% we'll assign the review to the helpful (1) category. Otherwsie the review will be assigned to the unhelpful (0) category."
   ]
  },
  {
   "cell_type": "code",
   "execution_count": 6,
   "metadata": {
    "collapsed": true
   },
   "outputs": [],
   "source": [
    "# This funciton will created our helpfulness average\n",
    "def helpful_transformer(help_string):\n",
    "    stripped = help_string.strip().replace(\"[\", \"\").replace(\"]\", \"\")\n",
    "    split = stripped.split(\",\")\n",
    "    split[0] = split[0].strip()\n",
    "    split[1] = split[1].strip()\n",
    "    if int(split[1]) == 0 or int(split[1]) < 10:\n",
    "        return 0\n",
    "    else:\n",
    "        helpful_avg = int(split[0]) / int(split[1]) \n",
    "    return helpful_avg"
   ]
  },
  {
   "cell_type": "code",
   "execution_count": 7,
   "metadata": {
    "collapsed": true
   },
   "outputs": [],
   "source": [
    "# Here we apply the function above to the full dataframe\n",
    "amazon_reviews['helpful_avg'] = amazon_reviews['helpful'].apply(helpful_transformer)"
   ]
  },
  {
   "cell_type": "code",
   "execution_count": 8,
   "metadata": {},
   "outputs": [
    {
     "name": "stdout",
     "output_type": "stream",
     "text": [
      "(10721, 10)\n",
      "(189279, 10)\n"
     ]
    }
   ],
   "source": [
    "# How many reviews are greater than 60% (helpful)?\n",
    "print(amazon_reviews.loc[amazon_reviews['helpful_avg'] > 0.60].shape)\n",
    "\n",
    "# How many reviews are 60% or below (unhelpful)?\n",
    "print(amazon_reviews.loc[amazon_reviews['helpful_avg'] <= 0.60].shape)"
   ]
  },
  {
   "cell_type": "code",
   "execution_count": 9,
   "metadata": {
    "collapsed": true
   },
   "outputs": [],
   "source": [
    "# We'll use binarizer to make a binary is helpful column\n",
    "helpful_binzrizer = Binarizer(copy=True, threshold=0.60)"
   ]
  },
  {
   "cell_type": "code",
   "execution_count": 10,
   "metadata": {
    "collapsed": true
   },
   "outputs": [],
   "source": [
    "# Apply the Binarizer to the data frame\n",
    "amazon_reviews['is_helpful'] = helpful_binzrizer.fit_transform(amazon_reviews['helpful_avg'].values.reshape(-1,1))"
   ]
  },
  {
   "cell_type": "markdown",
   "metadata": {},
   "source": [
    "### Try it Out:"
   ]
  },
  {
   "cell_type": "markdown",
   "metadata": {},
   "source": [
    "Load a sample of the new data set."
   ]
  },
  {
   "cell_type": "code",
   "execution_count": 11,
   "metadata": {
    "collapsed": true
   },
   "outputs": [],
   "source": [
    "# Your Code Here\n",
    "\n",
    "\n"
   ]
  },
  {
   "cell_type": "markdown",
   "metadata": {},
   "source": [
    "#### Hint:"
   ]
  },
  {
   "cell_type": "code",
   "execution_count": 12,
   "metadata": {
    "scrolled": false
   },
   "outputs": [
    {
     "data": {
      "text/html": [
       "<div>\n",
       "<style>\n",
       "    .dataframe thead tr:only-child th {\n",
       "        text-align: right;\n",
       "    }\n",
       "\n",
       "    .dataframe thead th {\n",
       "        text-align: left;\n",
       "    }\n",
       "\n",
       "    .dataframe tbody tr th {\n",
       "        vertical-align: top;\n",
       "    }\n",
       "</style>\n",
       "<table border=\"1\" class=\"dataframe\">\n",
       "  <thead>\n",
       "    <tr style=\"text-align: right;\">\n",
       "      <th></th>\n",
       "      <th>asin</th>\n",
       "      <th>helpful</th>\n",
       "      <th>overall</th>\n",
       "      <th>reviewText</th>\n",
       "      <th>reviewTime</th>\n",
       "      <th>reviewerID</th>\n",
       "      <th>reviewerName</th>\n",
       "      <th>summary</th>\n",
       "      <th>unixReviewTime</th>\n",
       "      <th>helpful_avg</th>\n",
       "      <th>is_helpful</th>\n",
       "    </tr>\n",
       "  </thead>\n",
       "  <tbody>\n",
       "    <tr>\n",
       "      <th>733384</th>\n",
       "      <td>B003960EQM</td>\n",
       "      <td>[0, 0]</td>\n",
       "      <td>5</td>\n",
       "      <td>Based on the other reviews posted, I purchased...</td>\n",
       "      <td>01 7, 2011</td>\n",
       "      <td>A30CJJ57SLV9KG</td>\n",
       "      <td>George M. Meiser \"bel canto fan\"</td>\n",
       "      <td>No better camera in its price range and size</td>\n",
       "      <td>1294358400</td>\n",
       "      <td>0.0</td>\n",
       "      <td>0.0</td>\n",
       "    </tr>\n",
       "    <tr>\n",
       "      <th>1554934</th>\n",
       "      <td>B00BC5IZT0</td>\n",
       "      <td>[0, 0]</td>\n",
       "      <td>3</td>\n",
       "      <td>This barely fits my Surface with the real keyb...</td>\n",
       "      <td>07 8, 2014</td>\n",
       "      <td>A2CGIJA00E5EPX</td>\n",
       "      <td>torian84</td>\n",
       "      <td>Kind of a tight fit....</td>\n",
       "      <td>1404777600</td>\n",
       "      <td>0.0</td>\n",
       "      <td>0.0</td>\n",
       "    </tr>\n",
       "    <tr>\n",
       "      <th>1469726</th>\n",
       "      <td>B009FDNF8M</td>\n",
       "      <td>[2, 2]</td>\n",
       "      <td>4</td>\n",
       "      <td>These speakers work well. The only complaint I...</td>\n",
       "      <td>03 16, 2013</td>\n",
       "      <td>A1R4878U95I6QV</td>\n",
       "      <td>ksimbap</td>\n",
       "      <td>Good for the price</td>\n",
       "      <td>1363392000</td>\n",
       "      <td>0.0</td>\n",
       "      <td>0.0</td>\n",
       "    </tr>\n",
       "    <tr>\n",
       "      <th>1139250</th>\n",
       "      <td>B005HIS5K2</td>\n",
       "      <td>[11, 11]</td>\n",
       "      <td>1</td>\n",
       "      <td>Two problems with this device:1. It crashes or...</td>\n",
       "      <td>04 24, 2012</td>\n",
       "      <td>A3VMNLJNDP5GJU</td>\n",
       "      <td>Paul D. Carlucci</td>\n",
       "      <td>Avoid</td>\n",
       "      <td>1335225600</td>\n",
       "      <td>1.0</td>\n",
       "      <td>1.0</td>\n",
       "    </tr>\n",
       "    <tr>\n",
       "      <th>1437915</th>\n",
       "      <td>B0090Z3QG6</td>\n",
       "      <td>[4, 20]</td>\n",
       "      <td>1</td>\n",
       "      <td>Really What a surprise from BOSE. They need Wi...</td>\n",
       "      <td>11 5, 2013</td>\n",
       "      <td>A24QIMQEKQTVER</td>\n",
       "      <td>SSS</td>\n",
       "      <td>Blue Tooth</td>\n",
       "      <td>1383609600</td>\n",
       "      <td>0.2</td>\n",
       "      <td>0.0</td>\n",
       "    </tr>\n",
       "    <tr>\n",
       "      <th>1033233</th>\n",
       "      <td>B004V1DAC4</td>\n",
       "      <td>[2, 2]</td>\n",
       "      <td>5</td>\n",
       "      <td>My new Vizio 42\" smart HDTV has the acoustic q...</td>\n",
       "      <td>01 7, 2013</td>\n",
       "      <td>A2RJSTWIG7H3NV</td>\n",
       "      <td>D. Weulander</td>\n",
       "      <td>Easy set up. Great sound!</td>\n",
       "      <td>1357516800</td>\n",
       "      <td>0.0</td>\n",
       "      <td>0.0</td>\n",
       "    </tr>\n",
       "    <tr>\n",
       "      <th>321597</th>\n",
       "      <td>B000UZA7PI</td>\n",
       "      <td>[0, 0]</td>\n",
       "      <td>5</td>\n",
       "      <td>I swear it really does, I guess some people ma...</td>\n",
       "      <td>02 27, 2013</td>\n",
       "      <td>A8G1INE6I1IA0</td>\n",
       "      <td>Endlessgamer</td>\n",
       "      <td>it works.</td>\n",
       "      <td>1361923200</td>\n",
       "      <td>0.0</td>\n",
       "      <td>0.0</td>\n",
       "    </tr>\n",
       "    <tr>\n",
       "      <th>110039</th>\n",
       "      <td>B0002IWC9C</td>\n",
       "      <td>[2, 2]</td>\n",
       "      <td>5</td>\n",
       "      <td>I chose this particular charger because of the...</td>\n",
       "      <td>11 29, 2008</td>\n",
       "      <td>A1CYTBE7LLUQ8F</td>\n",
       "      <td>Living in Budapest \"livinginhungary\"</td>\n",
       "      <td>Best charger I've ever owned, but beware of in...</td>\n",
       "      <td>1227916800</td>\n",
       "      <td>0.0</td>\n",
       "      <td>0.0</td>\n",
       "    </tr>\n",
       "    <tr>\n",
       "      <th>1298515</th>\n",
       "      <td>B007HBLX5G</td>\n",
       "      <td>[1, 2]</td>\n",
       "      <td>5</td>\n",
       "      <td>When I dropped the iPad it landed edge-first o...</td>\n",
       "      <td>04 23, 2012</td>\n",
       "      <td>A3OTRFD4BSXYUY</td>\n",
       "      <td>NaN</td>\n",
       "      <td>Case protected my NEW iPad \"3\" POETICALLY</td>\n",
       "      <td>1335139200</td>\n",
       "      <td>0.0</td>\n",
       "      <td>0.0</td>\n",
       "    </tr>\n",
       "    <tr>\n",
       "      <th>56911</th>\n",
       "      <td>B00008KWWF</td>\n",
       "      <td>[1, 1]</td>\n",
       "      <td>4</td>\n",
       "      <td>This is really a great ergonomic mouse. I use ...</td>\n",
       "      <td>12 7, 2007</td>\n",
       "      <td>A3UGRL7KNPFW9T</td>\n",
       "      <td>a_guy_in_boston \"a_guy_in_boston\"</td>\n",
       "      <td>nicely designed mouse</td>\n",
       "      <td>1196985600</td>\n",
       "      <td>0.0</td>\n",
       "      <td>0.0</td>\n",
       "    </tr>\n",
       "  </tbody>\n",
       "</table>\n",
       "</div>"
      ],
      "text/plain": [
       "               asin   helpful  overall  \\\n",
       "733384   B003960EQM    [0, 0]        5   \n",
       "1554934  B00BC5IZT0    [0, 0]        3   \n",
       "1469726  B009FDNF8M    [2, 2]        4   \n",
       "1139250  B005HIS5K2  [11, 11]        1   \n",
       "1437915  B0090Z3QG6   [4, 20]        1   \n",
       "1033233  B004V1DAC4    [2, 2]        5   \n",
       "321597   B000UZA7PI    [0, 0]        5   \n",
       "110039   B0002IWC9C    [2, 2]        5   \n",
       "1298515  B007HBLX5G    [1, 2]        5   \n",
       "56911    B00008KWWF    [1, 1]        4   \n",
       "\n",
       "                                                reviewText   reviewTime  \\\n",
       "733384   Based on the other reviews posted, I purchased...   01 7, 2011   \n",
       "1554934  This barely fits my Surface with the real keyb...   07 8, 2014   \n",
       "1469726  These speakers work well. The only complaint I...  03 16, 2013   \n",
       "1139250  Two problems with this device:1. It crashes or...  04 24, 2012   \n",
       "1437915  Really What a surprise from BOSE. They need Wi...   11 5, 2013   \n",
       "1033233  My new Vizio 42\" smart HDTV has the acoustic q...   01 7, 2013   \n",
       "321597   I swear it really does, I guess some people ma...  02 27, 2013   \n",
       "110039   I chose this particular charger because of the...  11 29, 2008   \n",
       "1298515  When I dropped the iPad it landed edge-first o...  04 23, 2012   \n",
       "56911    This is really a great ergonomic mouse. I use ...   12 7, 2007   \n",
       "\n",
       "             reviewerID                          reviewerName  \\\n",
       "733384   A30CJJ57SLV9KG      George M. Meiser \"bel canto fan\"   \n",
       "1554934  A2CGIJA00E5EPX                              torian84   \n",
       "1469726  A1R4878U95I6QV                               ksimbap   \n",
       "1139250  A3VMNLJNDP5GJU                      Paul D. Carlucci   \n",
       "1437915  A24QIMQEKQTVER                                   SSS   \n",
       "1033233  A2RJSTWIG7H3NV                          D. Weulander   \n",
       "321597    A8G1INE6I1IA0                          Endlessgamer   \n",
       "110039   A1CYTBE7LLUQ8F  Living in Budapest \"livinginhungary\"   \n",
       "1298515  A3OTRFD4BSXYUY                                   NaN   \n",
       "56911    A3UGRL7KNPFW9T     a_guy_in_boston \"a_guy_in_boston\"   \n",
       "\n",
       "                                                   summary  unixReviewTime  \\\n",
       "733384        No better camera in its price range and size      1294358400   \n",
       "1554934                            Kind of a tight fit....      1404777600   \n",
       "1469726                                 Good for the price      1363392000   \n",
       "1139250                                              Avoid      1335225600   \n",
       "1437915                                         Blue Tooth      1383609600   \n",
       "1033233                          Easy set up. Great sound!      1357516800   \n",
       "321597                                           it works.      1361923200   \n",
       "110039   Best charger I've ever owned, but beware of in...      1227916800   \n",
       "1298515          Case protected my NEW iPad \"3\" POETICALLY      1335139200   \n",
       "56911                                nicely designed mouse      1196985600   \n",
       "\n",
       "         helpful_avg  is_helpful  \n",
       "733384           0.0         0.0  \n",
       "1554934          0.0         0.0  \n",
       "1469726          0.0         0.0  \n",
       "1139250          1.0         1.0  \n",
       "1437915          0.2         0.0  \n",
       "1033233          0.0         0.0  \n",
       "321597           0.0         0.0  \n",
       "110039           0.0         0.0  \n",
       "1298515          0.0         0.0  \n",
       "56911            0.0         0.0  "
      ]
     },
     "execution_count": 12,
     "metadata": {},
     "output_type": "execute_result"
    }
   ],
   "source": [
    "# Let's view the resulting data frame\n",
    "amazon_reviews.sample(10, random_state=42)"
   ]
  },
  {
   "cell_type": "markdown",
   "metadata": {},
   "source": [
    "## Construct a Balanced Data Set"
   ]
  },
  {
   "cell_type": "markdown",
   "metadata": {},
   "source": [
    "Right now our data set is very unbalanced, we have 189,279 unhelpful reviews and only 10,721 helpful reviews. Modeling on a more balanced data set will help our algorithm better predict between each class. We'll combine our helpful reviews with a random sample of the same number of unhelpful reviews to construct a balanced data set."
   ]
  },
  {
   "cell_type": "code",
   "execution_count": 13,
   "metadata": {
    "collapsed": true
   },
   "outputs": [],
   "source": [
    "helpful_reviews = amazon_reviews.loc[amazon_reviews['is_helpful'] == 1].copy()"
   ]
  },
  {
   "cell_type": "code",
   "execution_count": 14,
   "metadata": {},
   "outputs": [
    {
     "name": "stdout",
     "output_type": "stream",
     "text": [
      "(10721, 11)\n"
     ]
    },
    {
     "data": {
      "text/html": [
       "<div>\n",
       "<style>\n",
       "    .dataframe thead tr:only-child th {\n",
       "        text-align: right;\n",
       "    }\n",
       "\n",
       "    .dataframe thead th {\n",
       "        text-align: left;\n",
       "    }\n",
       "\n",
       "    .dataframe tbody tr th {\n",
       "        vertical-align: top;\n",
       "    }\n",
       "</style>\n",
       "<table border=\"1\" class=\"dataframe\">\n",
       "  <thead>\n",
       "    <tr style=\"text-align: right;\">\n",
       "      <th></th>\n",
       "      <th>asin</th>\n",
       "      <th>helpful</th>\n",
       "      <th>overall</th>\n",
       "      <th>reviewText</th>\n",
       "      <th>reviewTime</th>\n",
       "      <th>reviewerID</th>\n",
       "      <th>reviewerName</th>\n",
       "      <th>summary</th>\n",
       "      <th>unixReviewTime</th>\n",
       "      <th>helpful_avg</th>\n",
       "      <th>is_helpful</th>\n",
       "    </tr>\n",
       "  </thead>\n",
       "  <tbody>\n",
       "    <tr>\n",
       "      <th>881145</th>\n",
       "      <td>B00428N9N6</td>\n",
       "      <td>[21, 24]</td>\n",
       "      <td>3</td>\n",
       "      <td>I've owned a lot of different types of apple e...</td>\n",
       "      <td>12 10, 2010</td>\n",
       "      <td>A1W7R5ZAGVOSVQ</td>\n",
       "      <td>J. Lee \"imajeel\"</td>\n",
       "      <td>The good and the not-so-good for me w/ these.</td>\n",
       "      <td>1291939200</td>\n",
       "      <td>0.875000</td>\n",
       "      <td>1.0</td>\n",
       "    </tr>\n",
       "    <tr>\n",
       "      <th>709299</th>\n",
       "      <td>B003554BP2</td>\n",
       "      <td>[18, 18]</td>\n",
       "      <td>5</td>\n",
       "      <td>This is a great headset.  I feel that the soun...</td>\n",
       "      <td>05 4, 2010</td>\n",
       "      <td>A5Q1FK0FWU7DH</td>\n",
       "      <td>TC</td>\n",
       "      <td>GREAT SOUND</td>\n",
       "      <td>1272931200</td>\n",
       "      <td>1.000000</td>\n",
       "      <td>1.0</td>\n",
       "    </tr>\n",
       "    <tr>\n",
       "      <th>863104</th>\n",
       "      <td>B003ZX8B0U</td>\n",
       "      <td>[57, 62]</td>\n",
       "      <td>5</td>\n",
       "      <td>I am very impressed with the Nuvi 1350 LMT. It...</td>\n",
       "      <td>10 18, 2010</td>\n",
       "      <td>A17Q27EN1L7APM</td>\n",
       "      <td>MMG - Cary NC</td>\n",
       "      <td>Great Garmin</td>\n",
       "      <td>1287360000</td>\n",
       "      <td>0.919355</td>\n",
       "      <td>1.0</td>\n",
       "    </tr>\n",
       "    <tr>\n",
       "      <th>699838</th>\n",
       "      <td>B00328HR76</td>\n",
       "      <td>[393, 430]</td>\n",
       "      <td>3</td>\n",
       "      <td>I have been looking for a new P&amp;S; for a while...</td>\n",
       "      <td>04 19, 2010</td>\n",
       "      <td>A1GJT9M1L8UDXX</td>\n",
       "      <td>Rick in Virginia</td>\n",
       "      <td>Sony hx5v - conveniences and function are over...</td>\n",
       "      <td>1271635200</td>\n",
       "      <td>0.913953</td>\n",
       "      <td>1.0</td>\n",
       "    </tr>\n",
       "    <tr>\n",
       "      <th>1143806</th>\n",
       "      <td>B005HSG3BA</td>\n",
       "      <td>[27, 31]</td>\n",
       "      <td>3</td>\n",
       "      <td>My wife purchased my Kindle Fire for my birthd...</td>\n",
       "      <td>11 26, 2011</td>\n",
       "      <td>AOYW301DRHH3S</td>\n",
       "      <td>Jordan</td>\n",
       "      <td>it's a good product - *UPDATE* 12/8/12</td>\n",
       "      <td>1322265600</td>\n",
       "      <td>0.870968</td>\n",
       "      <td>1.0</td>\n",
       "    </tr>\n",
       "  </tbody>\n",
       "</table>\n",
       "</div>"
      ],
      "text/plain": [
       "               asin     helpful  overall  \\\n",
       "881145   B00428N9N6    [21, 24]        3   \n",
       "709299   B003554BP2    [18, 18]        5   \n",
       "863104   B003ZX8B0U    [57, 62]        5   \n",
       "699838   B00328HR76  [393, 430]        3   \n",
       "1143806  B005HSG3BA    [27, 31]        3   \n",
       "\n",
       "                                                reviewText   reviewTime  \\\n",
       "881145   I've owned a lot of different types of apple e...  12 10, 2010   \n",
       "709299   This is a great headset.  I feel that the soun...   05 4, 2010   \n",
       "863104   I am very impressed with the Nuvi 1350 LMT. It...  10 18, 2010   \n",
       "699838   I have been looking for a new P&S; for a while...  04 19, 2010   \n",
       "1143806  My wife purchased my Kindle Fire for my birthd...  11 26, 2011   \n",
       "\n",
       "             reviewerID      reviewerName  \\\n",
       "881145   A1W7R5ZAGVOSVQ  J. Lee \"imajeel\"   \n",
       "709299    A5Q1FK0FWU7DH                TC   \n",
       "863104   A17Q27EN1L7APM     MMG - Cary NC   \n",
       "699838   A1GJT9M1L8UDXX  Rick in Virginia   \n",
       "1143806   AOYW301DRHH3S            Jordan   \n",
       "\n",
       "                                                   summary  unixReviewTime  \\\n",
       "881145       The good and the not-so-good for me w/ these.      1291939200   \n",
       "709299                                         GREAT SOUND      1272931200   \n",
       "863104                                        Great Garmin      1287360000   \n",
       "699838   Sony hx5v - conveniences and function are over...      1271635200   \n",
       "1143806             it's a good product - *UPDATE* 12/8/12      1322265600   \n",
       "\n",
       "         helpful_avg  is_helpful  \n",
       "881145      0.875000         1.0  \n",
       "709299      1.000000         1.0  \n",
       "863104      0.919355         1.0  \n",
       "699838      0.913953         1.0  \n",
       "1143806     0.870968         1.0  "
      ]
     },
     "execution_count": 14,
     "metadata": {},
     "output_type": "execute_result"
    }
   ],
   "source": [
    "# View the shape and sample of the helpful reviews\n",
    "print(helpful_reviews.shape)\n",
    "helpful_reviews.sample(5)"
   ]
  },
  {
   "cell_type": "code",
   "execution_count": 15,
   "metadata": {
    "collapsed": true
   },
   "outputs": [],
   "source": [
    "not_helpful = amazon_reviews.loc[amazon_reviews['is_helpful'] == 0].sample(n=10721, random_state=17).copy()"
   ]
  },
  {
   "cell_type": "code",
   "execution_count": 16,
   "metadata": {},
   "outputs": [
    {
     "name": "stdout",
     "output_type": "stream",
     "text": [
      "(10721, 11)\n"
     ]
    },
    {
     "data": {
      "text/html": [
       "<div>\n",
       "<style>\n",
       "    .dataframe thead tr:only-child th {\n",
       "        text-align: right;\n",
       "    }\n",
       "\n",
       "    .dataframe thead th {\n",
       "        text-align: left;\n",
       "    }\n",
       "\n",
       "    .dataframe tbody tr th {\n",
       "        vertical-align: top;\n",
       "    }\n",
       "</style>\n",
       "<table border=\"1\" class=\"dataframe\">\n",
       "  <thead>\n",
       "    <tr style=\"text-align: right;\">\n",
       "      <th></th>\n",
       "      <th>asin</th>\n",
       "      <th>helpful</th>\n",
       "      <th>overall</th>\n",
       "      <th>reviewText</th>\n",
       "      <th>reviewTime</th>\n",
       "      <th>reviewerID</th>\n",
       "      <th>reviewerName</th>\n",
       "      <th>summary</th>\n",
       "      <th>unixReviewTime</th>\n",
       "      <th>helpful_avg</th>\n",
       "      <th>is_helpful</th>\n",
       "    </tr>\n",
       "  </thead>\n",
       "  <tbody>\n",
       "    <tr>\n",
       "      <th>435336</th>\n",
       "      <td>B001CCAISE</td>\n",
       "      <td>[0, 0]</td>\n",
       "      <td>5</td>\n",
       "      <td>This flash is amazing. I waited way too long t...</td>\n",
       "      <td>01 5, 2013</td>\n",
       "      <td>A13V4J4N36QCBI</td>\n",
       "      <td>Aaron V</td>\n",
       "      <td>Awesome.</td>\n",
       "      <td>1357344000</td>\n",
       "      <td>0.0</td>\n",
       "      <td>0.0</td>\n",
       "    </tr>\n",
       "    <tr>\n",
       "      <th>1047498</th>\n",
       "      <td>B004XY65WQ</td>\n",
       "      <td>[0, 0]</td>\n",
       "      <td>4</td>\n",
       "      <td>As many others have attested, the build qualit...</td>\n",
       "      <td>01 12, 2012</td>\n",
       "      <td>A1VVPB075Z58GR</td>\n",
       "      <td>CharlieJ</td>\n",
       "      <td>Good build quality, but not useful for strobes</td>\n",
       "      <td>1326326400</td>\n",
       "      <td>0.0</td>\n",
       "      <td>0.0</td>\n",
       "    </tr>\n",
       "    <tr>\n",
       "      <th>1124939</th>\n",
       "      <td>B005EZTUMU</td>\n",
       "      <td>[0, 0]</td>\n",
       "      <td>5</td>\n",
       "      <td>Good product pratic to use in order to project...</td>\n",
       "      <td>01 29, 2013</td>\n",
       "      <td>A1JBP3UKN0ENRA</td>\n",
       "      <td>Moy</td>\n",
       "      <td>Cable for easy purpose</td>\n",
       "      <td>1359417600</td>\n",
       "      <td>0.0</td>\n",
       "      <td>0.0</td>\n",
       "    </tr>\n",
       "    <tr>\n",
       "      <th>1001720</th>\n",
       "      <td>B004PYEBY8</td>\n",
       "      <td>[0, 0]</td>\n",
       "      <td>5</td>\n",
       "      <td>Great 3D glasses and for only 29$ you cant bea...</td>\n",
       "      <td>10 27, 2011</td>\n",
       "      <td>A2U4GT7F7DNWYG</td>\n",
       "      <td>guidry23</td>\n",
       "      <td>Great 3D glasses for the price</td>\n",
       "      <td>1319673600</td>\n",
       "      <td>0.0</td>\n",
       "      <td>0.0</td>\n",
       "    </tr>\n",
       "    <tr>\n",
       "      <th>57730</th>\n",
       "      <td>B00008SCFL</td>\n",
       "      <td>[0, 0]</td>\n",
       "      <td>1</td>\n",
       "      <td>The signal strength is good.  That's about it....</td>\n",
       "      <td>11 20, 2011</td>\n",
       "      <td>A3P37585DIKURI</td>\n",
       "      <td>Amazon Customer</td>\n",
       "      <td>Will never buy another Netgear product.  Ever.</td>\n",
       "      <td>1321747200</td>\n",
       "      <td>0.0</td>\n",
       "      <td>0.0</td>\n",
       "    </tr>\n",
       "  </tbody>\n",
       "</table>\n",
       "</div>"
      ],
      "text/plain": [
       "               asin helpful  overall  \\\n",
       "435336   B001CCAISE  [0, 0]        5   \n",
       "1047498  B004XY65WQ  [0, 0]        4   \n",
       "1124939  B005EZTUMU  [0, 0]        5   \n",
       "1001720  B004PYEBY8  [0, 0]        5   \n",
       "57730    B00008SCFL  [0, 0]        1   \n",
       "\n",
       "                                                reviewText   reviewTime  \\\n",
       "435336   This flash is amazing. I waited way too long t...   01 5, 2013   \n",
       "1047498  As many others have attested, the build qualit...  01 12, 2012   \n",
       "1124939  Good product pratic to use in order to project...  01 29, 2013   \n",
       "1001720  Great 3D glasses and for only 29$ you cant bea...  10 27, 2011   \n",
       "57730    The signal strength is good.  That's about it....  11 20, 2011   \n",
       "\n",
       "             reviewerID     reviewerName  \\\n",
       "435336   A13V4J4N36QCBI          Aaron V   \n",
       "1047498  A1VVPB075Z58GR         CharlieJ   \n",
       "1124939  A1JBP3UKN0ENRA              Moy   \n",
       "1001720  A2U4GT7F7DNWYG         guidry23   \n",
       "57730    A3P37585DIKURI  Amazon Customer   \n",
       "\n",
       "                                                summary  unixReviewTime  \\\n",
       "435336                                         Awesome.      1357344000   \n",
       "1047498  Good build quality, but not useful for strobes      1326326400   \n",
       "1124939                          Cable for easy purpose      1359417600   \n",
       "1001720                  Great 3D glasses for the price      1319673600   \n",
       "57730    Will never buy another Netgear product.  Ever.      1321747200   \n",
       "\n",
       "         helpful_avg  is_helpful  \n",
       "435336           0.0         0.0  \n",
       "1047498          0.0         0.0  \n",
       "1124939          0.0         0.0  \n",
       "1001720          0.0         0.0  \n",
       "57730            0.0         0.0  "
      ]
     },
     "execution_count": 16,
     "metadata": {},
     "output_type": "execute_result"
    }
   ],
   "source": [
    "# View the shape and sample of the unhelpful reviews\n",
    "print(not_helpful.shape)\n",
    "not_helpful.sample(5)"
   ]
  },
  {
   "cell_type": "code",
   "execution_count": 17,
   "metadata": {
    "collapsed": true
   },
   "outputs": [],
   "source": [
    "# Join the two subsets to make a ballanced sample\n",
    "reviews_ballanced_sample = pd.concat([helpful_reviews, not_helpful], axis=0)"
   ]
  },
  {
   "cell_type": "markdown",
   "metadata": {},
   "source": [
    "### Try it Out:"
   ]
  },
  {
   "cell_type": "markdown",
   "metadata": {},
   "source": [
    "Preview the new ballanced data set. Make sure ther eare intances of each class in the preview."
   ]
  },
  {
   "cell_type": "code",
   "execution_count": 18,
   "metadata": {
    "collapsed": true
   },
   "outputs": [],
   "source": [
    "# Your Code here\n",
    "\n",
    "\n"
   ]
  },
  {
   "cell_type": "markdown",
   "metadata": {},
   "source": [
    "#### Hint:"
   ]
  },
  {
   "cell_type": "code",
   "execution_count": 19,
   "metadata": {},
   "outputs": [
    {
     "name": "stdout",
     "output_type": "stream",
     "text": [
      "(21442, 11)\n"
     ]
    },
    {
     "data": {
      "text/html": [
       "<div>\n",
       "<style>\n",
       "    .dataframe thead tr:only-child th {\n",
       "        text-align: right;\n",
       "    }\n",
       "\n",
       "    .dataframe thead th {\n",
       "        text-align: left;\n",
       "    }\n",
       "\n",
       "    .dataframe tbody tr th {\n",
       "        vertical-align: top;\n",
       "    }\n",
       "</style>\n",
       "<table border=\"1\" class=\"dataframe\">\n",
       "  <thead>\n",
       "    <tr style=\"text-align: right;\">\n",
       "      <th></th>\n",
       "      <th>asin</th>\n",
       "      <th>helpful</th>\n",
       "      <th>overall</th>\n",
       "      <th>reviewText</th>\n",
       "      <th>reviewTime</th>\n",
       "      <th>reviewerID</th>\n",
       "      <th>reviewerName</th>\n",
       "      <th>summary</th>\n",
       "      <th>unixReviewTime</th>\n",
       "      <th>helpful_avg</th>\n",
       "      <th>is_helpful</th>\n",
       "    </tr>\n",
       "  </thead>\n",
       "  <tbody>\n",
       "    <tr>\n",
       "      <th>152725</th>\n",
       "      <td>B0009GZAGO</td>\n",
       "      <td>[16, 26]</td>\n",
       "      <td>5</td>\n",
       "      <td>I have owned two Nikon cameras, the Coolpix 31...</td>\n",
       "      <td>08 1, 2005</td>\n",
       "      <td>ACFKCAG2XAE4R</td>\n",
       "      <td>Robert Anthony Reis</td>\n",
       "      <td>First impressions</td>\n",
       "      <td>1122854400</td>\n",
       "      <td>0.615385</td>\n",
       "      <td>1.0</td>\n",
       "    </tr>\n",
       "    <tr>\n",
       "      <th>695551</th>\n",
       "      <td>B00316263Y</td>\n",
       "      <td>[0, 0]</td>\n",
       "      <td>5</td>\n",
       "      <td>HDMI is digital, so it doesn't matter what mat...</td>\n",
       "      <td>03 17, 2010</td>\n",
       "      <td>A3GDOJ8I9Y52Z6</td>\n",
       "      <td>J. Levy \"Euthyphro\"</td>\n",
       "      <td>Works fine. Save money and get this cable.</td>\n",
       "      <td>1268784000</td>\n",
       "      <td>0.000000</td>\n",
       "      <td>0.0</td>\n",
       "    </tr>\n",
       "    <tr>\n",
       "      <th>732043</th>\n",
       "      <td>B0038XNTWW</td>\n",
       "      <td>[9, 10]</td>\n",
       "      <td>5</td>\n",
       "      <td>I normally don't write reviews too often becau...</td>\n",
       "      <td>05 21, 2013</td>\n",
       "      <td>A2OM77OVT83L37</td>\n",
       "      <td>Jonicraw \"Jona\"</td>\n",
       "      <td>Have A PS3? Black Screen When Using HDMI? HDCP...</td>\n",
       "      <td>1369094400</td>\n",
       "      <td>0.900000</td>\n",
       "      <td>1.0</td>\n",
       "    </tr>\n",
       "    <tr>\n",
       "      <th>959474</th>\n",
       "      <td>B004HW7E2O</td>\n",
       "      <td>[56, 56]</td>\n",
       "      <td>5</td>\n",
       "      <td>I have had the Canon HV20 HD camcorder and oth...</td>\n",
       "      <td>04 15, 2011</td>\n",
       "      <td>A35T9EFTAM3XRF</td>\n",
       "      <td>C. Williams</td>\n",
       "      <td>Canon M41 Awesome HD Video (Prior Canon HV20 O...</td>\n",
       "      <td>1302825600</td>\n",
       "      <td>1.000000</td>\n",
       "      <td>1.0</td>\n",
       "    </tr>\n",
       "    <tr>\n",
       "      <th>595894</th>\n",
       "      <td>B002G1YPIE</td>\n",
       "      <td>[2, 2]</td>\n",
       "      <td>4</td>\n",
       "      <td>A LOT has already been said about this unit an...</td>\n",
       "      <td>05 30, 2013</td>\n",
       "      <td>A1TR3G8YUR8QMG</td>\n",
       "      <td>Cecil</td>\n",
       "      <td>Great GPS Poor Manual</td>\n",
       "      <td>1369872000</td>\n",
       "      <td>0.000000</td>\n",
       "      <td>0.0</td>\n",
       "    </tr>\n",
       "  </tbody>\n",
       "</table>\n",
       "</div>"
      ],
      "text/plain": [
       "              asin   helpful  overall  \\\n",
       "152725  B0009GZAGO  [16, 26]        5   \n",
       "695551  B00316263Y    [0, 0]        5   \n",
       "732043  B0038XNTWW   [9, 10]        5   \n",
       "959474  B004HW7E2O  [56, 56]        5   \n",
       "595894  B002G1YPIE    [2, 2]        4   \n",
       "\n",
       "                                               reviewText   reviewTime  \\\n",
       "152725  I have owned two Nikon cameras, the Coolpix 31...   08 1, 2005   \n",
       "695551  HDMI is digital, so it doesn't matter what mat...  03 17, 2010   \n",
       "732043  I normally don't write reviews too often becau...  05 21, 2013   \n",
       "959474  I have had the Canon HV20 HD camcorder and oth...  04 15, 2011   \n",
       "595894  A LOT has already been said about this unit an...  05 30, 2013   \n",
       "\n",
       "            reviewerID         reviewerName  \\\n",
       "152725   ACFKCAG2XAE4R  Robert Anthony Reis   \n",
       "695551  A3GDOJ8I9Y52Z6  J. Levy \"Euthyphro\"   \n",
       "732043  A2OM77OVT83L37      Jonicraw \"Jona\"   \n",
       "959474  A35T9EFTAM3XRF          C. Williams   \n",
       "595894  A1TR3G8YUR8QMG                Cecil   \n",
       "\n",
       "                                                  summary  unixReviewTime  \\\n",
       "152725                                  First impressions      1122854400   \n",
       "695551         Works fine. Save money and get this cable.      1268784000   \n",
       "732043  Have A PS3? Black Screen When Using HDMI? HDCP...      1369094400   \n",
       "959474  Canon M41 Awesome HD Video (Prior Canon HV20 O...      1302825600   \n",
       "595894                              Great GPS Poor Manual      1369872000   \n",
       "\n",
       "        helpful_avg  is_helpful  \n",
       "152725     0.615385         1.0  \n",
       "695551     0.000000         0.0  \n",
       "732043     0.900000         1.0  \n",
       "959474     1.000000         1.0  \n",
       "595894     0.000000         0.0  "
      ]
     },
     "execution_count": 19,
     "metadata": {},
     "output_type": "execute_result"
    }
   ],
   "source": [
    "# Preview our ballanced data set\n",
    "print(reviews_ballanced_sample.shape)\n",
    "reviews_ballanced_sample.sample(5, random_state=17)"
   ]
  },
  {
   "cell_type": "markdown",
   "metadata": {},
   "source": [
    "## Manually Vectorize the Text and Predict"
   ]
  },
  {
   "cell_type": "code",
   "execution_count": 20,
   "metadata": {
    "collapsed": true
   },
   "outputs": [],
   "source": [
    "# Basic stuff just in case it isn't loaded already\n",
    "import numpy as np\n",
    "import pandas as pd\n",
    "import matplotlib.pyplot as plt\n",
    "%matplotlib inline\n",
    "\n",
    "# For splitting our data in to training and test sets\n",
    "from sklearn.model_selection import train_test_split\n",
    "\n",
    "# For our vectorizing and modeling pipeline\n",
    "from sklearn.preprocessing import FunctionTransformer\n",
    "from sklearn.pipeline import Pipeline #, make_pipeline, make_union\n",
    "from pprint import pprint\n",
    "from time import time\n",
    "from sklearn.model_selection import GridSearchCV\n",
    "# import logging\n",
    "\n",
    "# For vectorizing and tokenizing our text\n",
    "from sklearn.feature_extraction.text import CountVectorizer, TfidfVectorizer\n",
    "import spacy                        \n",
    "nlp = spacy.load('en') \n",
    "\n",
    "# Classifiers\n",
    "from sklearn.naive_bayes import MultinomialNB\n",
    "from sklearn.svm import LinearSVC\n",
    "\n",
    "# Metrics\n",
    "from sklearn.metrics import accuracy_score, confusion_matrix, classification_report"
   ]
  },
  {
   "cell_type": "code",
   "execution_count": 21,
   "metadata": {
    "collapsed": true
   },
   "outputs": [],
   "source": [
    "# Take a sample of the data set for quicker processing.\n",
    "sample = reviews_ballanced_sample.sample(n=1000, random_state=17)"
   ]
  },
  {
   "cell_type": "code",
   "execution_count": 22,
   "metadata": {
    "scrolled": true
   },
   "outputs": [
    {
     "data": {
      "text/plain": [
       "(1000, 11)"
      ]
     },
     "execution_count": 22,
     "metadata": {},
     "output_type": "execute_result"
    }
   ],
   "source": [
    "# Confirm the shape of the sample\n",
    "sample.shape"
   ]
  },
  {
   "cell_type": "markdown",
   "metadata": {},
   "source": [
    "### Split out X, y"
   ]
  },
  {
   "cell_type": "code",
   "execution_count": 23,
   "metadata": {
    "collapsed": true
   },
   "outputs": [],
   "source": [
    "# Setup training and final test data\n",
    "# If you want to run on the full set just replace\n",
    "# Sample with the full data set\n",
    "\n",
    "X = sample\n",
    "y = sample['is_helpful']\n",
    "X_train, X_test, y_train, y_test = train_test_split(X, y, stratify=y, test_size=0.33, random_state=17)"
   ]
  },
  {
   "cell_type": "markdown",
   "metadata": {},
   "source": [
    "### Try it Out:"
   ]
  },
  {
   "cell_type": "markdown",
   "metadata": {},
   "source": [
    "Preview the length/shape of X_train, y_train, X_test and y_test"
   ]
  },
  {
   "cell_type": "code",
   "execution_count": 24,
   "metadata": {
    "collapsed": true
   },
   "outputs": [],
   "source": [
    "# Your code here\n",
    "\n",
    "\n"
   ]
  },
  {
   "cell_type": "markdown",
   "metadata": {},
   "source": [
    "#### Hint:"
   ]
  },
  {
   "cell_type": "code",
   "execution_count": 25,
   "metadata": {},
   "outputs": [
    {
     "name": "stdout",
     "output_type": "stream",
     "text": [
      "x train: (670, 11)\n",
      "y train: 670\n",
      "x test: (330, 11)\n",
      "y test: 330\n"
     ]
    }
   ],
   "source": [
    "print(\"x train:\", X_train.shape)\n",
    "print(\"y train:\", len(y_train))\n",
    "print(\"x test:\", X_test.shape)\n",
    "print(\"y test:\", len(y_test))"
   ]
  },
  {
   "cell_type": "markdown",
   "metadata": {},
   "source": [
    "### Try it Out: — Extract the Review Column from X_train and X_test:"
   ]
  },
  {
   "cell_type": "code",
   "execution_count": 26,
   "metadata": {
    "collapsed": true
   },
   "outputs": [],
   "source": [
    "# Returns the review text column from the data frame\n",
    "def review_extractor(dataframe):\n",
    "    return dataframe['reviewText'].tolist()"
   ]
  },
  {
   "cell_type": "markdown",
   "metadata": {},
   "source": [
    "Use the *review_extractor* to pull out the *reviewText* column from the data frame for X_train and X_test. You can accomplish this by passing in the whole data frame to the funciton. Set the result to a new variables called *review_text_train* and *review_text_text*. Confirm that the variables are a list, see how long each list is and display a few items from each list."
   ]
  },
  {
   "cell_type": "code",
   "execution_count": 27,
   "metadata": {
    "collapsed": true
   },
   "outputs": [],
   "source": [
    "# Your code here\n",
    "\n",
    "\n"
   ]
  },
  {
   "cell_type": "markdown",
   "metadata": {},
   "source": [
    "#### Hint:"
   ]
  },
  {
   "cell_type": "code",
   "execution_count": 28,
   "metadata": {},
   "outputs": [
    {
     "name": "stdout",
     "output_type": "stream",
     "text": [
      "Training Data:\n",
      "type:  <class 'list'>\n",
      "length:  670\n",
      "['Eneloop batteries are such a great value.  This kit is a great starter.  I have had one for several years and bought this one to get my Dad started.  He was using alkaline batteries in his Digital Camera.  I do that in a pinch at DisneyLand but otherwise they go through batteries way too quickly.  Get Eneloops and stop wasting money on every new set of batteries.This kit costs approx 4x what a comparable set of alkaline batteries will.  After the 4th charge it will be money in the bank for every recharge after that.Eneloops are not the rechargeable batteries of the past.  They do not have \"memory\" problems.  They carry sufficient charge to be an alkaline replacement.  They recharge quickly (as quick as 1 hour with the right charger).  They do not loose charge like traditional rechargeable batteries.  They will retain 80% of their charge 1 year later sitting on a shelf.If you haven\\'t tried Eneloop yet stop wondering and buy these.', \"I am well aware that some will accuse me of bias here. However,let me point out that when I bought the first gen iPad I compared to to my Vaio X Netbook and I had come to the conclusion that if I had to give up one of the twit would be the iPad.Now, a year and a half later I have an iPad 2 and instead of getting another iPad I decided to get the Samsung Tab 10.1 from Staples. Here are my pros and cons of the Tab v. The iPad 2. Overall,  if I had to choose just one it would be a no contest. The iPad 2 is a much better tablet - unless you are predisposed Android. So here is how they stacked up for me:1. Look and feel - iPad. The iPad has a form factor that allows it to be used in portrait and landscape mode, the Tab is unnatural in portrait mode (too long and thin). The metal back and minimalist styling of the iPad also beats the plasticy but slim Tab. The Tab however, is better than any other Android Tablet in look and feel by a mile. Also, i bet most people will prefer the physical home button on the iPad 2 and the absolute simplicity in finding and using apps. The Tab has some superfluous widgets like the weather and others to can put on the home screen. But again, unless you are an Android fan already they do NOT enhance the tablet experience.2. Apps - iPad. It does not matter what you use your tablet for. Movies, games, office productivity apps, taking notes, video chatting...the apps on the iPad are simply a notch above the Tab. While Flash works great on the Tab, 99%of the time what you'll see are e annoying flash ads. Plus, what I have found is that there are very very few sites that you can't access the main content because of flash. If you can't get to the web site, they have an app. and the app is always better than the flash site. Be aware that3. Display - Tie. You have to do a side by side to realize that both are the same when it comes t web sites and text. However, there are way more iPad specific apps than their are apps for the Tab. In all cases, those apps look much better on the iPad. This includes Amazon Mobile, Pandora and Skype and of course many many games. In reality, if you want to use the display of your tablet to the max, the ipad gives you way more content to work with.4. Media - iPad. The convenience of the iTunes store and the iPod media player is simply better in my opinion. You should decode which you prefer5. Battery life - iPad. At least 30-40% better battery life.6. Accessories- iPad . The smart case + tons of 3rd party.7. Camera - Tab on specs, but same for video chatting. If you use the camera on your tablet for taking photos. However, for video chatting both look exactly the same to the receiver. It does not matter that the front camera on the Tab is higher resolution, the performance is the same when video chatting. Also, FaceTime on the iPad is the easiest to use and the best if the receiver is also on an iOS devce. Finally, there is no Tab equivalent for Skype on the iPad - which I use as my default video chatting device.8. Web Browser - Tab. The web browser on the Tab is faster and allows you to access flash sites. With the iPad you'll need to buy an app to view flash. There are multiple apps on the app store that you can use to view flash. So it is NOT true that you cannot access flash from an iPad - you can't from the Safari browser.9. EBooks reader- iPad. All the eBookstore apps are optimized for the iPad, while none of the major ebookstores have apps optimized for the Tab.10. Others - AirPlay is another neat iPad feature if you have an Apple TV.It should not be surprising that 8/10 people will prefer the iPad to the Tab. Those who claim that people are buying the iPad over the Tab only because they are loyal to the Apple brand are misinformed. I just listed 9 reasons. I don't care whether it is locked down or not. Customizing the home page is not the reason to own a tablet. If it is for you....then go for the Tab.I own a Tab. It is a good tablet in it's own way. It just isn't better than an iPad 2 - not even close when you consider all things.\"]\n",
      "\n",
      "=======\n",
      "\n",
      "Test Data:\n",
      "type:  <class 'list'>\n",
      "length:  330\n",
      "[\"this is my first mac. my PC broke and i didn't want to hassle with it anymore so i took the chance and bit into the apple.i already have a nice sony monitor so i purchased the mini (with 1g RAM) and the wireless keyboard and mouse. i've had my mini for a week and love it.it was easy to set up right out the box. my network was recognized and i was doing basic stuff like surfing the internet, working with pictures, and using iTunes without a problem. i was pleasantly surprised to find inexpensive 3rd party apps and was doing fun stuff like ripping dvd's to my iPod and downloading from usenet. i  have had no problems playing any movie from my huge avi collection.overall this is just a nice system to work and play on. it seems fast compared to my PC (Windows XP, pentium IV @ 3g with 2000 RAM) and has the feel of a modern computer.i am giving it 4 stars since music is really important to me and i was initially freaking out in regards to audio quality. it just didn't sound as good as the music from my PC (which had a soundblaster audio card). so i purchased the soundblaster XFi and that helped some. still disapointed i further experimented and then tried turning down the system sound (i now have mine about 25%) and let the amp in my bose companion 3 speakers do the work. this made my music sound sweet and was a big relief. i am picky though, so if you think mp3's encoded @ 128k sound OK then audio probably won't be an issue.so i just like this thing!! i have the mini with OS X and a toshiba qosmio running XP; the mini is just more pleasant to use.\", 'I waited 2 years before posting a review so I could use this tripod extensively.  As a low/no budget filmmaker, I really enjoy working with it.  The fluid head makes for some extremely smooth pans/camera movements.  Plus it is wicked sturdy and easy to adjust.  Definitely recommend.']\n"
     ]
    }
   ],
   "source": [
    "# Pull out the review column from X_train\n",
    "review_text_train = review_extractor(X_train)\n",
    "review_text_test = review_extractor(X_test)\n",
    "\n",
    "# Display the first two reviews and the length of the array\n",
    "print(\"Training Data:\")\n",
    "print(\"type: \", type(review_text_train))\n",
    "print(\"length: \", len(review_text_train))\n",
    "print(review_text_train[0:2])\n",
    "\n",
    "print(\"\\n=======\")\n",
    "\n",
    "print(\"\\nTest Data:\")\n",
    "print(\"type: \", type(review_text_test))\n",
    "print(\"length: \", len(review_text_test))\n",
    "print(review_text_test[0:2])"
   ]
  },
  {
   "cell_type": "markdown",
   "metadata": {},
   "source": [
    "### Try it Out — Tokenize the Text:"
   ]
  },
  {
   "cell_type": "markdown",
   "metadata": {},
   "source": [
    "Vectorize the X_train and X_test using either CountVectorizer or TfidfVectorizer and the spaCy tokenizer below. Pass in *review_text_train* and *review_text_test* from the previous step. Set the results to new variables *vec_text_train*, and *vec_text_test*. When vectorizing the training text use `.fit_transoform()`, then use the same instance of your vectorizer with only `.transform()` on the test text. Verify that the resulting sparce matrices are the same width.\n",
    "\n",
    "**What happens to the shape of *vec_text_train*, and *vec_text_test* if you use `.fit_transform()` on both the train and test text? Why is this a bad idea?**"
   ]
  },
  {
   "cell_type": "code",
   "execution_count": 29,
   "metadata": {
    "collapsed": true
   },
   "outputs": [],
   "source": [
    "# Custom tokenizer using SpaCy\n",
    "def spacy_tokenizer(doc_as_string):\n",
    "    spacy_doc = nlp(doc_as_string)\n",
    "\n",
    "    tokens = []\n",
    "    for tok in spacy_doc:\n",
    "        if tok.like_email == True:\n",
    "            tokens.append('email')\n",
    "        elif tok.like_url:\n",
    "            tokens.append('URL')\n",
    "        elif tok.lemma_ == \"-PRON-\":\n",
    "            tokens.append(tok.lower_)\n",
    "        elif tok.is_alpha == True:\n",
    "            tokens.append(tok.lemma_)\n",
    "    return tokens"
   ]
  },
  {
   "cell_type": "code",
   "execution_count": 30,
   "metadata": {
    "collapsed": true
   },
   "outputs": [],
   "source": [
    "# Your code here\n",
    "\n",
    "\n"
   ]
  },
  {
   "cell_type": "markdown",
   "metadata": {},
   "source": [
    "#### Hint:"
   ]
  },
  {
   "cell_type": "code",
   "execution_count": 31,
   "metadata": {
    "collapsed": true
   },
   "outputs": [],
   "source": [
    "TFIDF = TfidfVectorizer(tokenizer=spacy_tokenizer)\n",
    "vec_text_train = TFIDF.fit_transform(review_text_train)\n",
    "vec_text_test = TFIDF.transform(review_text_test)"
   ]
  },
  {
   "cell_type": "code",
   "execution_count": 32,
   "metadata": {},
   "outputs": [
    {
     "data": {
      "text/plain": [
       "<670x6588 sparse matrix of type '<class 'numpy.float64'>'\n",
       "\twith 66263 stored elements in Compressed Sparse Row format>"
      ]
     },
     "execution_count": 32,
     "metadata": {},
     "output_type": "execute_result"
    }
   ],
   "source": [
    "vec_text_train"
   ]
  },
  {
   "cell_type": "code",
   "execution_count": 33,
   "metadata": {
    "scrolled": false
   },
   "outputs": [
    {
     "data": {
      "text/plain": [
       "<330x6588 sparse matrix of type '<class 'numpy.float64'>'\n",
       "\twith 30146 stored elements in Compressed Sparse Row format>"
      ]
     },
     "execution_count": 33,
     "metadata": {},
     "output_type": "execute_result"
    }
   ],
   "source": [
    "vec_text_test"
   ]
  },
  {
   "cell_type": "code",
   "execution_count": 34,
   "metadata": {
    "collapsed": true
   },
   "outputs": [],
   "source": [
    "# 2nd time using fit_transform for both\n",
    "TFIDF = TfidfVectorizer(tokenizer=spacy_tokenizer)\n",
    "vec_text_train_2 = TFIDF.fit_transform(review_text_train)\n",
    "vec_text_test_2 = TFIDF.fit_transform(review_text_test)"
   ]
  },
  {
   "cell_type": "code",
   "execution_count": 35,
   "metadata": {},
   "outputs": [
    {
     "data": {
      "text/plain": [
       "<670x6590 sparse matrix of type '<class 'numpy.float64'>'\n",
       "\twith 66266 stored elements in Compressed Sparse Row format>"
      ]
     },
     "execution_count": 35,
     "metadata": {},
     "output_type": "execute_result"
    }
   ],
   "source": [
    "vec_text_train_2"
   ]
  },
  {
   "cell_type": "code",
   "execution_count": 36,
   "metadata": {
    "scrolled": true
   },
   "outputs": [
    {
     "data": {
      "text/plain": [
       "<330x4681 sparse matrix of type '<class 'numpy.float64'>'\n",
       "\twith 31708 stored elements in Compressed Sparse Row format>"
      ]
     },
     "execution_count": 36,
     "metadata": {},
     "output_type": "execute_result"
    }
   ],
   "source": [
    "vec_text_test_2"
   ]
  },
  {
   "cell_type": "markdown",
   "metadata": {},
   "source": [
    "### Train the Model and Predict"
   ]
  },
  {
   "cell_type": "markdown",
   "metadata": {},
   "source": [
    "We'll use a multinomial Naive Bayes as our baseline model. See the docs for more: [MultinomialNB](http://scikit-learn.org/stable/modules/generated/sklearn.naive_bayes.MultinomialNB.html)."
   ]
  },
  {
   "cell_type": "code",
   "execution_count": 37,
   "metadata": {
    "collapsed": true
   },
   "outputs": [],
   "source": [
    "# Fit the classifier\n",
    "clf = MultinomialNB()\n",
    "clf.fit(vec_text_train, y_train)\n",
    "\n",
    "# Generate Predictions\n",
    "y_predictions = clf.predict(vec_text_test)"
   ]
  },
  {
   "cell_type": "markdown",
   "metadata": {},
   "source": [
    "### Try it Out — View the Predictions:"
   ]
  },
  {
   "cell_type": "markdown",
   "metadata": {},
   "source": [
    "Print or display the y_predicitons to see the results."
   ]
  },
  {
   "cell_type": "code",
   "execution_count": 38,
   "metadata": {
    "collapsed": true
   },
   "outputs": [],
   "source": [
    "# Your code here\n",
    "\n"
   ]
  },
  {
   "cell_type": "markdown",
   "metadata": {},
   "source": [
    "#### Hint:"
   ]
  },
  {
   "cell_type": "code",
   "execution_count": 39,
   "metadata": {},
   "outputs": [
    {
     "data": {
      "text/plain": [
       "array([ 1.,  1.,  1.,  1.,  1.,  1.,  1.,  0.,  0.,  1.,  1.,  0.,  0.,\n",
       "        1.,  0.,  1.,  1.,  1.,  1.,  1.,  1.,  1.,  1.,  1.,  1.,  1.,\n",
       "        0.,  1.,  1.,  1.,  1.,  1.,  1.,  1.,  1.,  1.,  1.,  1.,  1.,\n",
       "        1.,  1.,  1.,  1.,  1.,  1.,  0.,  1.,  1.,  1.,  1.,  1.,  0.,\n",
       "        1.,  1.,  1.,  1.,  0.,  1.,  1.,  1.,  1.,  1.,  0.,  1.,  1.,\n",
       "        1.,  0.,  1.,  0.,  1.,  1.,  1.,  0.,  1.,  1.,  1.,  0.,  0.,\n",
       "        1.,  1.,  1.,  0.,  0.,  1.,  1.,  1.,  1.,  1.,  1.,  1.,  0.,\n",
       "        1.,  1.,  1.,  1.,  0.,  1.,  1.,  1.,  1.,  1.,  1.,  1.,  1.,\n",
       "        1.,  0.,  1.,  1.,  1.,  1.,  1.,  1.,  1.,  1.,  0.,  1.,  1.,\n",
       "        1.,  1.,  1.,  1.,  1.,  1.,  1.,  1.,  1.,  1.,  1.,  1.,  1.,\n",
       "        1.,  1.,  1.,  1.,  1.,  1.,  0.,  1.,  1.,  1.,  1.,  1.,  1.,\n",
       "        1.,  0.,  1.,  1.,  1.,  1.,  1.,  1.,  1.,  1.,  1.,  1.,  1.,\n",
       "        1.,  0.,  1.,  1.,  1.,  0.,  0.,  1.,  1.,  1.,  1.,  1.,  1.,\n",
       "        1.,  1.,  1.,  1.,  0.,  1.,  1.,  1.,  0.,  0.,  1.,  0.,  1.,\n",
       "        1.,  1.,  0.,  1.,  1.,  1.,  1.,  0.,  1.,  1.,  1.,  1.,  1.,\n",
       "        0.,  1.,  1.,  0.,  1.,  1.,  1.,  1.,  0.,  1.,  1.,  1.,  1.,\n",
       "        1.,  1.,  1.,  1.,  1.,  1.,  1.,  1.,  1.,  1.,  1.,  1.,  1.,\n",
       "        1.,  1.,  1.,  1.,  1.,  1.,  1.,  1.,  1.,  1.,  0.,  1.,  1.,\n",
       "        1.,  0.,  0.,  0.,  1.,  1.,  1.,  1.,  1.,  1.,  1.,  1.,  0.,\n",
       "        1.,  0.,  1.,  1.,  1.,  1.,  1.,  1.,  1.,  0.,  1.,  1.,  1.,\n",
       "        1.,  1.,  1.,  1.,  1.,  1.,  1.,  0.,  1.,  0.,  1.,  1.,  1.,\n",
       "        0.,  1.,  1.,  1.,  1.,  1.,  1.,  1.,  1.,  0.,  1.,  1.,  1.,\n",
       "        1.,  0.,  1.,  1.,  1.,  0.,  1.,  1.,  1.,  1.,  0.,  1.,  1.,\n",
       "        1.,  0.,  1.,  1.,  1.,  1.,  1.,  0.,  1.,  1.,  1.,  1.,  1.,\n",
       "        1.,  0.,  1.,  1.,  0.,  1.,  1.,  1.,  1.,  1.,  1.,  1.,  1.,\n",
       "        1.,  1.,  0.,  1.,  1.])"
      ]
     },
     "execution_count": 39,
     "metadata": {},
     "output_type": "execute_result"
    }
   ],
   "source": [
    "y_predictions"
   ]
  },
  {
   "cell_type": "markdown",
   "metadata": {},
   "source": [
    "### Evaluate the Model"
   ]
  },
  {
   "cell_type": "markdown",
   "metadata": {},
   "source": [
    "We can accuracy score to get a broad idea of how well out classifier is doing. We pass in the correct label, and then the predicted label and the percentage of accurate predictions is returned. **How well did our classifier do?**"
   ]
  },
  {
   "cell_type": "code",
   "execution_count": 40,
   "metadata": {},
   "outputs": [
    {
     "name": "stdout",
     "output_type": "stream",
     "text": [
      "0.6\n"
     ]
    }
   ],
   "source": [
    "score = accuracy_score(y_test, y_predictions)\n",
    "print(score)"
   ]
  },
  {
   "cell_type": "markdown",
   "metadata": {},
   "source": [
    "### Try it Out:"
   ]
  },
  {
   "cell_type": "markdown",
   "metadata": {},
   "source": [
    "Go back through the steps above and make adjustments to the vectorization and the paramters of multinomial Naive Bayes to see if you can improve the accuracy score. **What is the top score you can acheive?**"
   ]
  },
  {
   "cell_type": "markdown",
   "metadata": {},
   "source": [
    "## Model Pipeline"
   ]
  },
  {
   "cell_type": "markdown",
   "metadata": {},
   "source": [
    "Thankfully there is a better way. We can use scikit learn pipelines to efficiently go through the steps above and iterate over differen parameters.\n",
    "\n",
    "Pipeline docs: [scikit learn Pipeline](http://scikit-learn.org/stable/modules/generated/sklearn.pipeline.Pipeline.html)."
   ]
  },
  {
   "cell_type": "code",
   "execution_count": 41,
   "metadata": {
    "collapsed": true
   },
   "outputs": [],
   "source": [
    "# Returns the review text column from the data frame\n",
    "def review_extractor(dataframe):\n",
    "    return dataframe['reviewText'].tolist()"
   ]
  },
  {
   "cell_type": "code",
   "execution_count": 42,
   "metadata": {
    "collapsed": true
   },
   "outputs": [],
   "source": [
    "# Setup training and final test data\n",
    "# If you want to run on the full set just replace\n",
    "# Sample with the full data set\n",
    "\n",
    "X = sample\n",
    "y = sample['is_helpful']\n",
    "X_train, X_test, y_train, y_test = train_test_split(X, y, stratify=y, test_size=0.33, random_state=17)"
   ]
  },
  {
   "cell_type": "code",
   "execution_count": 43,
   "metadata": {
    "collapsed": true
   },
   "outputs": [],
   "source": [
    "# Returns the review text column from the data frame\n",
    "def review_extractor(dataframe):\n",
    "    return dataframe['reviewText'].tolist()"
   ]
  },
  {
   "cell_type": "code",
   "execution_count": 44,
   "metadata": {
    "collapsed": true
   },
   "outputs": [],
   "source": [
    "# Custom tokenizer using SpaCy\n",
    "def spacy_tokenizer(doc_as_string):\n",
    "    spacy_doc = nlp(doc_as_string)\n",
    "\n",
    "    tokens = []\n",
    "    for tok in spacy_doc:\n",
    "        if tok.like_email == True:\n",
    "            tokens.append('email')\n",
    "        elif tok.like_url:\n",
    "            tokens.append('URL')\n",
    "        elif tok.lemma_ == \"-PRON-\":\n",
    "            tokens.append(tok.lower_)\n",
    "        elif tok.is_alpha == True:\n",
    "            tokens.append(tok.lemma_)\n",
    "    return tokens"
   ]
  },
  {
   "cell_type": "code",
   "execution_count": 45,
   "metadata": {
    "collapsed": true
   },
   "outputs": [],
   "source": [
    "pipeline = Pipeline([\n",
    "    ('extractor', FunctionTransformer(review_extractor, validate=False)),\n",
    "    ('vect', TfidfVectorizer()),\n",
    "    ('clf',MultinomialNB())\n",
    "])"
   ]
  },
  {
   "cell_type": "code",
   "execution_count": 46,
   "metadata": {
    "collapsed": true
   },
   "outputs": [],
   "source": [
    "# uncommenting more parameters will give better exploring power but will\n",
    "# increase processing time\n",
    "parameters = {\n",
    "    'vect__max_features': (None, 5000, 10000, 50000),\n",
    "    'vect__ngram_range': ((1, 1), (1, 2), (1,3)),\n",
    "}"
   ]
  },
  {
   "cell_type": "code",
   "execution_count": 47,
   "metadata": {},
   "outputs": [
    {
     "name": "stdout",
     "output_type": "stream",
     "text": [
      "Performing grid search...\n",
      "pipeline: ['extractor', 'vect', 'clf']\n",
      "parameters:\n",
      "{'vect__max_features': (None, 5000, 10000, 50000),\n",
      " 'vect__ngram_range': ((1, 1), (1, 2), (1, 3))}\n",
      "Fitting 5 folds for each of 12 candidates, totalling 60 fits\n"
     ]
    },
    {
     "name": "stderr",
     "output_type": "stream",
     "text": [
      "[Parallel(n_jobs=-1)]: Done  34 tasks      | elapsed:    9.5s\n",
      "[Parallel(n_jobs=-1)]: Done  60 out of  60 | elapsed:   16.9s finished\n"
     ]
    },
    {
     "name": "stdout",
     "output_type": "stream",
     "text": [
      "done in 17.748s\n",
      "\n",
      "Best score: 0.678\n",
      "Best parameters set:\n",
      "\tvect__max_features: 5000\n",
      "\tvect__ngram_range: (1, 2)\n"
     ]
    }
   ],
   "source": [
    "if __name__ == \"__main__\":\n",
    "    # multiprocessing requires the fork to happen in a __main__ protected\n",
    "    # block\n",
    "\n",
    "    # find the best parameters for both the feature extraction and the\n",
    "    # classifier\n",
    "    grid_search = GridSearchCV(pipeline, parameters, n_jobs=-1, verbose=1, cv=5)\n",
    "\n",
    "    print(\"Performing grid search...\")\n",
    "    print(\"pipeline:\", [name for name, _ in pipeline.steps])\n",
    "    print(\"parameters:\")\n",
    "    pprint(parameters)\n",
    "    t0 = time()\n",
    "    grid_search.fit(X, y)\n",
    "    print(\"done in %0.3fs\" % (time() - t0))\n",
    "    print()\n",
    "\n",
    "    print(\"Best score: %0.3f\" % grid_search.best_score_)\n",
    "    print(\"Best parameters set:\")\n",
    "    best_parameters = grid_search.best_estimator_.get_params()\n",
    "    for param_name in sorted(parameters.keys()):\n",
    "        print(\"\\t%s: %r\" % (param_name, best_parameters[param_name]))"
   ]
  },
  {
   "cell_type": "markdown",
   "metadata": {},
   "source": [
    "## Model Evaluation"
   ]
  },
  {
   "cell_type": "code",
   "execution_count": 48,
   "metadata": {},
   "outputs": [
    {
     "name": "stdout",
     "output_type": "stream",
     "text": [
      "0.660606060606\n"
     ]
    }
   ],
   "source": [
    "# Generate Predicitons\n",
    "\n",
    "# Get the best performing model from the GridSearch above\n",
    "best_model = grid_search.best_estimator_\n",
    "\n",
    "# Fit and predict\n",
    "best_model.fit(X_train, y_train)\n",
    "y_predictions = best_model.predict(X_test)\n",
    "\n",
    "# Score our Predictions\n",
    "score = accuracy_score(y_test, y_predictions)\n",
    "print(score)"
   ]
  },
  {
   "cell_type": "code",
   "execution_count": 49,
   "metadata": {},
   "outputs": [
    {
     "data": {
      "text/plain": [
       "1.0    212\n",
       "0.0    118\n",
       "dtype: int64"
      ]
     },
     "execution_count": 49,
     "metadata": {},
     "output_type": "execute_result"
    }
   ],
   "source": [
    "# What did our predicitons look like?\n",
    "pd.Series(y_predictions).value_counts()"
   ]
  },
  {
   "cell_type": "code",
   "execution_count": 50,
   "metadata": {},
   "outputs": [
    {
     "data": {
      "text/plain": [
       "0.0    168\n",
       "1.0    162\n",
       "Name: is_helpful, dtype: int64"
      ]
     },
     "execution_count": 50,
     "metadata": {},
     "output_type": "execute_result"
    }
   ],
   "source": [
    "# What did the true class realy look like?\n",
    "pd.Series(y_test).value_counts()"
   ]
  },
  {
   "cell_type": "code",
   "execution_count": 51,
   "metadata": {},
   "outputs": [
    {
     "name": "stdout",
     "output_type": "stream",
     "text": [
      "Confusion matrix, without normalization\n",
      "[[ 87  81]\n",
      " [ 31 131]]\n"
     ]
    },
    {
     "data": {
      "image/png": "[encoded data removed]",
      "text/plain": [
       "<matplotlib.figure.Figure at 0x1039d3978>"
      ]
     },
     "metadata": {},
     "output_type": "display_data"
    }
   ],
   "source": [
    "# A confusion Matrix can help us better understand how our classifier is doing.\n",
    "from utilities import plot_confusion_matrix\n",
    "\n",
    "conf_matrix = confusion_matrix(y_test, y_predictions)\n",
    "labels = ['Unhelpful Review - 0', 'Helpful Review - 1']\n",
    "np.set_printoptions(precision=2)\n",
    "\n",
    "plt.figure(figsize=(5,5), dpi=150)\n",
    "plt.grid(False)\n",
    "plot_confusion_matrix(conf_matrix, labels )\n",
    "plt.show()"
   ]
  },
  {
   "cell_type": "markdown",
   "metadata": {},
   "source": [
    "Precision and Recall can also help us understand how our predicitons are doing.\n",
    "\n",
    "See the link below for a great explanation of Precision and Recall. This site is a great general resource for outher Data Science topics as well.\n",
    "https://chrisalbon.com/machine-learning/precision_recall_and_F1_scores.html"
   ]
  },
  {
   "cell_type": "code",
   "execution_count": 52,
   "metadata": {},
   "outputs": [
    {
     "name": "stdout",
     "output_type": "stream",
     "text": [
      "             precision    recall  f1-score   support\n",
      "\n",
      "        0.0       0.74      0.52      0.61       168\n",
      "        1.0       0.62      0.81      0.70       162\n",
      "\n",
      "avg / total       0.68      0.66      0.65       330\n",
      "\n"
     ]
    }
   ],
   "source": [
    "from sklearn.metrics import classification_report\n",
    "print(classification_report(y_test, y_predictions))"
   ]
  },
  {
   "cell_type": "markdown",
   "metadata": {},
   "source": [
    "### Try it Out:"
   ]
  },
  {
   "cell_type": "markdown",
   "metadata": {},
   "source": [
    "Iterate through the steps above to try and improve the model. You can adjust parameters in how the documents are vectorized and parameters for the classifier. You can also try using a different classifier like LinearSVC instead of MultinomialNB by substituting it in the last step of the pipeline above. You can use `pipeline.get_params().keys()` to get a listing of all the parameters available in the current pipeline. This is demonstrated in the cell below.\n",
    "\n",
    "**What is the best overal classification accuracy that you can acheive?**"
   ]
  },
  {
   "cell_type": "code",
   "execution_count": 53,
   "metadata": {},
   "outputs": [
    {
     "data": {
      "text/plain": [
       "dict_keys(['memory', 'steps', 'extractor', 'vect', 'clf', 'extractor__accept_sparse', 'extractor__func', 'extractor__inv_kw_args', 'extractor__inverse_func', 'extractor__kw_args', 'extractor__pass_y', 'extractor__validate', 'vect__analyzer', 'vect__binary', 'vect__decode_error', 'vect__dtype', 'vect__encoding', 'vect__input', 'vect__lowercase', 'vect__max_df', 'vect__max_features', 'vect__min_df', 'vect__ngram_range', 'vect__norm', 'vect__preprocessor', 'vect__smooth_idf', 'vect__stop_words', 'vect__strip_accents', 'vect__sublinear_tf', 'vect__token_pattern', 'vect__tokenizer', 'vect__use_idf', 'vect__vocabulary', 'clf__alpha', 'clf__class_prior', 'clf__fit_prior'])"
      ]
     },
     "execution_count": 53,
     "metadata": {},
     "output_type": "execute_result"
    }
   ],
   "source": [
    "pipeline.get_params().keys()"
   ]
  },
  {
   "cell_type": "markdown",
   "metadata": {},
   "source": [
    "# Clustering Text Documents"
   ]
  },
  {
   "cell_type": "markdown",
   "metadata": {},
   "source": [
    "The data set for the next exercise contains reviews for the SanDisk Ultra 64GB MicroSDXC Memory Card. Imagine we work for SanDisk and our task is to sort through the negative reviews to find any discernible patterns. What can we learn from these negative reviews that will give insight on how we can improve our product?"
   ]
  },
  {
   "cell_type": "code",
   "execution_count": 54,
   "metadata": {
    "collapsed": true
   },
   "outputs": [],
   "source": [
    "import numpy as np\n",
    "import pandas as pd\n",
    "\n",
    "from sklearn.pipeline import Pipeline\n",
    "from sklearn.preprocessing import FunctionTransformer\n",
    "from sklearn.feature_extraction.text import TfidfVectorizer\n",
    "from sklearn.decomposition import TruncatedSVD\n",
    "\n",
    "import spacy\n",
    "nlp = spacy.load('en')  \n",
    "\n",
    "from sklearn.cluster import KMeans\n",
    "\n",
    "from bokeh.plotting import figure, show, output_notebook, ColumnDataSource\n",
    "from bokeh.palettes import viridis\n",
    "from bokeh.models import HoverTool"
   ]
  },
  {
   "cell_type": "code",
   "execution_count": 55,
   "metadata": {
    "collapsed": true
   },
   "outputs": [],
   "source": [
    "# import sandisk review\n",
    "sandisk_reviews = pd.read_csv(\"data/sandisk_sd_card_reviews.csv\", index_col=0)"
   ]
  },
  {
   "cell_type": "markdown",
   "metadata": {},
   "source": [
    "### Try it Out:"
   ]
  },
  {
   "cell_type": "markdown",
   "metadata": {},
   "source": [
    "Preview the data set by using `.head()`. Notice the asin number is the same for every row, this is because the asin represents the product and all of these reviews are for the same product."
   ]
  },
  {
   "cell_type": "code",
   "execution_count": 56,
   "metadata": {
    "collapsed": true
   },
   "outputs": [],
   "source": [
    "# Your code here\n",
    "\n"
   ]
  },
  {
   "cell_type": "markdown",
   "metadata": {},
   "source": [
    "#### Hint:"
   ]
  },
  {
   "cell_type": "code",
   "execution_count": 57,
   "metadata": {},
   "outputs": [
    {
     "data": {
      "text/html": [
       "<div>\n",
       "<style>\n",
       "    .dataframe thead tr:only-child th {\n",
       "        text-align: right;\n",
       "    }\n",
       "\n",
       "    .dataframe thead th {\n",
       "        text-align: left;\n",
       "    }\n",
       "\n",
       "    .dataframe tbody tr th {\n",
       "        vertical-align: top;\n",
       "    }\n",
       "</style>\n",
       "<table border=\"1\" class=\"dataframe\">\n",
       "  <thead>\n",
       "    <tr style=\"text-align: right;\">\n",
       "      <th></th>\n",
       "      <th>asin</th>\n",
       "      <th>helpful</th>\n",
       "      <th>overall</th>\n",
       "      <th>reviewText</th>\n",
       "      <th>reviewTime</th>\n",
       "      <th>reviewerID</th>\n",
       "      <th>reviewerName</th>\n",
       "      <th>summary</th>\n",
       "      <th>unixReviewTime</th>\n",
       "    </tr>\n",
       "  </thead>\n",
       "  <tbody>\n",
       "    <tr>\n",
       "      <th>1336614</th>\n",
       "      <td>B007WTAJTO</td>\n",
       "      <td>[0, 0]</td>\n",
       "      <td>4</td>\n",
       "      <td>No issues.</td>\n",
       "      <td>07 23, 2014</td>\n",
       "      <td>A3SBTW3WS4IQSN</td>\n",
       "      <td>NaN</td>\n",
       "      <td>Four Stars</td>\n",
       "      <td>1406073600</td>\n",
       "    </tr>\n",
       "    <tr>\n",
       "      <th>1336615</th>\n",
       "      <td>B007WTAJTO</td>\n",
       "      <td>[0, 0]</td>\n",
       "      <td>5</td>\n",
       "      <td>Purchased this for my device, it worked as adv...</td>\n",
       "      <td>10 25, 2013</td>\n",
       "      <td>A18K1ODH1I2MVB</td>\n",
       "      <td>0mie</td>\n",
       "      <td>MOAR SPACE!!!</td>\n",
       "      <td>1382659200</td>\n",
       "    </tr>\n",
       "    <tr>\n",
       "      <th>1336616</th>\n",
       "      <td>B007WTAJTO</td>\n",
       "      <td>[0, 0]</td>\n",
       "      <td>4</td>\n",
       "      <td>it works as expected. I should have sprung for...</td>\n",
       "      <td>12 23, 2012</td>\n",
       "      <td>A2FII3I2MBMUIA</td>\n",
       "      <td>1K3</td>\n",
       "      <td>nothing to really say....</td>\n",
       "      <td>1356220800</td>\n",
       "    </tr>\n",
       "  </tbody>\n",
       "</table>\n",
       "</div>"
      ],
      "text/plain": [
       "               asin helpful  overall  \\\n",
       "1336614  B007WTAJTO  [0, 0]        4   \n",
       "1336615  B007WTAJTO  [0, 0]        5   \n",
       "1336616  B007WTAJTO  [0, 0]        4   \n",
       "\n",
       "                                                reviewText   reviewTime  \\\n",
       "1336614                                         No issues.  07 23, 2014   \n",
       "1336615  Purchased this for my device, it worked as adv...  10 25, 2013   \n",
       "1336616  it works as expected. I should have sprung for...  12 23, 2012   \n",
       "\n",
       "             reviewerID reviewerName                    summary  \\\n",
       "1336614  A3SBTW3WS4IQSN          NaN                 Four Stars   \n",
       "1336615  A18K1ODH1I2MVB         0mie              MOAR SPACE!!!   \n",
       "1336616  A2FII3I2MBMUIA          1K3  nothing to really say....   \n",
       "\n",
       "         unixReviewTime  \n",
       "1336614      1406073600  \n",
       "1336615      1382659200  \n",
       "1336616      1356220800  "
      ]
     },
     "execution_count": 57,
     "metadata": {},
     "output_type": "execute_result"
    }
   ],
   "source": [
    "sandisk_reviews.head(3)"
   ]
  },
  {
   "cell_type": "markdown",
   "metadata": {},
   "source": [
    "## Process  the Data"
   ]
  },
  {
   "cell_type": "code",
   "execution_count": 58,
   "metadata": {},
   "outputs": [
    {
     "name": "stdout",
     "output_type": "stream",
     "text": [
      "(4914, 9)\n"
     ]
    },
    {
     "data": {
      "text/plain": [
       "(4914, 9)"
      ]
     },
     "execution_count": 58,
     "metadata": {},
     "output_type": "execute_result"
    }
   ],
   "source": [
    "# Let's drop any rows where there are missing values in \n",
    "# the overal and reviewText columns\n",
    "\n",
    "print(sandisk_reviews.shape)\n",
    "sandisk_reviews.dropna(axis=0, how='any', subset=['overall', 'reviewText'], inplace=True)\n",
    "\n",
    "# See the shape after the drop\n",
    "sandisk_reviews.shape"
   ]
  },
  {
   "cell_type": "code",
   "execution_count": 59,
   "metadata": {},
   "outputs": [
    {
     "name": "stdout",
     "output_type": "stream",
     "text": [
      "<class 'pandas.core.frame.DataFrame'>\n",
      "Int64Index: 4914 entries, 1336614 to 1341528\n",
      "Data columns (total 9 columns):\n",
      "asin              4914 non-null object\n",
      "helpful           4914 non-null object\n",
      "overall           4914 non-null int64\n",
      "reviewText        4914 non-null object\n",
      "reviewTime        4914 non-null object\n",
      "reviewerID        4914 non-null object\n",
      "reviewerName      4913 non-null object\n",
      "summary           4914 non-null object\n",
      "unixReviewTime    4914 non-null int64\n",
      "dtypes: int64(2), object(7)\n",
      "memory usage: 383.9+ KB\n"
     ]
    }
   ],
   "source": [
    "sandisk_reviews.info()"
   ]
  },
  {
   "cell_type": "markdown",
   "metadata": {},
   "source": [
    "So it looks like rating and review text are not missing for any of these columns. So we're good to go."
   ]
  },
  {
   "cell_type": "markdown",
   "metadata": {},
   "source": [
    "### Make a Subset of the Reviews"
   ]
  },
  {
   "cell_type": "code",
   "execution_count": 60,
   "metadata": {
    "collapsed": true
   },
   "outputs": [],
   "source": [
    "sandisk_bad_reviews = sandisk_reviews.loc[sandisk_reviews['overall'] <= 2].copy()"
   ]
  },
  {
   "cell_type": "code",
   "execution_count": 61,
   "metadata": {},
   "outputs": [
    {
     "data": {
      "text/plain": [
       "(324, 9)"
      ]
     },
     "execution_count": 61,
     "metadata": {},
     "output_type": "execute_result"
    }
   ],
   "source": [
    "sandisk_bad_reviews.shape"
   ]
  },
  {
   "cell_type": "code",
   "execution_count": 62,
   "metadata": {
    "collapsed": true
   },
   "outputs": [],
   "source": [
    "# We're going to make another column of a trimmed version of the review \n",
    "# We'll end up using this later on when we graph our data.\n",
    "def review_trimmer(text):\n",
    "    words = text.split()\n",
    "    if len(words) > 200:\n",
    "        words = words[0:75]\n",
    "    words = ' '.join(words)\n",
    "    return words"
   ]
  },
  {
   "cell_type": "code",
   "execution_count": 63,
   "metadata": {
    "collapsed": true
   },
   "outputs": [],
   "source": [
    "sandisk_bad_reviews['reviewPreview'] = sandisk_bad_reviews['reviewText'].apply(review_trimmer)"
   ]
  },
  {
   "cell_type": "code",
   "execution_count": 64,
   "metadata": {},
   "outputs": [
    {
     "data": {
      "text/html": [
       "<div>\n",
       "<style>\n",
       "    .dataframe thead tr:only-child th {\n",
       "        text-align: right;\n",
       "    }\n",
       "\n",
       "    .dataframe thead th {\n",
       "        text-align: left;\n",
       "    }\n",
       "\n",
       "    .dataframe tbody tr th {\n",
       "        vertical-align: top;\n",
       "    }\n",
       "</style>\n",
       "<table border=\"1\" class=\"dataframe\">\n",
       "  <thead>\n",
       "    <tr style=\"text-align: right;\">\n",
       "      <th></th>\n",
       "      <th>asin</th>\n",
       "      <th>helpful</th>\n",
       "      <th>overall</th>\n",
       "      <th>reviewText</th>\n",
       "      <th>reviewTime</th>\n",
       "      <th>reviewerID</th>\n",
       "      <th>reviewerName</th>\n",
       "      <th>summary</th>\n",
       "      <th>unixReviewTime</th>\n",
       "      <th>reviewPreview</th>\n",
       "    </tr>\n",
       "  </thead>\n",
       "  <tbody>\n",
       "    <tr>\n",
       "      <th>1336646</th>\n",
       "      <td>B007WTAJTO</td>\n",
       "      <td>[0, 0]</td>\n",
       "      <td>1</td>\n",
       "      <td>I bought 2 of those SanDisk 32 GB microSD , us...</td>\n",
       "      <td>08 3, 2013</td>\n",
       "      <td>AF24M1HKIZ7QC</td>\n",
       "      <td>Abdulrahman J. Alrashed \"dr34m3r\"</td>\n",
       "      <td>Bought 2 :) Died</td>\n",
       "      <td>1375488000</td>\n",
       "      <td>I bought 2 of those SanDisk 32 GB microSD , us...</td>\n",
       "    </tr>\n",
       "    <tr>\n",
       "      <th>1336652</th>\n",
       "      <td>B007WTAJTO</td>\n",
       "      <td>[0, 0]</td>\n",
       "      <td>1</td>\n",
       "      <td>I bougth this micro SD card after some trubles...</td>\n",
       "      <td>02 19, 2013</td>\n",
       "      <td>A1FKE13D77L3Y3</td>\n",
       "      <td>Abraham Arturo Meza Marin</td>\n",
       "      <td>Stop working after 1 year</td>\n",
       "      <td>1361232000</td>\n",
       "      <td>I bougth this micro SD card after some trubles...</td>\n",
       "    </tr>\n",
       "    <tr>\n",
       "      <th>1336657</th>\n",
       "      <td>B007WTAJTO</td>\n",
       "      <td>[0, 1]</td>\n",
       "      <td>1</td>\n",
       "      <td>Ordered this for a Galaxy S3.  Lasted a few mo...</td>\n",
       "      <td>07 20, 2013</td>\n",
       "      <td>A1X1FX3NSOFCT3</td>\n",
       "      <td>Abused Commuter \"abused_commuter\"</td>\n",
       "      <td>Beware... goes bad and takes your pics with it</td>\n",
       "      <td>1374278400</td>\n",
       "      <td>Ordered this for a Galaxy S3. Lasted a few mon...</td>\n",
       "    </tr>\n",
       "  </tbody>\n",
       "</table>\n",
       "</div>"
      ],
      "text/plain": [
       "               asin helpful  overall  \\\n",
       "1336646  B007WTAJTO  [0, 0]        1   \n",
       "1336652  B007WTAJTO  [0, 0]        1   \n",
       "1336657  B007WTAJTO  [0, 1]        1   \n",
       "\n",
       "                                                reviewText   reviewTime  \\\n",
       "1336646  I bought 2 of those SanDisk 32 GB microSD , us...   08 3, 2013   \n",
       "1336652  I bougth this micro SD card after some trubles...  02 19, 2013   \n",
       "1336657  Ordered this for a Galaxy S3.  Lasted a few mo...  07 20, 2013   \n",
       "\n",
       "             reviewerID                       reviewerName  \\\n",
       "1336646   AF24M1HKIZ7QC  Abdulrahman J. Alrashed \"dr34m3r\"   \n",
       "1336652  A1FKE13D77L3Y3          Abraham Arturo Meza Marin   \n",
       "1336657  A1X1FX3NSOFCT3  Abused Commuter \"abused_commuter\"   \n",
       "\n",
       "                                                summary  unixReviewTime  \\\n",
       "1336646                                Bought 2 :) Died      1375488000   \n",
       "1336652                       Stop working after 1 year      1361232000   \n",
       "1336657  Beware... goes bad and takes your pics with it      1374278400   \n",
       "\n",
       "                                             reviewPreview  \n",
       "1336646  I bought 2 of those SanDisk 32 GB microSD , us...  \n",
       "1336652  I bougth this micro SD card after some trubles...  \n",
       "1336657  Ordered this for a Galaxy S3. Lasted a few mon...  "
      ]
     },
     "execution_count": 64,
     "metadata": {},
     "output_type": "execute_result"
    }
   ],
   "source": [
    "sandisk_bad_reviews.head(3)"
   ]
  },
  {
   "cell_type": "markdown",
   "metadata": {},
   "source": [
    "## Vectorize the Data"
   ]
  },
  {
   "cell_type": "markdown",
   "metadata": {},
   "source": [
    "Use the same pipeline, `review_extractor` function and `spacy_tokenizer` from the classification example above to vectorize all the review text in the `sandisk_bad_reviews` data frame. However, remove the last step from the pipeline (the classifier) so the pipeline ends with a vectorizer, not a classifier. Use `fit_transform()` on the pipeline and assign the results to the variable tfidf_docs. Note that we don't need to split the data into training and test sets for this task."
   ]
  },
  {
   "cell_type": "code",
   "execution_count": 65,
   "metadata": {
    "collapsed": true
   },
   "outputs": [],
   "source": [
    "# Your Code here\n",
    "\n",
    "\n"
   ]
  },
  {
   "cell_type": "markdown",
   "metadata": {},
   "source": [
    "#### Hint:"
   ]
  },
  {
   "cell_type": "code",
   "execution_count": 66,
   "metadata": {
    "collapsed": true
   },
   "outputs": [],
   "source": [
    "# Custom Functions to extract the review text from the DF\n",
    "def review_extractor(dataframe):\n",
    "    return dataframe['reviewText'].tolist()"
   ]
  },
  {
   "cell_type": "code",
   "execution_count": 67,
   "metadata": {
    "collapsed": true
   },
   "outputs": [],
   "source": [
    "# Custom tokenizer using SpaCy\n",
    "def spacy_tokenizer(doc_as_string):\n",
    "    spacy_doc = nlp(doc_as_string)\n",
    "\n",
    "    tokens = []\n",
    "    for tok in spacy_doc:\n",
    "        if tok.like_email == True:\n",
    "            tokens.append('email')\n",
    "        elif tok.like_url:\n",
    "            tokens.append('URL')\n",
    "        elif tok.lemma_ == \"-PRON-\":\n",
    "            tokens.append(tok.lower_)\n",
    "        elif tok.is_alpha == True:\n",
    "            tokens.append(tok.lemma_)\n",
    "    return tokens"
   ]
  },
  {
   "cell_type": "code",
   "execution_count": 68,
   "metadata": {
    "collapsed": true
   },
   "outputs": [],
   "source": [
    "tfidf_pipeline = Pipeline([\n",
    "    ('extractor', FunctionTransformer(review_extractor, validate=False)),\n",
    "    ('vect', TfidfVectorizer(tokenizer=spacy_tokenizer, ngram_range=(1,1), use_idf=False, min_df=1)),\n",
    "])"
   ]
  },
  {
   "cell_type": "code",
   "execution_count": 69,
   "metadata": {
    "collapsed": true
   },
   "outputs": [],
   "source": [
    "tfidf_docs = tfidf_pipeline.fit_transform(sandisk_bad_reviews)"
   ]
  },
  {
   "cell_type": "markdown",
   "metadata": {},
   "source": [
    "## Cluster, Reduce and Plot the Documents"
   ]
  },
  {
   "cell_type": "code",
   "execution_count": 70,
   "metadata": {
    "collapsed": true
   },
   "outputs": [],
   "source": [
    "# Instantiate KMeans\n",
    "kmeans = KMeans(n_clusters=7, n_jobs=-1, max_iter=700, n_init=15)"
   ]
  },
  {
   "cell_type": "code",
   "execution_count": 71,
   "metadata": {
    "scrolled": true
   },
   "outputs": [],
   "source": [
    "# Predict with Kmeans to generate unsupervised classes\n",
    "cluster_labels = kmeans.fit_predict(tfidf_docs)"
   ]
  },
  {
   "cell_type": "code",
   "execution_count": 72,
   "metadata": {
    "collapsed": true
   },
   "outputs": [],
   "source": [
    "# Reduce the Term Matrix to 2 dimensions for Plotting\n",
    "TSVD = TruncatedSVD(n_components=2, random_state=17)\n",
    "reduced_docs = TSVD.fit_transform(tfidf_docs)"
   ]
  },
  {
   "cell_type": "code",
   "execution_count": 73,
   "metadata": {},
   "outputs": [
    {
     "name": "stdout",
     "output_type": "stream",
     "text": [
      "(324, 2)\n"
     ]
    },
    {
     "data": {
      "text/plain": [
       "array([[ 0.54,  0.21],\n",
       "       [ 0.78,  0.04],\n",
       "       [ 0.63,  0.01]])"
      ]
     },
     "execution_count": 73,
     "metadata": {},
     "output_type": "execute_result"
    }
   ],
   "source": [
    "# Notice how everything gets reduced to 2 columns\n",
    "print(reduced_docs.shape)\n",
    "reduced_docs[0:3]"
   ]
  },
  {
   "cell_type": "code",
   "execution_count": 74,
   "metadata": {
    "scrolled": false
   },
   "outputs": [
    {
     "data": {
      "text/html": [
       "\n",
       "    <div class=\"bk-root\">\n",
       "        <a href=\"http://bokeh.pydata.org\" target=\"_blank\" class=\"bk-logo bk-logo-small bk-logo-notebook\"></a>\n",
       "        <span id=\"1ececcb9-7dc3-438d-ad77-193b55814ae4\">Loading BokehJS ...</span>\n",
       "    </div>"
      ]
     },
     "metadata": {},
     "output_type": "display_data"
    },
    {
     "data": {
      "application/javascript": [
       "\n",
       "(function(root) {\n",
       "  function now() {\n",
       "    return new Date();\n",
       "  }\n",
       "\n",
       "  var force = true;\n",
       "\n",
       "  if (typeof (root._bokeh_onload_callbacks) === \"undefined\" || force === true) {\n",
       "    root._bokeh_onload_callbacks = [];\n",
       "    root._bokeh_is_loading = undefined;\n",
       "  }\n",
       "\n",
       "\n",
       "  \n",
       "  if (typeof (root._bokeh_timeout) === \"undefined\" || force === true) {\n",
       "    root._bokeh_timeout = Date.now() + 5000;\n",
       "    root._bokeh_failed_load = false;\n",
       "  }\n",
       "\n",
       "  var NB_LOAD_WARNING = {'data': {'text/html':\n",
       "     \"<div style='background-color: #fdd'>\\n\"+\n",
       "     \"<p>\\n\"+\n",
       "     \"BokehJS does not appear to have successfully loaded. If loading BokehJS from CDN, this \\n\"+\n",
       "     \"may be due to a slow or bad network connection. Possible fixes:\\n\"+\n",
       "     \"</p>\\n\"+\n",
       "     \"<ul>\\n\"+\n",
       "     \"<li>re-rerun `output_notebook()` to attempt to load from CDN again, or</li>\\n\"+\n",
       "     \"<li>use INLINE resources instead, as so:</li>\\n\"+\n",
       "     \"</ul>\\n\"+\n",
       "     \"<code>\\n\"+\n",
       "     \"from bokeh.resources import INLINE\\n\"+\n",
       "     \"output_notebook(resources=INLINE)\\n\"+\n",
       "     \"</code>\\n\"+\n",
       "     \"</div>\"}};\n",
       "\n",
       "  function display_loaded() {\n",
       "    if (root.Bokeh !== undefined) {\n",
       "      var el = document.getElementById(\"1ececcb9-7dc3-438d-ad77-193b55814ae4\");\n",
       "      el.textContent = \"BokehJS \" + Bokeh.version + \" successfully loaded.\";\n",
       "    } else if (Date.now() < root._bokeh_timeout) {\n",
       "      setTimeout(display_loaded, 100)\n",
       "    }\n",
       "  }\n",
       "\n",
       "  function run_callbacks() {\n",
       "    try {\n",
       "      root._bokeh_onload_callbacks.forEach(function(callback) { callback() });\n",
       "    }\n",
       "    finally {\n",
       "      delete root._bokeh_onload_callbacks\n",
       "    }\n",
       "    console.info(\"Bokeh: all callbacks have finished\");\n",
       "  }\n",
       "\n",
       "  function load_libs(js_urls, callback) {\n",
       "    root._bokeh_onload_callbacks.push(callback);\n",
       "    if (root._bokeh_is_loading > 0) {\n",
       "      console.log(\"Bokeh: BokehJS is being loaded, scheduling callback at\", now());\n",
       "      return null;\n",
       "    }\n",
       "    if (js_urls == null || js_urls.length === 0) {\n",
       "      run_callbacks();\n",
       "      return null;\n",
       "    }\n",
       "    console.log(\"Bokeh: BokehJS not loaded, scheduling load and callback at\", now());\n",
       "    root._bokeh_is_loading = js_urls.length;\n",
       "    for (var i = 0; i < js_urls.length; i++) {\n",
       "      var url = js_urls[i];\n",
       "      var s = document.createElement('script');\n",
       "      s.src = url;\n",
       "      s.async = false;\n",
       "      s.onreadystatechange = s.onload = function() {\n",
       "        root._bokeh_is_loading--;\n",
       "        if (root._bokeh_is_loading === 0) {\n",
       "          console.log(\"Bokeh: all BokehJS libraries loaded\");\n",
       "          run_callbacks()\n",
       "        }\n",
       "      };\n",
       "      s.onerror = function() {\n",
       "        console.warn(\"failed to load library \" + url);\n",
       "      };\n",
       "      console.log(\"Bokeh: injecting script tag for BokehJS library: \", url);\n",
       "      document.getElementsByTagName(\"head\")[0].appendChild(s);\n",
       "    }\n",
       "  };var element = document.getElementById(\"1ececcb9-7dc3-438d-ad77-193b55814ae4\");\n",
       "  if (element == null) {\n",
       "    console.log(\"Bokeh: ERROR: autoload.js configured with elementid '1ececcb9-7dc3-438d-ad77-193b55814ae4' but no matching script tag was found. \")\n",
       "    return false;\n",
       "  }\n",
       "\n",
       "  var js_urls = [\"https://cdn.pydata.org/bokeh/dev/bokeh-0.12.7dev16.min.js\", \"https://cdn.pydata.org/bokeh/dev/bokeh-widgets-0.12.7dev16.min.js\", \"https://cdn.pydata.org/bokeh/dev/bokeh-tables-0.12.7dev16.min.js\", \"https://cdn.pydata.org/bokeh/dev/bokeh-gl-0.12.7dev16.min.js\"];\n",
       "\n",
       "  var inline_js = [\n",
       "    function(Bokeh) {\n",
       "      Bokeh.set_log_level(\"info\");\n",
       "    },\n",
       "    \n",
       "    function(Bokeh) {\n",
       "      \n",
       "    },\n",
       "    \n",
       "    function(Bokeh) {\n",
       "      \n",
       "      document.getElementById(\"1ececcb9-7dc3-438d-ad77-193b55814ae4\").textContent = \"BokehJS is loading...\";\n",
       "    },\n",
       "    function(Bokeh) {\n",
       "      console.log(\"Bokeh: injecting CSS: https://cdn.pydata.org/bokeh/dev/bokeh-0.12.7dev16.min.css\");\n",
       "      Bokeh.embed.inject_css(\"https://cdn.pydata.org/bokeh/dev/bokeh-0.12.7dev16.min.css\");\n",
       "      console.log(\"Bokeh: injecting CSS: https://cdn.pydata.org/bokeh/dev/bokeh-widgets-0.12.7dev16.min.css\");\n",
       "      Bokeh.embed.inject_css(\"https://cdn.pydata.org/bokeh/dev/bokeh-widgets-0.12.7dev16.min.css\");\n",
       "      console.log(\"Bokeh: injecting CSS: https://cdn.pydata.org/bokeh/dev/bokeh-tables-0.12.7dev16.min.css\");\n",
       "      Bokeh.embed.inject_css(\"https://cdn.pydata.org/bokeh/dev/bokeh-tables-0.12.7dev16.min.css\");\n",
       "    }\n",
       "  ];\n",
       "\n",
       "  function run_inline_js() {\n",
       "    \n",
       "    if ((root.Bokeh !== undefined) || (force === true)) {\n",
       "      for (var i = 0; i < inline_js.length; i++) {\n",
       "        inline_js[i].call(root, root.Bokeh);\n",
       "      }if (force === true) {\n",
       "        display_loaded();\n",
       "      }} else if (Date.now() < root._bokeh_timeout) {\n",
       "      setTimeout(run_inline_js, 100);\n",
       "    } else if (!root._bokeh_failed_load) {\n",
       "      console.log(\"Bokeh: BokehJS failed to load within specified timeout.\");\n",
       "      root._bokeh_failed_load = true;\n",
       "    } else if (force !== true) {\n",
       "      var cell = $(document.getElementById(\"1ececcb9-7dc3-438d-ad77-193b55814ae4\")).parents('.cell').data().cell;\n",
       "      cell.output_area.append_execute_result(NB_LOAD_WARNING)\n",
       "    }\n",
       "\n",
       "  }\n",
       "\n",
       "  if (root._bokeh_is_loading === 0) {\n",
       "    console.log(\"Bokeh: BokehJS loaded, going straight to plotting\");\n",
       "    run_inline_js();\n",
       "  } else {\n",
       "    load_libs(js_urls, function() {\n",
       "      console.log(\"Bokeh: BokehJS plotting callback run at\", now());\n",
       "      run_inline_js();\n",
       "    });\n",
       "  }\n",
       "}(window));"
      ]
     },
     "metadata": {},
     "output_type": "display_data"
    },
    {
     "data": {
      "text/html": [
       "\n",
       "\n",
       "    <div class=\"bk-root\">\n",
       "        <div class=\"bk-plotdiv\" id=\"e2201263-0e90-487b-bc0a-416d6e31141c\"></div>\n",
       "    </div>\n",
       "<script type=\"text/javascript\">\n",
       "  \n",
       "  (function(root) {\n",
       "    function now() {\n",
       "      return new Date();\n",
       "    }\n",
       "  \n",
       "    var force = false;\n",
       "  \n",
       "    if (typeof (root._bokeh_onload_callbacks) === \"undefined\" || force === true) {\n",
       "      root._bokeh_onload_callbacks = [];\n",
       "      root._bokeh_is_loading = undefined;\n",
       "    }\n",
       "  \n",
       "  \n",
       "    \n",
       "    if (typeof (root._bokeh_timeout) === \"undefined\" || force === true) {\n",
       "      root._bokeh_timeout = Date.now() + 0;\n",
       "      root._bokeh_failed_load = false;\n",
       "    }\n",
       "  \n",
       "    var NB_LOAD_WARNING = {'data': {'text/html':\n",
       "       \"<div style='background-color: #fdd'>\\n\"+\n",
       "       \"<p>\\n\"+\n",
       "       \"BokehJS does not appear to have successfully loaded. If loading BokehJS from CDN, this \\n\"+\n",
       "       \"may be due to a slow or bad network connection. Possible fixes:\\n\"+\n",
       "       \"</p>\\n\"+\n",
       "       \"<ul>\\n\"+\n",
       "       \"<li>re-rerun `output_notebook()` to attempt to load from CDN again, or</li>\\n\"+\n",
       "       \"<li>use INLINE resources instead, as so:</li>\\n\"+\n",
       "       \"</ul>\\n\"+\n",
       "       \"<code>\\n\"+\n",
       "       \"from bokeh.resources import INLINE\\n\"+\n",
       "       \"output_notebook(resources=INLINE)\\n\"+\n",
       "       \"</code>\\n\"+\n",
       "       \"</div>\"}};\n",
       "  \n",
       "    function display_loaded() {\n",
       "      if (root.Bokeh !== undefined) {\n",
       "        var el = document.getElementById(\"e2201263-0e90-487b-bc0a-416d6e31141c\");\n",
       "        el.textContent = \"BokehJS \" + Bokeh.version + \" successfully loaded.\";\n",
       "      } else if (Date.now() < root._bokeh_timeout) {\n",
       "        setTimeout(display_loaded, 100)\n",
       "      }\n",
       "    }\n",
       "  \n",
       "    function run_callbacks() {\n",
       "      try {\n",
       "        root._bokeh_onload_callbacks.forEach(function(callback) { callback() });\n",
       "      }\n",
       "      finally {\n",
       "        delete root._bokeh_onload_callbacks\n",
       "      }\n",
       "      console.info(\"Bokeh: all callbacks have finished\");\n",
       "    }\n",
       "  \n",
       "    function load_libs(js_urls, callback) {\n",
       "      root._bokeh_onload_callbacks.push(callback);\n",
       "      if (root._bokeh_is_loading > 0) {\n",
       "        console.log(\"Bokeh: BokehJS is being loaded, scheduling callback at\", now());\n",
       "        return null;\n",
       "      }\n",
       "      if (js_urls == null || js_urls.length === 0) {\n",
       "        run_callbacks();\n",
       "        return null;\n",
       "      }\n",
       "      console.log(\"Bokeh: BokehJS not loaded, scheduling load and callback at\", now());\n",
       "      root._bokeh_is_loading = js_urls.length;\n",
       "      for (var i = 0; i < js_urls.length; i++) {\n",
       "        var url = js_urls[i];\n",
       "        var s = document.createElement('script');\n",
       "        s.src = url;\n",
       "        s.async = false;\n",
       "        s.onreadystatechange = s.onload = function() {\n",
       "          root._bokeh_is_loading--;\n",
       "          if (root._bokeh_is_loading === 0) {\n",
       "            console.log(\"Bokeh: all BokehJS libraries loaded\");\n",
       "            run_callbacks()\n",
       "          }\n",
       "        };\n",
       "        s.onerror = function() {\n",
       "          console.warn(\"failed to load library \" + url);\n",
       "        };\n",
       "        console.log(\"Bokeh: injecting script tag for BokehJS library: \", url);\n",
       "        document.getElementsByTagName(\"head\")[0].appendChild(s);\n",
       "      }\n",
       "    };var element = document.getElementById(\"e2201263-0e90-487b-bc0a-416d6e31141c\");\n",
       "    if (element == null) {\n",
       "      console.log(\"Bokeh: ERROR: autoload.js configured with elementid 'e2201263-0e90-487b-bc0a-416d6e31141c' but no matching script tag was found. \")\n",
       "      return false;\n",
       "    }\n",
       "  \n",
       "    var js_urls = [];\n",
       "  \n",
       "    var inline_js = [\n",
       "      function(Bokeh) {\n",
       "        (function() {\n",
       "          var fn = function() {\n",
       "            var docs_json = {\"57eb4a28-5c81-49c1-9483-391c6f2b4543\":{\"roots\":{\"references\":[{\"attributes\":{\"callback\":null},\"id\":\"3f631afd-ed42-40a7-8f64-e186059fc034\",\"type\":\"DataRange1d\"},{\"attributes\":{},\"id\":\"c42c655a-60fe-40d7-a292-8f5a968896e9\",\"type\":\"BasicTicker\"},{\"attributes\":{\"overlay\":{\"id\":\"1edfe9c4-1066-4150-9932-db3c2bcc24a2\",\"type\":\"BoxAnnotation\"}},\"id\":\"a922eee5-5fd9-4979-8983-79a506a4057a\",\"type\":\"BoxZoomTool\"},{\"attributes\":{\"source\":{\"id\":\"5e6caace-cb87-4ccc-b501-d408cf98cdd9\",\"type\":\"ColumnDataSource\"}},\"id\":\"79e7253a-61f3-4514-aad0-1bcb858b6890\",\"type\":\"CDSView\"},{\"attributes\":{\"items\":[{\"id\":\"934823d4-68ac-4167-aa73-3fd9896be678\",\"type\":\"LegendItem\"}],\"plot\":{\"id\":\"82372c5d-041b-4bd7-bde5-599d364bad0e\",\"subtype\":\"Figure\",\"type\":\"Plot\"}},\"id\":\"8fddb2a5-24bb-486c-acd2-1b792a812168\",\"type\":\"Legend\"},{\"attributes\":{\"callback\":null,\"tooltips\":[[\"index\",\"$index\"],[\"desc\",\"@desc\"]]},\"id\":\"5d9956c6-d40d-4194-8612-1b29415d85f0\",\"type\":\"HoverTool\"},{\"attributes\":{\"plot\":{\"id\":\"82372c5d-041b-4bd7-bde5-599d364bad0e\",\"subtype\":\"Figure\",\"type\":\"Plot\"},\"ticker\":{\"id\":\"c42c655a-60fe-40d7-a292-8f5a968896e9\",\"type\":\"BasicTicker\"}},\"id\":\"07c9bc61-9cc9-4fd9-a114-5240b2e53c04\",\"type\":\"Grid\"},{\"attributes\":{\"fill_alpha\":{\"value\":0.2},\"fill_color\":{\"field\":\"color\"},\"line_color\":{\"field\":\"color\"},\"size\":{\"units\":\"screen\",\"value\":8},\"x\":{\"field\":\"x\"},\"y\":{\"field\":\"y\"}},\"id\":\"3d2b302f-c3af-464c-8967-0eb63a7ea05b\",\"type\":\"Circle\"},{\"attributes\":{},\"id\":\"8db2d563-f4e3-47c9-a0ea-466f39fbacd9\",\"type\":\"ResetTool\"},{\"attributes\":{\"plot\":null,\"text\":\"Documents by Truncated SVD Values\"},\"id\":\"63fa98de-170f-4c87-8889-51c0333d1db5\",\"type\":\"Title\"},{\"attributes\":{},\"id\":\"dceb64f8-f687-4537-9e52-c1058ebe3024\",\"type\":\"BasicTickFormatter\"},{\"attributes\":{},\"id\":\"280a16db-e000-4a2b-9a12-ecf4d716b00e\",\"type\":\"ZoomInTool\"},{\"attributes\":{\"axis_label\":\"TSVD Dimension 2\",\"formatter\":{\"id\":\"4850a986-350d-4dee-9421-94575501ddd9\",\"type\":\"BasicTickFormatter\"},\"plot\":{\"id\":\"82372c5d-041b-4bd7-bde5-599d364bad0e\",\"subtype\":\"Figure\",\"type\":\"Plot\"},\"ticker\":{\"id\":\"4c4aeaed-494d-4a6d-8055-faa1b6f0a89f\",\"type\":\"BasicTicker\"}},\"id\":\"524e40c3-a537-42a8-8ffc-c1fcaac9a24b\",\"type\":\"LinearAxis\"},{\"attributes\":{},\"id\":\"1b92faa0-c030-4d1d-9ef3-f9133e1f7ec9\",\"type\":\"ZoomOutTool\"},{\"attributes\":{},\"id\":\"4c4aeaed-494d-4a6d-8055-faa1b6f0a89f\",\"type\":\"BasicTicker\"},{\"attributes\":{\"dimension\":1,\"plot\":{\"id\":\"82372c5d-041b-4bd7-bde5-599d364bad0e\",\"subtype\":\"Figure\",\"type\":\"Plot\"},\"ticker\":{\"id\":\"4c4aeaed-494d-4a6d-8055-faa1b6f0a89f\",\"type\":\"BasicTicker\"}},\"id\":\"d70db583-2825-4596-a937-624bfcfbd0dc\",\"type\":\"Grid\"},{\"attributes\":{},\"id\":\"06a3bb3d-8069-4623-b6e9-90ea7ca1b808\",\"type\":\"LinearScale\"},{\"attributes\":{\"active_drag\":\"auto\",\"active_inspect\":\"auto\",\"active_scroll\":\"auto\",\"active_tap\":\"auto\",\"tools\":[{\"id\":\"5d9956c6-d40d-4194-8612-1b29415d85f0\",\"type\":\"HoverTool\"},{\"id\":\"9250833a-478a-4649-8290-6ea00e949a6e\",\"type\":\"PanTool\"},{\"id\":\"a922eee5-5fd9-4979-8983-79a506a4057a\",\"type\":\"BoxZoomTool\"},{\"id\":\"8db2d563-f4e3-47c9-a0ea-466f39fbacd9\",\"type\":\"ResetTool\"},{\"id\":\"280a16db-e000-4a2b-9a12-ecf4d716b00e\",\"type\":\"ZoomInTool\"},{\"id\":\"1b92faa0-c030-4d1d-9ef3-f9133e1f7ec9\",\"type\":\"ZoomOutTool\"}]},\"id\":\"15f028b4-38ae-4ffa-86d2-cd3486c4eda6\",\"type\":\"Toolbar\"},{\"attributes\":{\"fill_alpha\":{\"value\":0.1},\"fill_color\":{\"value\":\"#1f77b4\"},\"line_alpha\":{\"value\":0.1},\"line_color\":{\"value\":\"#1f77b4\"},\"size\":{\"units\":\"screen\",\"value\":8},\"x\":{\"field\":\"x\"},\"y\":{\"field\":\"y\"}},\"id\":\"57c6c4e0-e226-43ab-a9a2-f63d90410910\",\"type\":\"Circle\"},{\"attributes\":{\"callback\":null},\"id\":\"477413ad-c180-46bb-a40b-de6ca0e6a2e0\",\"type\":\"DataRange1d\"},{\"attributes\":{\"bottom_units\":\"screen\",\"fill_alpha\":{\"value\":0.5},\"fill_color\":{\"value\":\"lightgrey\"},\"left_units\":\"screen\",\"level\":\"overlay\",\"line_alpha\":{\"value\":1.0},\"line_color\":{\"value\":\"black\"},\"line_dash\":[4,4],\"line_width\":{\"value\":2},\"plot\":null,\"render_mode\":\"css\",\"right_units\":\"screen\",\"top_units\":\"screen\"},\"id\":\"1edfe9c4-1066-4150-9932-db3c2bcc24a2\",\"type\":\"BoxAnnotation\"},{\"attributes\":{\"callback\":null,\"column_names\":[\"x\",\"y\",\"desc\",\"color\",\"label\"],\"data\":{\"color\":[\"#35B778\",\"#443982\",\"#FDE724\",\"#208F8C\",\"#440154\",\"#440154\",\"#443982\",\"#443982\",\"#443982\",\"#8DD644\",\"#440154\",\"#30678D\",\"#443982\",\"#443982\",\"#443982\",\"#208F8C\",\"#FDE724\",\"#443982\",\"#8DD644\",\"#8DD644\",\"#440154\",\"#440154\",\"#443982\",\"#208F8C\",\"#35B778\",\"#8DD644\",\"#443982\",\"#440154\",\"#8DD644\",\"#8DD644\",\"#443982\",\"#440154\",\"#443982\",\"#FDE724\",\"#443982\",\"#FDE724\",\"#8DD644\",\"#440154\",\"#8DD644\",\"#440154\",\"#440154\",\"#443982\",\"#208F8C\",\"#443982\",\"#443982\",\"#8DD644\",\"#FDE724\",\"#443982\",\"#443982\",\"#208F8C\",\"#443982\",\"#440154\",\"#443982\",\"#440154\",\"#443982\",\"#8DD644\",\"#8DD644\",\"#443982\",\"#443982\",\"#8DD644\",\"#440154\",\"#443982\",\"#443982\",\"#440154\",\"#30678D\",\"#440154\",\"#440154\",\"#443982\",\"#FDE724\",\"#440154\",\"#443982\",\"#443982\",\"#440154\",\"#208F8C\",\"#8DD644\",\"#8DD644\",\"#443982\",\"#440154\",\"#FDE724\",\"#440154\",\"#440154\",\"#443982\",\"#35B778\",\"#443982\",\"#8DD644\",\"#440154\",\"#30678D\",\"#443982\",\"#30678D\",\"#8DD644\",\"#8DD644\",\"#FDE724\",\"#208F8C\",\"#440154\",\"#443982\",\"#440154\",\"#8DD644\",\"#443982\",\"#443982\",\"#440154\",\"#440154\",\"#FDE724\",\"#443982\",\"#440154\",\"#440154\",\"#FDE724\",\"#208F8C\",\"#8DD644\",\"#FDE724\",\"#FDE724\",\"#30678D\",\"#35B778\",\"#FDE724\",\"#FDE724\",\"#443982\",\"#8DD644\",\"#208F8C\",\"#443982\",\"#443982\",\"#208F8C\",\"#30678D\",\"#443982\",\"#208F8C\",\"#440154\",\"#35B778\",\"#30678D\",\"#440154\",\"#440154\",\"#8DD644\",\"#208F8C\",\"#443982\",\"#208F8C\",\"#440154\",\"#FDE724\",\"#35B778\",\"#443982\",\"#440154\",\"#440154\",\"#208F8C\",\"#8DD644\",\"#440154\",\"#443982\",\"#208F8C\",\"#440154\",\"#443982\",\"#443982\",\"#30678D\",\"#8DD644\",\"#440154\",\"#35B778\",\"#35B778\",\"#443982\",\"#443982\",\"#FDE724\",\"#8DD644\",\"#443982\",\"#8DD644\",\"#FDE724\",\"#8DD644\",\"#208F8C\",\"#440154\",\"#8DD644\",\"#440154\",\"#208F8C\",\"#8DD644\",\"#443982\",\"#440154\",\"#35B778\",\"#8DD644\",\"#443982\",\"#FDE724\",\"#443982\",\"#443982\",\"#30678D\",\"#443982\",\"#443982\",\"#440154\",\"#35B778\",\"#443982\",\"#35B778\",\"#440154\",\"#440154\",\"#440154\",\"#FDE724\",\"#443982\",\"#443982\",\"#35B778\",\"#35B778\",\"#440154\",\"#FDE724\",\"#8DD644\",\"#440154\",\"#208F8C\",\"#208F8C\",\"#443982\",\"#8DD644\",\"#8DD644\",\"#8DD644\",\"#FDE724\",\"#440154\",\"#443982\",\"#440154\",\"#443982\",\"#35B778\",\"#440154\",\"#30678D\",\"#443982\",\"#443982\",\"#440154\",\"#8DD644\",\"#443982\",\"#8DD644\",\"#443982\",\"#440154\",\"#440154\",\"#35B778\",\"#440154\",\"#35B778\",\"#208F8C\",\"#440154\",\"#440154\",\"#443982\",\"#FDE724\",\"#FDE724\",\"#440154\",\"#35B778\",\"#30678D\",\"#440154\",\"#8DD644\",\"#440154\",\"#443982\",\"#443982\",\"#440154\",\"#443982\",\"#30678D\",\"#443982\",\"#440154\",\"#440154\",\"#440154\",\"#30678D\",\"#8DD644\",\"#8DD644\",\"#35B778\",\"#440154\",\"#208F8C\",\"#440154\",\"#FDE724\",\"#440154\",\"#443982\",\"#208F8C\",\"#35B778\",\"#30678D\",\"#30678D\",\"#443982\",\"#443982\",\"#440154\",\"#35B778\",\"#440154\",\"#35B778\",\"#8DD644\",\"#440154\",\"#440154\",\"#443982\",\"#35B778\",\"#208F8C\",\"#8DD644\",\"#443982\",\"#443982\",\"#208F8C\",\"#440154\",\"#35B778\",\"#443982\",\"#443982\",\"#FDE724\",\"#440154\",\"#443982\",\"#443982\",\"#443982\",\"#440154\",\"#35B778\",\"#443982\",\"#FDE724\",\"#8DD644\",\"#440154\",\"#FDE724\",\"#443982\",\"#443982\",\"#443982\",\"#208F8C\",\"#440154\",\"#443982\",\"#208F8C\",\"#443982\",\"#443982\",\"#208F8C\",\"#440154\",\"#443982\",\"#208F8C\",\"#443982\",\"#443982\",\"#30678D\",\"#443982\",\"#208F8C\",\"#30678D\",\"#443982\",\"#8DD644\",\"#440154\",\"#440154\",\"#440154\",\"#443982\",\"#FDE724\",\"#208F8C\",\"#440154\",\"#8DD644\",\"#208F8C\",\"#440154\",\"#30678D\",\"#440154\",\"#8DD644\",\"#30678D\",\"#FDE724\",\"#208F8C\",\"#8DD644\",\"#443982\"],\"desc\":[\"I bought 2 of those SanDisk 32 GB microSD , used them on my Galaxy Note and Galaxy S4First one , my phone started saying it was removed , then recognize it again :) then diedI thought it's just a luck , plugged in the 2nd one :) stayed for about 2 months and died suddenly ! and lost everythingnever buying from SanDisk again .. ever\",\"I bougth this micro SD card after some trubles with other that i got from Kingston, i can tell that SanDisk is other quality, this is the best, my i9300 phone can read a 64GB very fast, the dta transfer speed from my pc to my is amazing, if you are looking for additional storage to you phone, for music, pictures and other type of files, this is for you.Pros-Very good quality materials of construction-Amazing speedUpdate after one year this memory is damaged I can not delete or put new files on it, I can not format this memory, I tried to format with my phone, with my pc, with a camera and nothing, now this is like a 64gb cd, the data in the memory is only available to read but I can not move, or delete it, I bought this memory to be used to backup all my data of my android device but now is only a readable memory I can not write data on it any more, I hope sandisk make a better products in the future!!! Total disagree I will buy a Samsung memory card expected a better quality.\",\"Ordered this for a Galaxy S3. Lasted a few months and then broke. Is not accessible on several different PC's.Says \\\"limited lifetime\\\" warranty - BS. You have ONE MONTH for Eco Zone. Not only did I lose pictures but now I am out $$ because of a crappy return policy.In the future I will be buying Kingston, not Sandisk.-----------------Update: Amazon Customer service made good and refunded my purchase price. I still will not be buying any more Sandisk memory cards however...\",\"I used this for a few months in my phone, then it decided to quit mounting. I lost some pictures of pets who died shortly after. I got a replacement card, but I had to send in the old one, giving up any chance of recovering its contents. The new one's worked fine, but failing after 3 months in inexcusable.\",\"It works but the actual R/W speeds are 18/8 MB/s, not even Class 10. It should be marketed as \\\"Sandisk Basic\\\", not Sandisk Ultra\\\", unless they mean ultra slow. Now is 2014 and there is no excuse for such slow card from Sandisk.*** UPDATE ***I have redone the test with NotePro 12.2\\\" instead of using non UHS-I PC and the latest results are 32/8.6MB/s. Since the read speed hits 30, I believe the device is DHS-I ready. Still underwhelmed by the write speed though.\",\"I bought 64GB version of the card to use with GoPro Hero 3 black edition. It didn't work out. The card worked OK if camera was set to resolution with lower bit rates. E.g. worked fine in 720p with protune on, or 1080p with protune off. However, in 1080p with protune on (bitrate is just shy of 6 MB/s in this mode -- much higher then with protune turned off) it was nothing but trouble.\",\"I have an old SanDisk SD card that still works. I thought their new cards would be just as reliable, but I was wrong.The microsd card failed yesterday inside my phone. I used the adapter to connect it to my computer, but it wouldn't mount.I bought this directly from Amazon and not a third party vendor, so I know it's genuine SanDisk.\",\"Used it in my Galaxy Note 2 for the past 16 months. All the sudden it is no longer writable. I tried many ways to reformat the card. Even Windows says format successful but all files remain after I remove and re-insert the card. Since I have private files in the card I'm not able to delete. I do not want to sent it back to SanDisk for replacement.\",\"I bought this on August of 2013. As of April 2014 the card stopped functioning. It can still be read, but the writing capability is gone. That's less than one year. I'm extremely disappointed in the longevity of this card. My usage of it has been on my Galaxy S4. I have about 40Gb of data in it. Guess I'm going to have to look for another card that has a longer lifespan than this one.\",\"I routinely use SDXC cards up to 128GB, and this card was unreadable on arrival. Both of my PCs said it needed to be formatted, and as a last resort I let one of them try (Windows 7/i7with up-to-date SDXC drivers), and it could not format it. It's on its way back to Amazon. I'm glad their returns are so easy!\",\"So this product is a large disappointment...bought it to use in my tablet but the card is forever getting corrupted....I've reformatted the card a few times but it's to the point now that even a reformat doesn't work.. Wasted money...don't recommend purchasing.\",\"Had to return this item, it would not fit properly into the adapter that it came with. Return was no problem, but I am reluctant to buy another one.\",\"Having used SanDisk before in my photography, I of course went to them when it was time to outfit my new Samsung Galaxy S3 with an internal microSD card. I spent the extra bucks over comparably \\\"no name\\\" Micro SD cards and bought this variant. I took quite a few pictures and even transferred an album from my computer so I coud show it to friends on the go.After less than two months, the SanDisk\",\"I am very disappointed in this card. I usually don't have an issue with SanDisk, but this 32GB ultra card died after two months. Died as in, no longer recognizable by PC / Camera or any device. Now I have to wrestle with warranty claim.\",\"I bought this card for my android based phone, soon I started getting messages that my card had been removed and or it was damaged, Tried it in my tablet same thing, and this was not the first card of this brand that I had bought that experienced this problem. Went to several online forums to see what the solution is; then someone hit upon it, it just might be a problem with this brand of cards.I bought a PNY brand micro SD card and had no problem whatsoever.\",\"I bought this card on the strength of the 64GB XDSC SanDisk in my phone right now. It was a gift for a friend of mine and sadly it corrupted within minutes of first use.Initially it worked fine, then dead. We checked in a laptop and Windows Disk Management screen told me it had a single 128K partition and the rest was unusable. Outstanding.The replacement sent by Amazon (Thank you Amazon, you are always excellent) is sitting in my office right now, I should probably check it out.\",\"Worked fine in my Samsung S4 for one year. Then it stopped allowing writing to the card. Would not format even on a PC or with another device. The data is still there but cannot be erased.\",\"My card got so hot it almost melted. Crazy! But you card somewhere else, I know I Wii! I'm not taking the chance of ruining one of my devices. No thanks\",\"Thus microSD card worked fine for a year in my Samsumg Note II. I mostly used it to listed to downloaded music from Spotify. It has actually failed \\\"twice\\\". When it failed the first time (the phone couldn't \\\"see\\\" that I had a card installed) I thought maybe something had merely corrupted it, so I formatted it, put it back in my phone, and re-downloaded all my playlists. It worked for two months and then failed again. I don't plan to try formatting it again, I'll switch to a different brand of card.\",\"Received one - didn't work. Not readable on my Mac or my Win 7 PC. Tried another - retail packaging and is raw format and although my Galaxy S3 sees it, it won't write or format and the computers don't pick it up either.Taking the other person's 1 star review and trying a class 6. Can't afford to lose data, not that I can write to these anyway. Both went back.\",\"If your card gets hot enough to be painful, it is defective and you need to contact SanDisk!From my experience, the larger micro SDs run hot on format and writing, but not to the pain threshold!I purchased one of these cards to use in a camera and Android tablet. Great read speed but write speed was okay. Used card for about two weeks and then all my files disappeared! Tried to format the card and\",\"Does not work. I have a card purchased at Best Buy that looks identical side by side. BUT! Transferring music onto the Best Buy purchased card was extremely fast. 100+ meg albums transferred in 2 to 3 seconds. On these cards, a 61 meg album was at 18 minutes remaining with less than a quarter of the album transferred. I bought two, so I figured maybe a bad card. Tried the other, same thing. Extremely slow. Wonder if they are even real.\",\"Card is Good. I ordered one before and it performs as one would expect, so I ordered another. It took much longer to attempt get the second one so I wrote and got a refund. Seller, NMicro Technology, was not the same as the first.\",\"the unit shows 0 bytes, in a PC or the phone. it keeps dismounting also. I got a replacement and it did the same thing. Not sure what is going on but it looks like a Chinese counterfeit case. I have seen this happen more and more lately. Amazon seems to be a major portal for these hings, it makes sense with a such a large retailer, they cant check everything.\",\"had it in my samsung tablet and it went bad after 2 months, wont let me reformat or read it or do anything with it. money down the drain.\",\"I got the micro sdcard 64gig, I reformated to fat32 and works very well on my galaxy s2 i9100 with no problems at all, thanks:DEDIT: After 7 months of using this memory card, now i tried to format it but it wouldn't, i tried about 5 different methods and none of them worked, i wouldn't recommend buying this one: SanDisk Ultra 64GB MicroSDXC Class 10 UHS Memory Card Speed Up To 30MB/s With Adapter, Frustration-Free Packaging - SDSDQU-064G-AFFP-A. Avoid buying it or you will experience problems in half a year.\",\"I purhased this thinking I was getting an amazing deal. The price was right, the product was not. After a few months I am unable to delete or add files, pics or music to this microsd card. I am only using 28gb of space on it. I cannot add anything, nor delete anything, it won't even allow me to format it and start fresh. I am not happy with this product and extremely disappointed. I use my phone a lot and store music and pictures on my phone for various purposes. I would recommend buying another 64gb microsd card. One that is more reliable.\",\"Ordered this from Amazon and was expecting it to work perfectly like my other 32GB sandisk (in my galaxy s4). However, I was really disappointed that upon placing it in my note 10.1 2014 edition the card become unrecognizable. I tried reformatting on the computer, on the phone, and yet, no prevail. It could be the firmware or current update of android, but the point is that, if other companies can make a card that works, why not do the same? Maybe I got a bad batch, who knows...I went ahead and ordered the G.Skill microsd card and now it's working perfectly. I'm s\",\"I really want to like these and I do trust SanDisk more than other manufacturers of memory cards. That said, I'm moving on to my 3rd card. Thank you Amazon for having exceptional customer service, or else I'd be very upset.Basically this card will suddenly not allow writing to it anymore. You can't save files to it, you can't delete files from it and you can't event format it. I've tried doing all three in different OS'es and devices with no luck. Doing some reading on the SanDisk forums this seems to be happening a lot with these cards.I'm returning this to Amazon and trying my luck with a different brand to see what happens.\",\"randomly erases all my data and asks me to format card on my unmodified unrooted sprint Galaxy SIII ,i dont know how scandisk is selling these,i trusted the brand and it didnt work\",\"I had this for my smart phone and it kept dismounting itself. I did some research and found out that there are others experiencing the same problem. So, I returned this and got Transcend instead. Transcend works fine with no problem.\",\"This card was used in a phone without a large amount of write stress (which does shorten the life of the card - it was not written to over and over in the phone).The card is now totally unwriteable - on a Mac, a Linux machine, or the phone - writes all \\\"seem\\\" to succeed but even low-level reformats don't actually *do* anything - the exact same files are there after every change, untouchable and frozen forever.10 months of use out of a memory card and then a really weird failure like this (neither the Mac, Linux machine, or phone reports any error) is not acceptable quality from SanDisk.\",\"I have had this for 8 months, and the SD Card already stopped deleting files and keeping pictures. I have tried reformatting, and nothing helps. Not cool.Update - April 2, 2014 - I contacted Sandisk and I am sending the problematic card back for warranty replacement. I hope this will resolve the issue with the card. I will keep you updated once the process is complete.\",\"This card failed after 2 weeks of use. I have the same problem with their SSD failed on me after 6 months.\",\"Hard to review this as the card arrived DOA. Couldn't write to it at all, and it wouldn't format. I returned it and Amazon was great about the credit. I've owned several SanDisk memory cards and they have all performed well and I was a little surprised that this one failed out of the box. I'd read a good review of the Samsung 64GB micro card and I bought that instead. Very pleased with it.\",\"Stopped working and could not reformat. Didn't have good luck with this item or the vendor selling this item. Hopefully just a bad one...sandisk is usually pretty good\",\"I loaded this memory card into my TF700T and could not get it to install. I found it to be a format issue and could not reformat it to get it to work. I sent it back and got the class 10 sandisc card ( non ultra ) and it loaded perfactly.\",\"Ive had the card for over a month, using it in my Samsung Galaxy Note 10.1.I filled the card with a few TV shows and movies to watch on the go, as well as many PDFs and MS Word Docs.The MS Word and PDF files often get corrupted after use. THe larger files seem to stay intact. I moved the smaller files into the internal storage and havent had problem since.Im hoping Sandisk has a decent return policy.\",\"No way to format it. I even downloaded 2 programs that claimed were able to format it, After wasting about 6 hours, I decided to give up and send it back, The seller should format them before sending them, even if they would charge $5. extra, it would be well worth it instead of the hassle of downloading programs and wasting time trying and sending it back after hours of frustration.\",\"I was better off with my 32gig card. This thing was nothing but problems. The phone does not see it half the time and it is SLOW. The phone keeps asking to Re- format it. I got it to see the card after a reboot. It is still SLOW.I will be buying the Samsung 64gig card for my Samsung Galaxy Note 1. I have seen good things from Samsung.\",\"Bought 2 of these for the wife's & my Android phone. When her's failed after 2 months, we figured it was just luck of the draw. Now mine failed after just over 4 months, losing a bunch of photos & videos (I made sure to back up every few weeks but even so, we just lost a bunch of photos of our 2 month newborn).Clearly SanDisk had a bad batch with this lot and as\",\"The product is OK, but my card does not acheive the rated write speed of 10 MB/sec. Most applications probably don't need to hit 10 MB/sec, but my GoPro Hero 3 does need the full bandwidth and thus would bomb on me sometimes. As tested, my card got between 8-10 MB/sec using the larger block sizes. I complained to Sandisk about it and they allowed me to send it in for a replacement which I did (and took almost 2 weeks), but the replacement behaved the same way. I would say this card is OK for most applications, but if you need top end speed, I would go with another card. I bought my card in May 2013 and had it replaced in August 2013 so hopefully they have fixed this problem by now.\",\"Losing pictures, video, and tunes after 9 months on a Samsung Galaxy Note 2 (stock android). Looks like this is a common problem. I will try my luck with Sandisk on Monday. If I don't get a replacement, I will never buy a Sandisk product again. I paid the premium for \\\"Sandisk Quality.\\\" I am very disappointed.UPDATE:Sandisk will be providing a replacement SD CARD. However, my data loss and downtime cannot be replaced. SanDisk lost their \\\"premium rating\\\" in my eyes. It's going to take a while for them to get it back.\",\"I haven't done any formal benchmarks, but the device seems pretty slow. I haven't seen any real performance boost vs. my old card even on bulk file copies. I have another 8GB samsung card that may be a knockoff that performs noticeably better than this card.I'm using it anyway. I don't really have the time to return it or anything.\",\"I have nothing to use this device with. I ordered by mistake. I'm sure it's a great product but not for me.\",\"I could not get this brand of memory card to work in my Roku. It would not format correctly. I had to return this for another brand which worked ok.\",\"Used for two months in Samsung Galaxy. Fizzled then failed. I have never experienced a memory card or or flash drive failure until this SanDisk Ultra 32 GB. Will purchase a different brand next time. Return for refund or replacement is not allowed.\",\"I bought this to use as expanded storage in my Asus Transformer Book T100 but it was unstable and I have had to return it. Although the tablet would see the card when it was first inserted there would be errors trying to copy files onto it and then Windows would indicate that it needed formatting. If I tried a quick format then everything seemed to be OK but the instability would return as soon as I tried to copy data to the card. If I tried a full format it always failed.I gave it two starts because it seemed to work using the supplied SD adapter in a Windows 7 laptop. I was able to do a full format on that but, when I put it back into the tablet, the problems continued. The tablet is compatible with SDXC cards and, when I tried a different micro SD card in the tablet, it worked fine so I assume it was a problem with this card.\",\"Bought October 7th. Passed away December 23rd. RIP.I didn't really even use it because of the built in storage on my GS3. I had about 15 gb of music and movies on it, but only for when I was unexpectedly bored and without my zuneHd. On to the next brand I guess.\",\"This does not appear to work with the Samsung Galaxy S3. It worked for a few weeks, then my phone started giving me \\\"Unexpected Unmounted SD Card\\\" error messages. After a bit of searching, people seem to agree that the S3 and Sandisk micro SD cards do not work together.\",\"this card would not show 64 GB until i spent $60 on a card reader that supports sdxc, and after doing that, it is transferring at class 1 speed. i managed to get it formatted in FAT32 with 59 GB free for my Cowon J3, but it's taking 10 hours to transfer 30 GB to it. i got a refund because this is not the service and quality i paid for. i just hope the music lists on my PMP when i turn it on tomorrow. i have it in the microSDXC slot of the AFT PRO-57U, which is connected to a Syba VIA VL800 USB 3.0 card. feel free to tell me i am doing it wrong and how to get class 10 speed.UPDATE: the transfer finished, but the data does not show in my Cowon J3, so the early versions that worked are gone. do not buy these for a device that is not SDXC specific because they have changed something in them.\",\"I purchased a 64Gb Samsung SD card to expand the memory of the phone.However, I frequently get a message that the card has been removed or is recovering.Sometimes the problem clears itself, other times I have to reboot the phone.It also says \\\"MTP application will restart to prepare SD Card\\\". It then starts listing the restarting/recovering SD card.I eventually replaced it with a Sandisk 16gb microsd \\\"HD\\\" card from Walmart and it is operating fine.I have been reading a lot about people having issues with the 64gb sandisk cards and the Galaxy S4.I wish I had done more research before wasting $50 on what I thought was a good buy!\",\"I put this in my Galaxy Note II and put a bunch of music and PDFs on it. I also used it to save videos and photos. It worked well for about 2 months then, on Christmas Day (today), it said that there was an error reading the card and the card was now blank. My phone no longer recognizes the card and even putting it into its adapter and sticking it in the SDHC reader of my laptop doesn't work.If this is SanDisk Quality, then I am not impressed. I am going to have to deal with their warranty replacement but I'd rather have a refund than get another card that might fail after 2 months...\",\"Do not buy, card failed on the third usage. Kicker not to my favoris you only have about 2 months to return this card for a full refund.Then, it's a pro rated rated deal when you send it back to Amamzon inLexington, KY.The failed card was in a GoPro White Edition. Needless to say, a camera thatwas purchased for summer outdoor usage in November is going to sit for quite awhile before you have time\",\"I get randomly error messages with my nokia808, \\\"disk error-\\\" and the card stops working, its so, so sad.. I bought a cheap 8gb micro sd class 4 that works better than this :(\",\"I wish I could say this card was great. Been waiting for it for around a year and a half whilst using the 64GB one (also SanDisk) which never gave me issues; sadly I lost it. This card confused the heck out of me. I used it on my S4 and first off, it wouldn't recognize it. Tried it on my gf's S4 and same problem.Apparently it comes formatted as exFAT and thought maybe reformatting\",\"I ran several tests both on my computer, and my phone it wrote at 6MB and read at about 6 to 10 depeneding on its mood. I bought this to replace a generic 32GB class 10 card that I lost (so dang small i droped it and could not find it. that Card actual wrote at 11 to 12MB and read at 20MB. I went with sandisk because my phone came with a class 2 that performs more like a class 6. What a waste of time. Refunded this item\",\"Yeah. Ultra Hot. I could not get any of my devices to recognize this card. When I finally was, using a USD reader, I tried to format it. It wouldn't format and burned my fingers when I removed it. Others have also posted this. Maybe they are not all bad, but many are. Perhaps they are counterfeit, I don't know. But the hassle of having to return it isn't worth the $10 you may save.\",\"I've only had this Memory card for 3.5 weeks and it not only has recently started resetting, it intermittently loses contact with my Cell phone and the memory is lost, erasing everything on it!!!!!! Now I find out my return date has past and I'm stuck with a peice of s*** memory card that I can't do a damn thing about! Thanks a lot for nothing! I will never buy direct from here again!Also, I didn't realize I was supposed to have an adapter too? wow where the heck is that at???\",\"This card does not work on droid razr phones. Whenever I try to transfer files on the card, it makes the phone freeze completely. I have tried every possibility to get this to work, but this type of card is worthless because it does not work due to its high capacity on phones. Every workaround I have tried to get this card to work, it still causes my phone to freeze.\",\"This card worked in my Galaxy S3 right off the bat. I did not need to format it or anything. After about 2 weeks, I was watching a video on my phone and it locked up. Then the phone showed that the card was damaged. Now I am unable to copy anything over 100mb to or from the card. Viewing photos from the gallery also locks up the phone. Amazon customer service is great, however. They sent me a new card. I will update my review after I am able to use the new one for at least a month without any errors.****UPDATE****After having the second card for a few weeks, it also had the same issues. Even worse, the card was completely unreadable after it locked up. The card showed about 5 GB of data being used, but could not be accessed via the phone or in a computer. Sent this one back and will be going back to my trusty 16GB card.\",\"NOT GOOD REPEATEDLY SELF EJECTS FROM NEW GALAXY S4 RETURNED FOR EXCHANGE OR REFUND....BOUGHT TWO ONE WORKS WELL BUT ONE DOESN'T I GUESS IS DEFECTIVE....I HAVE TWO GAL S4,..IS WHY I BOUGHT 2...\",\"I was given this card in October to add to my new Samsung Galaxy S3. I was thrilled I copied a ton of music onto the card and used my phone as my mobile Ipod substitute, leaving my Ipod Classic on my desktop in its speaker system cradle.Everything worked fine until a couple of weeks ago. I started getting messages that seemed to say that I had removed and inserted the memory card. Of course,\",\"I bought this to be able to load more music into my Verizon LG Android phone. I spent hours adding music to the card. Then, I put it into my Android phone. The phone did not read anything on the memory card. The other memory cards, 8GB and 32GB worked fine, so it must be a flaw in this memory card. Also, this memory card got stuck in my Android phone's slot. I had to use a utility knife with a very, very thin blade to pull out this card.\",\"Tried this with its adapter on DSLR Camera and got some errors at times while trying to save data to card. It is ok for other uses like computer external data.\",\"There's a lot of counterfeits on these, and I apparently picked up a bum card from MemoryWhiz. My device shows me there's a 32gb of space there; it just is impossible to gain access to it. Rather, the /sdcard folder is found on my device's internal memory (the memory that came with the device). I even downloaded some apps that were supposed to read and write from my SDCard, but they work even when I unmount the card and remove it. So check out these cards thoroughly when you buy them and make sure they're what they say they are. Naturally, SanDisk isn't going to stand by a counterfeit.\",\"I was working with a three of these cards using the included adapter, and thought they were slower than they should be. I just bought a full size Sandisk Ultra 16GB class 10 (all the same specs except size theoretically) for a different project, and it writes over twice as fast on the same computer! The write speed on this card is between 7 and 10 MB/s, the read seems to be 35MB/s, compared to the full size card with write speed of 22 to 25MB/s and a read speed of 42MB/s (this is from an imaging program, not a benchmark program, so it's not checking different sizes of transfer and the like). Compare that with a Transcend 4 GB Class 4 card, the write speed is nearly identical (7 to 9MB/s), while the read speed on the class four is 12 to 13MB/s, significantly slower, as expected.The read speed is good, but the write speed is abysmal! If it says \\\"Class 10\\\", it should be somewhat close to the Class 10 spec.I'm returning them.\",\"I would not recommend this card if your looking for REAL class 10 write speeds. The most I could get is 9mb/s from this card but for the most part it was about 7-8mb/s. I even did a slow format to exfat in windows 7 with no improvements. I copied over music, pics and movies to test it out ranging from a couple of mb to over a gb. The read speeds were pretty good at around 21mb/s though. I popped in a 32gb class 10 transcend SD card and it consistently got 16-18mb/s write speeds and 24mb/s read speeds. So in conclusion I think this card is not really a class 10. Too bad I read all the negative 1 star reviews after the fact but I will be sending this one back.\",\"Worked great in my galaxy s4 and died about 2 months later, what a waste of a lot of money!\",\"Before doing research, i assumed this card would support my brand new Hero 3 camera... considering it was sold off the Gopro site, it was a no brainer... or so i thought.Anyhow, the card seems to preform well under most circumstances WITHOUT using the Protunes settings. (The problems with the Hero 3 where due to the slow write speed of this card under Protunes settings, without this setting the Hero works fine)However, after a few timelapse issues (2 - 5 sec timelapse, which is well in this card's speeds).I noticed the card is corrupt. I tested this in other cameras and found that this problem still persists. I trust Sandisk as my top choice for all my professional work, however this card has failed!I would not recommend this EXPENSIVE card, id jump for a Samsung, or even the Transcend cards. They even come with a better warranty then this card.Nothing but problems and lost memories that i cant replace....\",\"Got this product and it was fine until it just stopped working...The last one I had that came with my DROID X on release day worked for the whole time since I got it without a hitch...I get this one and it's dead in less than 60 days...I don't know if I got a lemon myself or the whole supply is bad or faulty... All I have to say is I am very displeased!\",\"With all the great reviews on this card, I picked this up for my Samsung Galaxy S III. Popped in the card, and I was happy taking pictures, saving files, and living life.Fast forward two months later, and all of a sudden, the card stops functioning. My phone won't read it any more. My computer won't read it either. Submitted a ticket to Sandisk. Hopefully I can get a replacement that actually works.Thank goodness I saved all my photos on Dropbox.\",\"Bought this card for my Galaxy S4 and after installing it and loading my music, the card was randomly ejecting itself. After like the 3rd ejection of the morning, the phone reported that the card needed to be reformatted because it was damaged, so I reformatted. The random SDCard ejection and Damaged card kept coming up. After googling, I read that the Galaxy series phones are known to have compatibility issues with SanDisk cards and its a hit or miss, some phones have no issues. I have replaced this card already, which Amazon, shipped me a 2nd card within a few days, but the same problems arise. Not sure if I should switch to a different brand, but this card is definitely useless to me for the time being. Maybe I can give it away to a friend who doesn't have an S4. :/\",\"i still own it but card went bad after 2 weeks of owning it, lost tons of music and data ect and lost all faith in sandisk products. i tried to get it replaced or money back but no return email from seller, so unhappy i lost over 20gigs of movies/music and data. wish there would have been a reply from seller or amazon but i still have a dead sdcard with all my files stuck on it.\",\"This is called \\\"Class 10\\\", so I ordered it, figuring it would have useable speed. I plugged it in to copy about 9GB of program installation files. I was totally dumbfounded that it took about 3 hours to copy those files onto this \\\"Ultra\\\" \\\"Class 10\\\" SDXC card. (9GB on my super-slow, super-cheap plastic school-kid USB thumb drive takes less than 10 minutes.) So then I tested it on various known computers with typical raw and JPG picture files. Read speeds ranged from 15-25MB/s, while write speeds ranged from 4-8MB/sec for big files, and below 1MB/sec for small files. This is what I would call largely unusable. VERY disappointing.\",\"I was very excited to add this memory card to my G2 and finally not have to worry about used up memory anymore. This was short lived however as maybe a few months had passed when the memory card refused to write anymore data. I tried formatting it (never could wipe it), using it in a thumb drive reader kwpould not delete data), all to no avail. Luckily the data I had on it was still salvageable.\",\"It took 6 days for me to get 2 of these cards when I made the order early in the morning-normally that'll get my product to me the next evening. Not SIX DAYS LATER!Be warned, this was the slowest shipping I've had for my Paid Prime Account since I started. If you need these cards quickly, buy from a different seller.\",\"This card no longer is readable by three different phones after only six months of very light usage (very few pictures had been saved to the card), where it was never taken in or out of the phone before it showed signs of dying (thus the death was not caused by excessive handling of the card).\",\"This is a piece of crap. This is my 3rd card in 3 months. This is ridiculous.Do not buy this crap\",\"Although Amazon claim it is a C10 ultra fast Memory Card, it actually has much slower write speed than other C10 microSD card (it only scores about 60% of the normal speed). For example, I have tested it against my old Maxell C10 HC microSD card. The test was done by writing the same 3035MB random data from DRAM to empty microSD card through a USB3 card reader. The resulting time was the average value from 3 tests of each device:SanDisk Ultra 32GB C10/UHS1: 5m50.816s means 8.7MB/sMaxell C10 HC: 3m38.787s means 13.9MB/sThe speed is completely unacceptable for a Class-10 claim (13% lower than 10MB/s, the lowest boundary of Class-10 device), even the over-advertisement of SD card speeds are common (claiming 30MB/s for actual 12-15MB/s). It is almost a scam. Some Class-6 card will beat this \\\"Class-10\\\" card.\",\"I bought two cards for tablets. The first wouldn't format, so I bought another GSkill Class 10. The second worked, but only for 3-5 minutes. Then error, or freeze. I thought it may have been the tablets. However, the Gskill worked in both.....So I called Amazon. The customer service was excellent. There \\\"may\\\" have been a problem with one of their vendors......They shipped out two new cards with Saturday delivery. It was \\\"implied\\\" through lengthy conversation with the Amazon Agent, that there were numerous problems with a particular company/vendor.Lesson: Do NOT Hesitate To Call And Return if you get a card that seems to have ANY troubles out of the pack.I was surprised that my initial review was removed from Amazon....So I am leaving another about the return. II tried everything to fix these cards: fat32 ntfs and the newest exFat..... There are definitely some damaged cards out there so be wary, and do not hesitate to call customer service!\",\"I purchased Sandisk because i thought it was the most reliable name brand out there. I have a Galaxy S3 and purchased this 32GB card to handle all my photo's and movies. I'd say over the last 4 months I haven't been using the storage for more than just photo's and the occasional movie. The device just failed on me yesterday, losing all my photo's and files. Thank goodness for DropBox auto-photo upload otherwise i would of permanently lost my photos.I actually went back to the Amazon branded microSD card (16GB) which is about as fast and so far, way more reliable than sandisk. I can't beleive a sandisk card failed, I'm probably going to RMA the unit and hope they send me a better unit. You can guarantee that i'm going to burn in the card to make sure there's no errors.I gave it one star because you think you pay a premium for a premium product. You expect it to be as near flawless as possible.\",\"Had the 32GB SD Card for a 4 months before it died on me. Tried to swap it out and said warranty was only 60 days long. Last SanDisk product I ever buy.\",\"I have lost my data 3 times with this card. I don't know if it's the card or the S3. My data always ends up as unrecoverable pieces in the LOST.DIR directory the phone creates the first time you insert the card. I don't trust it to hold anything I cant afford to loose.Update: I purchased aKingston Digital 32 GB microSDHC Flash Memory Card SDC4/32GBlast week as a replacement. It hasn't lost any data yet. I'll update here again if it has the same issue.Update 2: TheKingston Digital 32 GB microSDHC Flash Memory Card SDC4/32GBhas been in my phone for 2 months with no data loss. It is the better product.\",\"Spent over $50 and the thing came fast and didn't work. Neither my computer nor my phone could read it or format it. I have had plenty of memory cards, so I know to unmount it with software. Odds are yours will be fine, mine sucked,\",\"I guess I should be happy it failed after only 1 month, because I only lost 1 month's worth of pictures etc. I bought 3 of these cards for my wife, son and I. My wife's had a minor glitch, which went away with a reboot. Mine had a minor glitch this morning, so I expected the reboot to fix it. No a reboot caused my Motorola Defy XT to tell me the card was\",\"Atto Speed rating 2.7MB/sec write and 2.8MB/sec read.That barely makes it class 2, not class 10 as advertised.This is second time I have to return a slow card, I hope negative reviews will help bring attention to the widespread problem.\",\"I bought 4 of these units (yes, at Amazon): SanDisk Ultra 32 GB microSDHC Class 10 UHS-1 Memory Card 30MB/s with Adapter SDSDQUA-032G-U46A for 3 Samsung Galaxy SIII and one Samsung Note 2, and found that one in the SGIII has stopped working. I tried everything, in a computer, in different adapters - dead is dead. Since the other three are used by non-techno people, I am not sure if they are still working or\",\"With a USB 3.0 card reader, CrystalDiskMark shows blazing fast 47MB/s read but disappointingly slow 13MB/s write speed. So you can pretty much forget about reliable 1080P video recording.Update: It is correct that write speed great than 10MB/s is enough for 1080P recording. I need to clarify that the card is very slow when UHS-1 is not enabled. The read/write speeds drop to 13.3/7.9 MB/s. For devices that are a few years old such as Canon T2i which does not support UHS, 1080P recording may not be reliable. This card is classified as \\\"class 10,\\\" it should support sustained write speed of at least 10MB/s without UHS. It fails my test, as observed by other reviewers as well.\",\"If this was any more worthless, it would have a retched stench. This card has completely turned me away from ever trusting another SanDisk product again. I would only use this in the future to keep corrupt mis-information to frustrate anyone attempting to acquire any of my data.I have reformatted it 3-4 times IN FULL using various allocation sizes and operating systems. It only functions under Windows, it randomly works in my mobile devices. Now i'm left to decide if I want to bother researching this to better understand the problem in the future, or simply purchase another card from a more reliable manufacturer...... hello Kingston.\",\"If you have a Contour camera you want to use this with. It will not format! Don't even bother.Now I have room for about 16,000 photos. Not what I wanted.\",\"memory card failed mysteriously overnight, not sure why, but phone works fine with a different card.here, four more words\",\"I got a card and it wouldn't let me copy files to it, it would (a) not recognize on any of the three computers or my android tab at home, and (b) unmount itself in the middle of file copies. These two things happened randomly. I got a replacement, but it suffered from the problem of letting me format it (yay, farther than I got with unit 1), then crapping out 300mb into a file transfer.AVOID THIS GUY.\",\"Could not figure out why this card crashed multiple times in my Samsung Galaxy SIII, and demanded a reformatting. Then after 5hrs of calls to Sprint & Samsung I got a guy who reads factory stuff!Samsung Galaxy SIII is a Class 4 & Class 6 supported Motherboard, with Qualcomm processor. The Sprint stores only sell Class 4 memory, and there is a reason that Camera memory~Class 10 is not sold there, the board, just like\",\"Not ok with GoPro Hero 3+ Black Edition. The speed of this card is below other brands' class 10 standard. When I use this card with GoPro and Pro-tune on, it will stop recording after 20 mins or so. I already returned this item and bought the Samsung class 10 memory card instead.\",\"I purchased this card (the 64GB version) to use in a Samsung Galaxy S2 phone. It worked perfectly for almost three months, at which point it just stopped mounting. The phone detects a card, but is incapable of formatting it. It's even worse on my computer, which does not even detect the card anymore (and yes, I'm using an SDXC-compatible USB reader).I contacted SanDisk for an RMA and they will probably replace it, although the replacement process is needlessly slow and painful.I had bought this card based on the glowing reviews, but I'm going to stay away from SanDisk products from now on.\",\"I hate it, it worked fine for 2 months and the after those 2 months it started with problems, first, every once and a while was not recognized by my device, and now 4 months after, I have to pull it out and then place it again in every hour.....It might have been just my microSd problem.... But I wont purchase one of this ever again\",\"Don't even waste your time buying this memory card. 64GB is written on it but its actually even less than 3GB that's in it.i have never experienced such deception.i had tried loading my pics and music and other data on it from day one but no matter what i did i won't take more than 3GB of data. i didn't realise till i read other stories of similar memory cards that will state 64GB but would contain a smaller memory capacity often times even less than 10GB.i bought this card for $49.what a big waste!!now i am so scared of buying memory cards on amazon or online elsewhere.i wouldn't dear it again!it was in a sealed sanddisk packet so i was thinking it must be original.Alas!it was a big waste!i have lost confidence in buying memory card on amazon.\",\"I've requested a replacement, so I'll update this review after I receive a replacement. But the first card I got, it could be read, but every time I put it into the computer, it said there were errors with it. It couldn't repair the errors. I couldn't even format it using a command prompt to try and get it to work. I could create folders on the card, but not put anything into them or onto the card other than folders. I tried many many things and nothing worked. I know SanDisk makes decent products, so I will change the review later.\",\"The item arrive in time, but was unfortunately defective as it would not accept a copy operation. Further investigation led to discovering the card had bad sectors. Refund is progressing without a hitch however, so not all was lost.\",\"First of all Amazon has shipped the mobile version of this card. It is different that what was listed on the page. There goes a star for incorrect shipping. And the item has stopped working after a week in my Surface tablet.\",\"this did not last very long. Would not work in any of my mobile devices. I tried it in 4 different ones and the only place it now works is in my desktop in the adapter sleeve. Not much use there, since i already have 2 TB\",\"I wanted to believe that those people who wrote bad reviews on memory cards were just unlucky. Well it sucks being one of them. I cannot get this card to format not matter what device, software or technique I use. The mistake I made was that I didn't use the card right away to see if it was good -I thought, its a memory card, what could go wrong. Now I'm out of the US and returning it is not economically sensible. I don't know if it's quality control, but this card simply cannot work in any reader, device, with or without adapter (write protection off on the reader of course). The card shows up on devices, may even show data being copied then when you refresh, nothing has happened. All formatting software says it's write protected and nothing I do can remove it. Why would a new card come write protected anyway? Very disappointing, especially since I lost data from my phone.\",\"These are genuine Sandisk memory cards, but from a defective batch. I lost all of my photos and videos taken on my phone over the last two years because the card had a catastrophic failure. SanDisk reps informed me the batch was bad and they were aware of the problem.\",\"I bought this card and it worked OK, at first. After about three weeks I noticed that some images were not showing up, a week later it began to loose everything. My Note 2 was failing to recognize it, inserted into the adapter and my comp could see it but not read all the files. Multiple formats by either the comp or Note 2 did not fix the problem, even tried some tools that I used for my DSLR, still no-go.This could just be a batch problem as the card looks legit and was fast in the beginning.\",\"8 gb card works fine in the device, but this 32 gb card will unmount when moving or copying large amounts of data.Never tried reformatting or in-depth troubleshooting, but I expect products from a reputable company like SanDisk to just work.\",\"forget loading this into your cart. a one day pause and this junk went up 16.99, in ONE DAY. I don't give money to aXXholes.\",\"I didn't even have this card installed in my Motorola Razor HD for 6 months when I turned my phone on yesterday and got a message stating I removed my card before properly unmounting it first even though it was still installed. I plugged it into my PC adapter and nothing! I lost about 300 documents and over 500 pictures, but i'm glad that I just backed up everything 2 weeks ago. Worked great until it died far to soon and without any warning at all. Be sure to backup all your important data frequently!\",\"Sandisk has the name but in my experience the quality and speed is not there. My lexar lasted longer and outperformed this chip.\",\"This might be my 3rd 32 GB disk that I buy from scanDisk.They work for few months and then NOTHING...My tablet wont detect them anymore... my computer wouldn't either.Quite disappointing.\",\"Ordered it on 1/10/13, never received the first 2 sup[posed shipments then 32 days later an envelope arrives with a counterfeit SD card that was detected as fake with H2TESTW software after writing only 71mb's it crashed several times. No hologram or individual serial number on the Chinese knock off packaging either. Make sure you know where they are coming from! Only buy these from reputable authorized dealers! It's worth the extra couple bucks to avoid this frustration!\",\"A month and a half after purchase... My device powered off while the card was in use (batteries ran out). Since then, doesn't work. The device doesn't recognize it. Doesn't respond to recovery, reformatting, partitioning... nothing. I've used EaseUS, ZAR, HP USB Disk Format, and a couple others. No dice. Nothing can read it or fix it.\",\"Received two today and they have \\\"Made in China\\\" imprinted on them. Although they were detected and formatted fine to capacity in both Samsung phone and tablet, lets see if they hold up and not suffer premature death like many have reported. Thinking I should've gone with \\\"Made in Korea\\\" Samsung SD cards instead if they had 64GB size.Update: Bought two 12/2012 and one year later with very light use one of the cards started locking up the phone with \\\"wait or close\\\" prompt when deleting files off of it. Should've gone with Made in South Korea Samsung card. Sandisk is garbage these days.\",\"dont even bother to try - will not show up in finder and will not show up if placed on any reader\",\"I got this for my Samsung Galaxy Tab 7.7 (p6800) and it worked great for about 3 weeks - September 18 through today, October 7. It just died while I had the tablet attached to my PC and was copying another file onto it, so I've changed my rating from 5 stars to just 1 star. I'd give 0 stars if I could. Another user warned me that this had happened to him after 4 1/2 months, but 3 weeks?!?!?!?!? I've reported this to Amazon and asked for a refund.Stay as far away from this card as you can, at least for the Galaxy Tab 7.7.UPDATE: Amazon refunded my money for this card, and I replaced it with the Samsung equivalent, which is STILL working perfectly. Don't waste your time and money on this card - get the Samsung.\",\"after 4 months it stopped working i got a new one form SanDisk but I'm very apprehensive to put it on my phone.\",\"This is one of those basic items that usually just work. In my case, I received one that just did not work. A couple of weeks ago, my phone reported an error and so I reformatted the card and transferred my music back onto it. Unfortunately it failed again two days ago and it won't even format now. I have had good luck with SanDisk before, but this one was not a good experience.\",\"I just don't get what has happened to SanDisk quality. It seems to have gone down over the years. This product was glitchy from day one. I thought it would be fine after a quick check disk, but then it only got worse. After less than a week I have to return it. What upsets me is that this is not my first bad experience with SanDisk products. I used to buy them all the time, they were my brand of choice for flash memory (cards or thumb drives). The last three products I have bought from them have had problems and failed either immediately or shortly after usage. So I give up. I will start looking to other companies for my memory needs. I bought a Transcend to replace this. I hope it works out better.\",\"I should have known better. Everyone is complaining about this memory card if you read reviews on specialized forums. Last time I buy anything from Sandisk.\",\"Broke after 2 weeks.....I will go back to Samsung HD cards... This was a waste of time and money. Actually, I should ask for a refund\",\"I have zero complaints, this card does exactly what it should. I'm amazed by how inexpensive memory cards continue to get. These things are really useful to throw on your keychain because they're so small.Update: From 5 stars to 1. Dead after 4 months. Appears to be a fairly common issue: [...] Let's see how the RMA process goes....\",\"I got this for my brand new Nokia Lumia 810, but there is some kind of problem, the card is horribly slow, I can't record HD video to it, it studders. I've tried reformatting several times to no avail. I didn't have any of these problems with my old 32gb class 4 sandisk card... There are other people having this problem as well, seems hit or miss. I can't recommend this card at this time for this reason.EDIT: I've contacted SanDisk and they are RMAing the card. I'll improve the rating if the new card corrects the problem.EDIT: Got the new card, problem still exists...EDIT: I've suffered with this card for a year now, the only problem is that I cannot take video without studders, so I figured maybe software updates would eventually fix the problem. They have not. I have used multiple different camera apps, and the problem still persists.\",\"Major issues, bought FROM san disk but only worked briefly, now when I try to reformat it reports itself as a 30 meg removeable drive in both windows and macos--not sure if its defective or a mislabeled one--but got direct from amazon so just very disapointed. Will stick with transcend from now on I think.\",\"after doing some tests between a generic memory card and this sandisk i am very disappointed. i bought the 32 gig class (10) card.i swore i picked \\\"original packaging\\\" but it was shipped with out original packaging... i will be returning this card for the following reasons:these tests were done using the sd card ports on my pc.my generic class (6) 32 gig card has upload speed of 22MB (write) and a transfer speed of 8.5.my sandisk i just bought, it has an upload speed peaking at 32MB (write) and a transfer speed of 6.5 to maybe 8.5 if im lucky.the write speed is ok, but why is the transfer speed so much more low. why isnt it at least 10MB if not 12MB if sandisk is typically so modest in their classifications?and whats the deal with the no classification marking on this sd card... i dont see class (10) anywhere on this card....amazon you will be getting this back!\",\"First, it kept unmounting on the Galaxy Note 10.1I got it replaced.I used the replacement on my Galaxy S4 and it heats up my phone when charging. IT GETS VERY HOT. GS4 does not get hot with other sd cards. awaiting my second replacement.\",\"Piece of crap died two months after I bought itI am sure that makes it on me to buy anotherGREAT!\",\"Used it in a Samsung Galaxy S3 and it was ruined within a month. Second one I went through on that phone. Contacted Verizon, Samsung, SanDisk, Google, and read a lot of forums. Turns out a lot of people were having the issue with that phone and these cards.Of course the girlfriend threw away the card so I couldn't return it, so I don't know if the issue was fixed or if was a bad batch of cards that went out or what. It's been a few months and I haven't seen the problem as much as before, so I can only assume it was a bad batch.I've had another card in my phone for a while and haven't had any issues, so for now I can't recommend this specific card unless their issue has been addressed.\",\"Do not get this card especially if you plan on using it on an Android phone. just google \\\"sd card unexpectedly removed\\\" and I found the problem is caused directly by this card. I purchased a different brand and the problem immediately disappears. Out of curiosity I tried mounting this card into a windows PC and on rare occasions the sd card does turn up empty, as if it was removed, so the problem is not limited to android. I would avoid this card completely.\",\"I bought this with Costco Black Friday deal and started using just a couple of days ago. Today when I was transferring video files from my phone to the card, I wasn't able to because it stopped half way. Now, nothing can be written on it.It was purchased from Costco, so it's not a fake Microsdhc card. I tested it out its authenticity with an app on Google Play and verified that it's real too. Still, it's a piece junk. What is Sandisk doing to its reputation?I would advise shopper to choose other brands over this. Surely, it's cheap; but would you rather lose all of the important files that you store in it?\",\"After a small preasure while trying to remove it from a device it got brokenAlso, the I/O speed is not amazing, even for a Class 10\",\"I have to assume that the brand new 64gb SanDisk Ultra Class 10 SDXC card is responsible for the occasional video recording stutter/pausing that has happened since I started using it today. Prior to that, never had an issue with my previous SanDisk SDHC card. But today on its maiden trip, it has led each video (only 3-5 minutes long each) to have several performance issues that by default I have to attribute to the card since nothing else has changed and I've never had an issue in the four months that I've had my Galaxy Note 2. No problems formatting this card though or installing/using it otherwise.\",\"Just started unmounting and remounting all by itself. Really sucked the battery life for a while there. A quick google search showed this to be a common problem. Oh well...\",\"I have had the 32gb in my Galaxy S3 for almost three months and there were no issues. However, the phone just recently started telling me the card has unrecognized files or it is empty, causing the loss of my media. I chose to format it after seeing the error for too long, chalking it up to some random error. Somehow, yesterday, all of the files on my card magically reappeared and I was able to play my music again, despite having had the phone format the card. Shortly afterwards, the error reappeared. I put the card in my computer and it is simply not appearing. Shame, but I think this is a risky card to purchase.\",\"Crashed... Lost everything... Thanks SanDisk. Used in gs4..not a solid product couple years worth of stuff gone in an instant.\",\"These have issues with gopro, do not use. The transfer speed is inaccurate, and gopro has even admitted it doesn't support this.\",\"I ordered this memory card for my Drift Ghost-S action camera. I started getting errors and the camera was freezing and saying there was a storage problem. I assumed the camera was faulty and actually exchanged it for another camera. Same errors. I switched to a SanDisk Extreme card and never had problems again.If you're going to be recording HD video, especially at high frame rates then do not get this card. I'm sure it would be fine in any other scenario though, but it's advertised as a class 10/UHS 1 card and it's just not as fast as other class 10/UHS 1 cards.Drift Innovation (the company that makes the Ghost-S camera I use) has stated in multiple support tickets with me not to use any \\\"SanDisk Ultra cards\\\" because they do not perform fast enough for the camera and will result in slow card errors. They work ok until you try recording 1080p video at higher frame rates.\",\"It worked fine at a start and offered great speeds, but after a few months my cell phone started to eject and reconnect it several times per day (at least once per hour). That made my phone eat up its whole battery life in half the time. I installed Watchdog and noticed that the Google+ process also incremented its CPU usage. I read somewhere that it was caused by this kind of problems with microSD cards, probably because the process was trying to scan the memory once inserted. In another forum there are also reports of this kind of problems with some of the latest generation SanDisk microSD cards.Now I decided to purchase a Samsung one which can be found similarly priced. My phone stopped acting up, and its battery life came back to normal.\",\"I just called Sandisk and they say they have a new card version that corrects the problem. 1-866-SANDISK (726-3475)Sandisk Tech says that the new package will show that the card is made after March, 2013 (don't know if that includes March, but probably does), and it should be corrected. Some older than late 2012 reportedly are ok. Who knows.They even say that they will provide a free UPS return label.Of course, you are taking a risk as to whether the problem is really fixed, so keep backups. I don't know what I would do.\",\"Fast card while it worked. Died less than a week after return period expired.... Must note though that that is the nature of any memory storage card or drive. Some fail, some last forever. Not SanDisk's fault, not amazons fault - it is what it is. BUT it is for this reason that i think Amazon should extend the return period on items which fall into this category. Dont worry amazon, i still love you - but feel like your played the role of a proctologist on this one...\",\"I bought it for my new galaxy note and I realized the device didn't recognize it...tried it on other devices, laptops, desktop, macbook didn't work...Very disappointed !\",\"This card was dead on arrival and did not work whatsoever. When copying files to it, the transfer speed was below 1MB/s and then when I would eject the card the contents I just transferred would be lost. The card refused to format, I got an error message that the lock was on when it was not. Definitely a dud. I exchanged for a Kingston card of the same size which worked and still works flawlessly.\",\"I don't notice any significant performance increase over the less expensive class 4 sandisk sd card. I don't recommend this card.\",\"I bought it for a Samsung s3 and had continuous problems of messages saying it wasn't connected, etc. Replaced it wit the equivalent Trascend and never had a problem for the past several months. It would work on a PC with ana adapater and then failed to format in any device so I had to RMA given the lifetime guarantee. A hassle.\",\"Unfortunately this sd card is not fully compatible with the samsung galaxy s2. I installed it and the phone would \\\"check\\\" it only to tell me \\\"SD card ready for removal\\\". This was a continuous cycle and even after formatting to FAT32, NTFS, and FAT the card would not work and would revert back to exFAT format.I do recommend this product for those who can get it to work but my 3-stars rating is only due to a lack of compatibility listing on the product site.\",\"I have exclusively used Sandisk Extreme cards in my pro photography gear for years and they have NEVER let me down. This one is a dud, though. I plugged it in, let my phone format it, and then start copying to it. Everything copied just fine, but after I got done, that's when it started acting up.If I had my phone plugged into the computer and was using it as a storage device, I got tons of CRC errors and/or messages saying that I needed to format the card before using it. The phone would come up from time to time saying that I had inserted a blank card. If I reboot the phone, it works fine for a little bit, and the errors would start again. I thought maybe it was the way the phone formatted, so I tried to format it on the computer, but that didn't help anything.Very frustrating! Thankfully I've had it for 2 days before the trouble started, so it's going back to Amazon for a refund and I'll have to find a more reliable card for my phone.\",\"The card worked great at first. I've never had a problem with Sandisk in the past but I bought this card for my Galaxy S3 back in October and it was dead by December. I'm sorely disappointed by this purchase. Maybe it's just a faulty card but my experience was terrible so this gets one star.\",\"never looked to verify the capacity of this card, it is clearly labeled 64gb but when installed it clearly is not. When installed into any computer it shows 27.4gb available with 1.68 used. So beware if you order one to make sure you are getting what you pay for.\",\"I bough it because it said it was fast, but not. I'm only getting 13Mb/s with an Galaxy Note II a very fast an excellent phone.\",\"The class ten card failed and jamed my phone a KYOCERA RISE : it was replaced with another regular H D 32GB SanDisk card and is working fine. The micro SDHC CARDS are 1/3 less in price than they used to be and are a best buy by far.Your Music PalJoe Mal\",\"im so upset right now it just died , turned on my phone and all my movies pics music all gone. card just died after three months bullcrap.\",\"I have only had this for about 2 months and it is already dead. My GoPro doesnt see the memory card, my PC doesnt see the memory card, both of my laptops do not see it.\",\"I bought two of these from a major electronics retailer to make sure I don't get a bootleg one and they both crapped out on me. I usually buy from amazon but I needed them rig away . So unless that company has bought a large batch of bootleg cards or maybe I'm retarded. I bought them from the same store but different locations. I have switched brands now. Not taking anymore chances just in case a flood of bootleg ones hit the retail chains too. It worked fine at first but as the card filled up both times, both times they died and my pc or phone couldn't reformat it or recognize it. Good luck if you buy this major name brand, I thought they were the best too but not for me I guess.\",\"I bought this to store all my music on my phone, but it doesn't work. The phone has trouble reading from the card, and I keep having to reformat it. Buy one from Sony or some other company instead, especially if you have a GS3\",\"Was working fine for 2 months. Randomly stopped working. Is not recognized by my computer or cell phone. I am beyond the Amazon return window, so this absolutely sucks.Wasted my money.\",\"I first tried putting it in my camera, without formatting. It just said \\\"insert another card\\\". I put it into my linux computer, and it output lots of errors in the syslog, and fsck wouldn't work at all, just error'ed out, so I couldn't even format it.My windows computer couldn't recognize it either, though it tried to format it. My phone didn't give any errors, but I wasn't able to really test it there. (I do wonder if just the mini to standard adapter is the problem, since my phone has a mini slot, and everywhere else that I tried it needed the adapter...Exchanging for a different brand, and I'll see what happens.\",\"I purchased four (4) items from amazon and when I opened the box my 32gb memory card was missing. So rating this product is truly impossible\",\"Everything transfered over to my new SD card fine, but now my phone will randomly lose the SD card and have to search and re-scan it. Tried another SD card and no problems. Now I can only get a refund since its out of stock.Updated 12/9/12-SD card will not not work. My phone or computer will not read it. Lost everything. I'd advise if you are looking to purchase an SD card look at another brand.\",\"After I put this card in my new S4, my camera would hang and just not respond to anything. Some apps also stopped working. I put in my old 16GB card and everything worked fine.\",\"I thought buying this directly from amazon would guarantee me an \\\"authentic\\\" sandisk. Honestly, I'm not sure if I got an \\\"authentic\\\" one or not, but it's failed within 6 months. Either it's not authentic or sandisk has really dropped the ball on quality. P.s. it's made in CHINA - if that tells you anything.\",\"Sadly I missed the return window by a couple of days. this card got flaky in my galaxy note 2, a little google research and it appears this is a very well known and widespread issue with these class 10 32gb cards. Avoid until it's fixed.\",\"Despite the Class 10 rating, this card has much slower write speeds than some others and there are numerous examples online of it not being fast enough to work with the high resolution video from the GoPro Hero 3 Black Edition. If you're using that camera, choose one of the cards recommended on their site.\",\"This died so fast and I barely used it. in fact, I did not even put anything on it and it died. My pad recognized it for a few weeks, but when I went to put stuff on it, it was dead.Complete garbage, stay away.\",\"I was using mine in a GoPro Hero 3. The card just broke for no reason. There is controversy weather its the GoPro or SanDisk, but after doing some Google research it seems that its more of SanDisk's fault as these SD cards also fail (or used to) in varies Samsung devices (phones / tablets). Amazon sent me a replacement, so no harm done, but for the money you would expect something top notch.GoPro users (on the support forums) recommend getting 2x32GB SD cards, which have not had any issues as far as anyone knows. The worst part is losing important content, I was lucky, I copied my movies from the SD card onto a HD on my PC. Others not so lucky.\",\"I purchased this for my gopro hero 3 and it worked ok for a while, then suddenly the camera would only record about 10 seconds at a time. After reading some forums online, I was prompted to swap this Sandisk out for a Samsung card. All of my problems went away! I still use this card for random storage, but I won't use it in a camera again.\",\"It Failed. It only worked 3 months.I used it in a Galaxy S3 phone. It seems that this brand has an issue with this model.I lost the information.\",\"I have lately purchased two micro-SD card one Sandisk Ultra 64GB microSDXC and 1 Sandisk Extreme Pro microSDHC 16GB. The first one claim 30MB/s the second claims 90-95MB/s. I 5 tests on my Galaxy Note 2 and 3 different benchmark test on my computer using USB 3.0 card reader. I can only get 7-8MB/s (this not even class 10, let alone UHS-1). I even did real world testing by copy a large set of data (2GB of photo).The result is no different. I do own Sandisk extreme SDHC card on my T3i and I do get 65MB/s of transfer rate. I strongly recommend consumers to test their premium (UHS-1) microSD. I felt very disappointed on Sandisk. I will try other brand like Samsung, Patriot or Lexar.\",\"This doesn't work on the galaxy note 10.1. It is getting detected however it is not being utilized by the note 10.1.\",\"Card has failed several times in the phone I installed it in. I purchased it for the phone where it has resided for a month. In that time, it has required reformatting three times which makes its utility useless as a storage device.\",\"This card only lasted two weeks before it began giving read errors. I used it in a dash cam and no matter how many times I formatted, it would only record for about a minute before failing again. I picked up a PNY card since and it has worked beautifully. Unfortunately, I've been swamped and forgot to return this card before my 30 days. Not happy about that!\",\"I bought this for my Android phone and it kept stating \\\"media scanning\\\" over and over, even when the device was on or not even restarted. I thought it was the phone and was so annoyed. Then did a search and found that several others got a duds from this same batch off amazon. So not only did I pay for this, now I have a useless 32gb card that refuses to hold music on my phone, or anywhere else. I loaded a 4gb card in the same device and it only scans media when restarted and does not lag at all. The phone can hold up to 32 gb too. If you don't believe me, go onto the Sandisk message boards and look. It's a dud. So disappointing.\",\"trash quality, broke and corrupted my data on two different cards\",\"This card continually unmounted in my S4. It was really painful, when I remounted the card I sometimes retrieved my files, sometimes not. I have to say, though, that a card test in my PC, using Crucial diagnostics, went fine. My gut feel is that the card overheats, and shuts down in the S4, although I have no proof of this. What I do know is that it didn't work for me, and many others (google it). Naturally, Amazon refunded me the purchase cost when I returned the card, gotta love Amazon.I now have a Samsung 64g card, and no problems so far. I like Sandisk, but there's a compatibility problem here with the S4.\",\"I was taking a tour in Hangzhou China and while I was shooting with my Canon 6D, the card out of sudden crashed. My camera won't recognize the card and it showed \\\"card reading error\\\". I had more than 2000 photos in it including the trip in Beijing and Xi'an. I was not able to cover those photos even with the common flash memory recovery softwares. I may have to send it to Sandisk subdivision LC Technologies to recover those photos, for the 64 gb they are asking for $325, regardless how much photos they can recover.Lesson learned: for important shoots, use 32 SDHC card, they are so far the most stable SD cards out there. I spent over $10K for this vacation and most of these valuable memories are gone. Thanks a lot Sandisk! I wish I could give negative stars if Amazon allowed me to.\",\"Unmounts randomly in mu surface pro 2. Seems to mostly be centered around write operations. Trying the samsung version which is sadly much more money.\",\"I have purchased two of these 64gb sd cards and used them in an Android phone, and in a video recorder.After about 3 months usage in my phone, the card would randomly unmount and it took many remounts or reboots to get the card to work again. Eventually, it stopped accepting writes at all, and couldn't even be formatted... although I could see what was on there.I repurchased the card, and after a couple months, the same thing happened again: random unmounts. I moved the card to a video recorder, where it worked for a while... but even with a different usage pattern, it died again.I have had no problems with 32GB cards so far. I'm staying away from this generation of 64GB cards.----EDIT----Getting these cards RMA'd was quick and easy. I had a Lexar 128GB SD card die too, and I sent the cards in all at the same time. I haven't gotten an update from Lexar, but I got updates AND my replacement from SanDisk. Supposedly there was something fixed in this new card revision. I hope so.\",\"The cars seemed great, but occasionally the card is suddenly \\\"not formatted\\\", even without writing new data to it. Has happened in multiple devices.I lost some video I can't rerecord on it, and am fairly upset.Some forums say that the early runs of these cards did that occasionally and that it has been fixed on new runs, but I find it difficult to trust them now. I have never had this problem with any SanDisk product before, including the 5 of these cards I have in 32GB.Very disappointed.\",\"My Motorola Droid Razr Maxx HD works fine with a 16GB SanDisk card, but the 32GB card died in less than 3 months. SanDisk will replace the card under warranty, but the SanDisk customer support team informs me that the replacement process takes about a month. For two months, the card worked flawlessly, and then it started to have intermittent errors. I thought it might be a problem with my phone, so I tried a 16GB card, and I never had a problem. When I returned to the 32GB card, the intermittent problems returned and got worse. Eventually the card completely died, and it is no longer recognized by either my phone or my computer-connected card reader. Both Windows 7 and my phone now act as if no card were inserted even when it's well seated.I plan to update this when I have used my warranty-replacement card for three months, but that will be at least four months from now.\",\"Bought it for my LG L9 Android phone and in the phone it stayed. Speed is average. The problem is that it broke within 8 months with all my data in there.\",\"I bought this card, originally for my Galaxy Note II, with the intentions of using it as my primary downloader, but I could not get it to format correctly for the phone, even using third party format software.I then tried it in my Galaxy Tab2 7.0plus......same problems.I finally, and ridiculously, put the card in my Nikon D5100 camera. I could take a whopping 8k photos, on high/large settings (not that I would ever need to\",\"I ordered this card as part of a lighning deal back in November. The card was working fine in my galaxy s3 until a few weeks ago where it would intermittently not be recognized by my phone or my desktop computer and today, 4 months later, it died completely. I guess you really do get what you pay for.\",\"In real-life use--copying compressed files to and from the card--it clocks in at barely over half the advertised speeds: about 16MB/s read and about 7.5MB/s write, as averaged between testing on several SD slots (some USB-connected, some PCIe-connected) on several computers, plus a just-released smartphone. Very unimpressed by the \\\"up to\\\" marketing of SD card vendors and makers.The actual raw size is also about 59.5GB, which I find fascinating for a flash device, which is only ever manufactured with powers-of-two components. (1KB = 1,024B)\",\"UPDATE:This card stopped working as of late February 2013, after only about 2 months of regular use. There are 492 similar complaints about this card (now 493...) and this is 17.5% of 1 star out of 2918 reviews... At first I thought it was my phone not being able to find it, or the card would often spontaneously dismount, and there were the frequent and repeated alerts for me to format the card. Formatting the card only cured the problem for a day or two... Plugged it into the desktop directly, and the same thing happened. Got another card of another brand, and everything has been working well since early March 2013 with the other card. So it was not the phone but the card that is at fault. Very poor longevity. The price is right, but at the end not worth it if you need to buy another card to replace it. Amazon only covers 30 days..., so consider this a very expensive 60 day experiment if you are willing to try this brand of card... Would NOT recommend.\",\"Used this micro sd card in my Samsung Galaxy Tab 2. Was watching a video stored on the card while ago when the video quit playing, and the message \\\"Sorry, this file cannot be played\\\" appeared on the screen. Checked ES File Explorer and found that all the apps, movies, music, etc. I had stored on the micro sd card were gone. The card was apparently totally blank. Inserted the card in my desktop computer, and the computer said that the card had to be reformatted before it could be used. Tried to reformat it to NTFS, ex-fat, and fat32. Each time the computer said it was unable to complete operation. Guess this card is dead after a little over 4 months....\",\"It worked great in my Samsung Galaxy S3, and then failed after 3 months. Have tried contacting Samsung via their warranty form on their website and I am not having any luck. I gave up and bought a different 32GB card from NewEgg.com hopefully that one lasts longer.\",\"This card had rave reviews, so I decided to get it to use it with my new GoPro Hero3 camera. I liked that it had a high capacity and it was class 10 which would allow me to maximize the features of my camera. As soon as it arrived I popped it in to the camera for a quick test run and after it was successful I then packed it in my luggage for a\",\"Sandisk finally admits that defective micro sd cards cause battery failure in the galaxy s3. I had mine about six months before it failed completely. I submitted complaint to sandisk and await their response.\",\"We ordered these and used them in my Galaxy Note 2 and my wife's Razr M. After a few months we noticed that they would cause the phone to freeze up. The phones would start showing that it was mounting and unmounting the SD card early on but toward the end they just froze up the phone. Once we trashed the cards, the phones worked fine. We bought a different brand and no trouble since. I don't know why these red & gray ones have issues but stay away from them.\",\"Bought it, installed it in my Droid RazrM never removed it and it died at a little over 6 months now. Did not store apps or anything. just pictures and video from the phone.\",\"If you look through the reviews you will see that this card seems to have both a failure rate and a incompatibility with some devices. I bought this card in November of 2012 and it worked great for a while. The card started failing in my Galaxy Note 2 in the beginning of January. After reformatting and trying the card in other devices it still does not work. Please understand that this is not a\",\"Sandisk quality has failed me. Moving on to another brand. I've had three of these memory cards fail on me in very short order.\",\"I bought this and after a month of use on my Samsung Galaxy s2 it failed and could no longer be seen, and when i contacted support they said that i had to send it to them to get replaced which is more expensive than buying a new one\",\"Got this for my Samsung 3. After 4 months, was no longer accessible - first message I got on the phone was that there was an unformatted Sd card installed. Next, it wouldn't even recognize the card was in there. I inserted a different card, and the phone was able to recognize it and play music off it - - so, not the phone. I also tried having my desktop read the card - - no go there either....\",\"I have always used SanDisk products but this was a disappointment. It totally failed in my Galaxy S3 after about 8 months. I will order another brand but no more SanDisk for me!\",\"It worked for a while, I purchased 4 of them, then they just started dying.....one by one, none no longer work.\",\"I got this card only a few months ago, used it on a Note 3, now it has failed. No matter what I try, attempts to format the drive or edit the files on it, whether using my computer or the phone, have all failed. The card's data is now essentially read-only, which is the only saving grace of this since I could at least save my data.Previous to this I had an issue with it corrupting photos randomly, with increasing regularity as it grew closer to complete failure. I am now going to be avoiding SanDisk when possible\",\"I inserted this into my Galaxy Note, powered the phone on and went into storage. I pressed on 'mount sd card' it said it didn't understand the filesystem and asked if I wanted to format it. I did and then I saw 59 gigs of free space.Works great and got it for 43 bucks off Amazon.Con:It's extremely slow to write to. If I try to write a 3gb file from my PC to the card it takes about 26 minutes (2MB a sec). If I write to the internal SD card on my phone it writes at 10MB a sec. I don't understand why it's that slow. I can accept that it will be slower than an internal SD however I didn't know it would be dog slow. My 32GB samsung micro sd was much faster...\",\"I had it for a day before it died and lost all my data. Not what I expected from SanDisk or any microSD card in this case.\",\"So far, so good. It does what it's supposed to do. Doesn't seem any faster or slower than any other micro SD card I had. Bought a cheap imitation on Ebay and regretted it as it crashed. It really doesn't pay to be cheap with memory. It's all about the reliability, which you get with this product.10/17 Update: Big problem with this SD card if you are a Windows Phone user - does not properly record HD video. Video recording to SD card is consistently choppy. Pop in another SD card - records fine. Record to my phone - records fine. I've tried formatting it every which way and it isn't working well. Go with another brand Windows Phone users.\",\"The card only read as 27 GB not 64 GB. I have formatted in various formats with various tools, and operating systems. I ordered a replacement and concluded this was a dud. Good luck buying this product, rest assured amazon has a good return policy.\",\"Either it is the wrong chip or a false reading by the device because the data displayed consistently is \\\"insert ..\\\"\",\"I can't read or write anything on this card on my PC or my GS3. I am pretty sure that I got a dud.\",\"The docs for my Smart Phone said that this card would work in it. After talking to SanDisk support I was told that a 32GB card was the max for my phone. So I returned this card for a 32GB. This card is probably a very good product. Just the documentation for my phone was bad.\",\"I ordered this memory card because, obviously i needed more space on my phone. One of the reasons why I prefer android to apple products is it is way easier to upgrade storage space with android. My memory card arrived when I expected it to and now I have more than enough space on my galaxy S4....... I once gave this product a five star and everything before this sentence is the review from when I was satisfied with it. But now I'm having problems. I can't delete stuff of of the sd card. I tried formatting it on both my phone and my computer but nothing well delete so now I'm giving it a two star.\",\"Ordered two of these and none works w my Cell Phone, Audio player or Camera.Guys, you have a problem......................................................................................\",\"Bought this with my Samsung Galaxy S4 when it first came onto market and it worked for about a week then quit. All of the pictures I had taken originally and stored on this card are just gone, it was a bad purchase and after looking through numerous forums, hundreds or thousands of people were having the same issues with this card and the Galaxy S3 + 4, I do not recommend buying this card if you'll be putting it in a galaxy. I'd like to tell sandisk where they can put it.\",\"Unable to read.It says it's blank.It then prompts to format or cancel.I clicked Format but Unable to Format.\",\"The only reason I give one star is that I cant give zero stars.Just lost all my files in the SD in my S3. I cant believe I trust my valuable information in this company. AVOID THIS ITEM. Dont recommend it.\",\"I've had two of these cards so far. Neither of them were recognized by Mac or PC. I am able to use it but only if I leave it in the Gopro camera and hook up the Gopro to the Mac via USB. It will not work as a normal SD card and needs to be used with the camera. I can not recomend this card at all. I had the first card replaced because it was defective. Now the second card is defective also. I don't have the time to play around with another return so I will just not ever buy Sandisk again.\",\"Maybe I got a defective card but this one felt a bit \\\"thinner\\\" and \\\"flimsier\\\" than other micro-SD cards I've had.The real problem was after a week of use as expanded storage in a tablet, I started having trouble with certain programs installed on the card, then finally the tablet gave me a message that the card was corrupt, and while a PC would recognize it, eery time I tried to format the card, there would be an error.\",\"I noticed a long time ago that even when not really running at very fast speeds (and I'm mostly talking about reading as mostly it was playing music and video files) this card seems to get fairly warm. After a while -- pretty much just outside the point at which I could RMA it -- it started randomly disconnecting. At first I thought it was my phone though I had no clue why it would\",\"I am hoping that I received a defective product and that my experience is rare, but this product did not work as intended. I was replacing another 32G micro sd card thinking that, because this is a Class 10 rated product, it would be faster. It never worked correctly. It kept dismounting unexpectedly, losing data, and was just not worth the money AT ALL! I ended up using my slower rated product which has worked reliably since the day I bought it. I only wish this product had done the same.\",\"I think that this product by itself is a great product. However, not all devices is built for microSD XC. And not all devices like pad and phone that specifically states that it features microSD with compatability to microSD XC. This happened to me. Since I just bought a new pad, I thought that it would be compatible. However, it did not. the microSD XC is formatted with exFAT so my device can detect the hardware but it can't write or read from it.\",\"I purhcased this card for my Hero 3 cam. It worked all of last year, or the 3-4 times i used it. I used it again this year and had some great once in a life time ski videos and the card failed. It could not be read or reformatted. I lost all my vids. It was strictly used in my hero 3 cam. I pulled it out to try to retreive the vids using several PC's, multiple card readers, and recovery software but no good. I have never known a card to fail and I am extremely disappointed.Try another brand. Next time I will use multiple cards with smaller storage and a different brand.\",\"I bought two of the 32 GB Sandisk Ultra microSDHC cards, and both of them were unusable.The first one stopped accepting new data when I had put a bit less than one gig of data onto the card. I couldn't add more files, and I couldn't reformat the card. If I tried to write a new file onto the card, the write operation seemed as if it worked, but the new data couldn't be read\",\"I can say that SanDisk is one of the best company in the fields of electronics and Digital Cameras, but I am very dissapointed of this Memory Card.The card memory is only 25GB and the speed is 14MB/s which is not as advertised.I gave it to my dad to use it on his phone and I started to use the Sony 32GB MicroSD. I can say that it works perfectly: the storage is 32GB and the speed is 43MB/s.Buy it now: http://amzn.to/1iGqMVm . This is the exact link I used to buy mine.\",\"Used it for my Samsung Galaxy Tab 2 10.1 tablet. Stopped working after about 10 months without warnings. My tablet now recognizes as blank or un-formatted card; my computers won't even recognize it at all! I am still trying to recover some priceless photos of my kids since my last backup of the card...\",\"spoke with customer service had it replaced 3 times, card had problems all of the times, they were all the time looking for ways to get out of the warranty until they decided i did something which obviously wasn't the problem because it happened 3 times with the previous cards, basically look into other companies that honer their warranties,very sad usually very good cards,they kept saying that Samsung updated the software and they update it in ways that it wont match the Sandisk cards.??\",\"Pro: \\u25aaPriceCons: \\u25aaintially began to get card read errors on Samsung Note. Right at 6 months it fails, lossing all my data. Pictures, videos, documents, ect... all gone.I shouldn't have cheaped out, I should have bought the samsung card.\",\"Purchased for my android phone to provide more media storage. The one I received was DOA. Spoke with SanDisk tech support who confirmed that it was a bad unit. Since it was within 30 days, they suggested I return it to Amazon instead of going through warranty procedures. I returned it to Amazon, but made the mistake of requesting a replacement instead of a refund. The replacement appeared to work at first, but after a short while, it caused my phone to reboot, files went missing and displayed other forms of instability. It was a bit late to return again, so I contacted Sandisk who replaced the unit under the warranty. However, this all took a lot of time, necessitated repeated copying of many GBs of data and secure erasing of information.The warranty replacement from SanDisk works well, so far. However, I'm not seeing much improvement in my application over a similar 32GB Class 4 SanDisk microSDHC (this one is class 10). Would probably give the current unit 3 stars, but this rating is for the Amazon delivered units (both defective).If you do get a bad one, I'd suggest to return for refund, not replacement.\",\"It appears that the 32GB SanDisk Ultra Micro SD Card I purchased from Amazon was defective. I installed it in my Samsung Tablet, but could not successfully transfer files using either a USB cable or WiFi. The file transfer would appear to start, but then would slow down and hang completely. It did this on every one of multiple attempts, with different file types, and numbers of files ranging from many to just a single\",\"Just as with many other reviewers here, my card worked perfectly for the first week and a half, and then suddenly lost its format and could no longer be reformatted, while at the same time overheating dangerously. Sandisk is currently issuing an RMA to replace it, but I am worried that the replacement could also end up being defective. As is evident from the 1-star reviews here, the rate of such defects for these cards is about 10%, which to me seems like an absolutely unacceptable number for a memory card for a major manufacturer. And it's not like Sandisk hasn't had a heads-up on this problem -- the negative reviews have been there for quite a while. Clean up your act, SanDisk!\",\"I dunno if it's a bad copy or what but When I try to transfer files like 2GB or 3GB it doesn't copy! It ejects itself and then mounts itself again. I had to transfer all my songs from my PC through Airdroid which was a pain in the a$$ I can't transfer movies from my PC and by the way I tried formatting it and checking for some errors but same issue but I can move smaller files like 20MB or soVery disappointing especially for such price!UPDATE: Now I have more problems! My phone tells me every now and then that the \\\"SD card was unexpectedly removed\\\" and I tried on other phones with the same problem\",\"THIS CARD DIED IN LESS THAN ONE MONTH IN MY SIII LOST 400 PICTURES VALUABLE PICTURES AND INFORMATION DO NOT BUY.\",\"Pros: Looks good, works fine until it starts acting up.Cons : Worked for 6-8 months in 2 Samsung S3 phones, and 3 months in a Samsung Galaxy Note 8. One by one they all died, became unreadable. Cannot format either. Just dead. Wasted.Sandisk did not post any disclaimers like don't bother to use this in a Samsung device.\",\"After I inserted the micro SD card to the adapter I can no longer removed it from the adapter. It was stuck inside the adapter permanently. I definitely received a defective item. I also read a lot of reviews saying this card have bad sectors.Another, while I was transferring from my computer the transferring of files suddenly stopped and said there was an error.Sandisk's quality control department should up their game. They're selling products to the general public that are defective and flawed (not all of them BUT a lot of them). It's just not me. I also read a lot of reviews saying the card they got were also defective.\",\"rec and was happy. good price, but we get want we pay for. the scan dic. would no por matt\",\"item i ordered was 64gb it listed it on the card but this was tested and at most was 1gb and very oldi would steer far away from sandisk sold online unless it is in original packagingI returned it for a full refund and reordered and oem 64gb card from samsung\",\"I had bought the 32GB card here on sale. It ran great for the first 4 months. This afternoon it unmounted from my Samsung SGS III. I powered the phone down, re-seated the card, powered up and it was still not recognized. Powered back down, pulled the card and popped it into the computer and it showed a single partition of 0 bytes. Mounted the card back into the phone and booted into recovery (my phone is rooted with CWM), where I double checked that it could not be mounted or formatted. I then tried to re-partition the card but no luck. Phone is back up and running fine on a spare 8GB card so no problems there. It doesn't matter how good or how fast the card is if it dies this quickly. I had most of my stuff backed up so no major loss, but I am out the cost of the card...\",\"I can not say it is a bad MicroSD Card, but mine Stopped working after a few months of normal use.Every time I put it into my PC or Smartphone a message came up saying that I needed to format it, But when I click on format, it showed another message saying that it was unable to format it..... The one I purchased to replace it is a POLAROID which by the way is working better than I expected.While it lasted it was perfect.\",\"The SD to microSD card adapter that comes with this product is too small. It is impossible to remove the card from the adapter without damaging it.\",\"Thank God for amazon return policy or I would be incensed. This little platic device from hell died unexpectedly after 37 days. I lost all my phone pictures that were not stored on the phone. I lost the music but have most on PC. I lost the videos I had from concerts.What happened was the phone gave me a warning that the storage device (Sandisk Ultra) could not be found. I took it out and\",\"I put this NEW sd card in my NEW GS4 for the first time, and now the metal contacts are scratched and it randomly unmounts from the phone! My older 32GB SanDisk works just fine, so I'm thinking its the thicker paint or something causing this... I don't know, but its ruined! It scratched the first day, but I'm just now noticing the unmounts now that I have my music on it, every few songs it will unmount and remount, interupting my music... I'll never buy another expensive SanDisk. I'm going to order a different brand, just make sure I can find one without paint on it.... Sucks, I really thought this was going to be a good one! I love the colors, and its so fast to transfer files to.... too bad its broken. And I didn't find out about it until after the return date, so i'm screwed. Oh well. Never again, I'll give my business to someone else....\",\"Got this to use with my GoPro Hero 3 black edition. Put it in, seemed to work. tried to get the data from the card after using it for a second and the card says it needs to be formatted.Looked to gopro's website and it is NOT on their recommended card list. Reason being is that the card isn't fast enough. It's a class ten yes but clearly not fast enough.Definitely get the recommended card, IF it does work at first it will probably die in a couple of days.\",\"I used it for something like 10 months in my Galaxy S III (GT-I9305) with original firmware, mainly for pictures and flac files.Suddenly I perceived that the last pictures I took disappeared; I took some more pictures as I thought that were software problems but same problem until I realized that the card was not working. Now I can't write it anymore or delete information, format it, delete partition, etc. Now is a ROM. The bright side is that I did not lose valuable information like pictures that now are permanently stored in the card.\",\"I will be brief and simple.Errors, errors, errors!What happened to SanDisk? You need to check your QC unit!Awful product ever from a reputable memory company.Update: I got thisSamsung 32GB 32G Class 10 MicroSD C10 MicroSDHC Flash Memory Card Model MB-MSBGA/KRto replace the sandisk garbage. Replacement works as it should. Same on you SanDisk, you lost one of your long time customer.\",\"I installed this on my Galaxy Note 2 and it crashed after one month. Lost all my pictures on the card. Had it not been for Google Plus instant upload and redundant backup to Dropbox all of the pictures would have been lost. I think I should get a refund but I did not keep the original packaging. I would not buy this, but if you do keep the packaging so you can return it. If you read most of the reviews you will see that a lot of people have had trouble with this card crashing. I don't think Amazon should offer it as it hurts their overall customer satisfaction.\",\"After exactly month and a half this card is done...and with it i lost all my pics and videos...just after the return policy expired!! card is not recognized by my phone or PC. Trying to get RMA from Sandisk...I own the S3 and have read extensive problems with the 32 and 64gb card class 10! Samsung says is Sandisk...and Sandisk says is the phone ??? But i've seen other cards failing with different phones! All Android by the way...What's the problem ?\",\"Bought this to use in my Samsung SIII as it was supposed to be a fast card. Worked fine until it totally died after less than a year of very little us due to the design of the SIII. Phone popped up a message that the SD card had been removed (it hadn't). Nothing I did to the phone brought the card back up. Removed it and tried it in my laptop (Win7) and other computer (XP Pro) and it is totally dead, neither will even recognize its in the drive. Working with Sandisk to get a replacement, they want all kinds of fairly useless information, will see if I get an RMA number and replacement card.This is the first memory card I have ever had fail.As an update, warranty service from Sandisk has proven to be non-existent. They first asked to have over 16 questions answered, then mysteriously lost all the answers I sent back, three times.\",\"My wife's Razr M has been a great phone to date. I matched it with what I thought would be a great memory card, having been a long time Sandisk Ultra user in my photography.Sadly after 3 months, without warning, the card mysteriously \\\"bricked\\\". Unreadable by her phone, two PCs and one Mac .. the only thing that can even SEE the card is my Droid Bionic - which says the card is unreadable and needs to be formatted. I am hesitant in the very odd chance I can still recover the many gigs of photos and videos of our 6 month old baby which were not backed up.I could not be any more disappointed in this product.\",\"Sorry to say but I have to pull down rating from 5 to 2. The card went bad in just couple of months. No option to return as its beyond policy.The card came on time, good packaging and works so what else to add for this 16 GB SD card.\",\"For the first two months, the card worked great in my GoPro Hero 3 Black Edition. Then, one night, it randomly stopped working. Amazon won't take it back, and I've got an email into SanDisk to see if I can get it replaced. Now I'm out $52 and now can't use my camera. Thanks so little.\",\"I bought this on black friday last year and took a chance on it. What chance u say? I read some reviews that this card just actually STOPPED working for no reason and not due to abuse or misuse. I had this card in my Acer Iconia A500 and it just STOPPED WORKING! Even my computer doesnt recognize it. WTF Sandisk?? This is an expensive part for this to occur. DO NOT BUY OR IF U DO, BE CAREFUL WHAT U STORE ON IT! I only had music and movies on mine so NBD. But what if u had this in your phone with valuable pictures?\",\"1080p 30fps or 720p 30fps or 24fps using the nokia camera app or regular app doesn't work. well it does but unless you want to see stuttering every 6-7 seconds. it freezes up constantly. very glitchy because its slow. got a 9mbs write 44.9mbs read on mine.\",\"failed in my galaxy note after 8 months.lost all my pictures and videos that werent backed up.the card worked fine until suddenly wasnt being recognized on the phone or the computer.Sandisk honored the warrenty and sent a replacement and it works, but I am less confident about the product and afraid to lose data on it in later when i'm not prepared.\",\"Stick with the 32GB model. First one got SMOKING hot about 1 minute after use, but it seemed to function. Then I installed it in my Samsung Galaxy Note II and it got hot in the phone. After a day it just quite all together, luckily I still had my 32GB and a backup of my data. Did an RMA and got a new one, which didn't get hot but died after less than a month of use. I'll wait until Lexar's 64GB comes down in price a bit and then try that one...but not this SanDisk one! Their 32GB seem to be ok though.\",\"Got it on sale for an incredible price. The only way I am likely to upgrade from this is if they come out with a 128g size. 64g is not necessary for my use, but at 128 I would be able to use it without worry of running out of space /and/ put my entire mp3 catalog on it as well.Update - about 4 months after I bought this and installed it in my Galaxy\",\"Most of my reviews are positive. This product failed (could not read on my device (a Galaxy S3) nor on my computer with 2 different readers) in less than 30 days. The customer support is also unhelpful, as they would only replace the card after many questions, they would not provide a refund (I did not want a replacement of a card that failed so quickly).I would suggest buying a different card, it is not worth the hassle and lost data to save a couple of dollars with buying this one.\",\"This \\\"Ultra High Speed\\\" card is about half the speed of the Class 4 card I was using. 10MB/s Read and 6MB/s write is more than a little below where a device with this rating should perform. I could believe if it was the same speed as my old card, maybe my brand new Samsung Galaxy Tab 2 7 doesn't have a UHS1 rated port, but to be half the speed of my Class 4 card, this \\\"UHS1\\\" thing clearly is penciled on by marketing monkeys and sold without any testing or quality control. I wish I knew how to rate with 0 stars.\",\"I am not sure what happened to these cards but I have owned several and they stop working quickly. I sent a message to SanDisk and never heard back. Very disappointing!\",\"If you have a gopro, get a different card, it worked in mine for a while then stopped, turns out the gopro fried it, no fault of gopro but through sandisks error, sandisk will replace it but it can get fried again. I've read up on it and it's a common issue, so if you use this for a gopro, get a samsung or patriot or something else to be on the safe side.\",\"The storage works for my phone but when you install the storage into the SD adapter, my computer doesn't read the data.\",\"Its going back because it doesn't meet spec.Tested with H2TestW, write speed is only 9.69 MB/s. Read speed is good at 18.80 MB/s. (although Sandisk claims up to 30MB/s)Meanwhile, a class (10) 32GB Transcend SD card I have writes at 15.30 and reads at 18.20.I also have a few class (6) 4GB Sandisk microSD cards writing at 15.40 and 15.50. Reading speed is 18.40 and 18.30.I also have a class (4) Kingston card that beats this class 10 Sandisk.\",\"The description is quite confusing - it says at same time class 10, which means that you should not expect write speed higher than 10mb/sec, and at the same time, it says UHS-1, which means 30mb/sec write speed. The truth, as usually, is somewhere in the middle, but close to lower end. I have a dedicated, high speed PCI-E cardreader, which I use for chip benchmarking. So, this card showed 12mb/sec sequental write speed and 34mb/sec sequental read speed. So, UHS-1 is \\\"true\\\" only for read operations, meaning that if you wanted this card to speed-up your digital camera speed photography - you've made the wrong choice. Just for reference, this cardTranscend 16 GB Class 10 microSDHC Flash Memory Card TS16GUSDHC10has sequental write speed of 17mb/sec and sequental read speed of 24mb/sec. As you see, the cheaper transcend has average 40% faster write speeds!\",\"I am going to start spending a little more money if needed and start buying Transcend. The one Transcend thumb drive I've purchased, 64G, works great and always has. The SanDisk 64G thumb drive always had some kind of annoying problem until it finally quit working. Everything I've been told to do to reformat and reset it doesn't help. And FYI, I ALWAYS ejected the drive before I disconnected it. These memory cards from SanDisk that I've bought also have these little headaches all the time. All my Transcend work great and they have been faster to copy my 40G worth of music to. Spend the little extra money if need be and buy the Transcend.\",\"If you were looking for a class 10 microsd card in order to DIRECTLY transfer files from your PC to your phone the fastest way possible you can go with a cheaper class 4 instead of this one. The speed is not much different than other class 4 microsd cards I've had. It's very far from the 30mb/s they promise, I got only about 4.5mb/s AT MUCH, and after a few minutes it's downhill from\",\"I bought two of these Memory Cards for use with my Logitech Alert 750e Outdoor Master Security Camera's. So far, I have found them to be unreliable. I am not entirely certain if this is because of the Camera system or the Memory Card themselves. The camera frequently will report a memory card error that indicates the card has to be reformatted. This is problematic as if the camera had recorded something that was important, the failure of the SD card would be very troublesome indeed.\",\"I bought the Sandisk Ultra 32gb card for use in my Samsung smart phone. Worked great for about 3 months. Now the phone won't recognize the card & neither will my computer. Just went unreadable one day. Very disappointed in the reliability of this card. Will contact Sandisk as it has a lifetime warranty. Shall see if they'll stand behind their product.\",\"I thought this was a sure winner from the average 4.5+ rating with thousands of reviews. But if you notice the bad reviews involve the card becoming unreliable after a couple weeks of use. Typically people write reviews shortly after receiving the product. My card worked fine for 2 weeks and then started having problems. I re-formatted the card, re-inserted in the phone, removed the battery, every trick I could read about but the card still remained unreliable and the phone was thinking it was being removed at random times. So I stuck my olders, slower 8GB microSD card in, worked fine.I suspect one or both is happening with this card:(a) Some cards are defective but it takes some usage for them to start failing to where the user notices.(b) For some reason, this brand of card doesn't like certain devices, like my Samsung Galaxy S3My guess is I got a lemon, but I'm not chancing it to getting another one and will just move on to another reputable brand.\\\"You get what you pay for\\\" may be applicable here. But a lot of others did have success with this card. So YMMV.\",\"I used it in my Droid Razr Maxx HD and it kept unmounting itself. Then it became unresponsive and all my data was lost. Now it isn't recognized by my phone or my laptop. Dead in the water.\",\"I think I got 8 or 9 months out of this before it started to fail. It is still working intermittently but my phone will suddenly stop being able to read it for no apparent reason. \\\"Designed for durability\\\" my foot. It might survive in salt water but it didn't survive in a phone that, frankly, doesn't get a whole lot of use. This is the first Sandisk product I've ever had fail on me. It may still be under warranty but I don't care. Now that I have to replace it I'm going to go with another brand.\",\"This review is for the SanDisk Ultra 32 GB MicroSDHC Class 10 UHS-1 Memory Card with Adapter (SDSDQU-032G-AFFP-A) that was purchased for me from Amazon.FRUSTRATING in a word. This card was reported by two different Android phones as damaged but my Windows computer recognized it with no issues. If the card had nothing on it or had just been reformatted then the phones recognized it but as soon as data, music or pictures were added\",\"I was very excited to buy this card (64 gb) for my Samsung Galaxy Note 2 - The product arrived promptly and I was able to format it to EX Fat and use it right away in my smart phone. However, exactly 10 days later when I removed the card (after turning off the phone) and inserted it in my Desktop, I got an error saying that the card was corrupted and unreadable and that\",\"I love SanDisk, and I have used quite a few of their products, including an mp3 player, a couple of USB keys and even a micro SD card (class 4). I have never had any problems. After installing this card, however, I have seen it unmounting itself randomly to be detected again and automatically being mounted by my Galaxy S4 device. This happens several times a day, including when I am in the middle of watching a movie on the phone (this is the first week that I have had the card). This is unacceptable. Normally, I would have just asked for a replacement, but after doing some research online, I have found out that this seems to be a recurrent problem on many phone models and doesn't seem to be just \\\"a dud\\\", but a production issue. I have returned the card, and I am going to go with another brand instead.\",\"Worked great for about six months in my s4 and last week it started having device connectivity issues. The phone keeps saying ad card removed, resetting the phone lets the memory card work for maybe 30 minutes. Very frustrating.I have 30 gigs of media, I would appreciate scan disk resolving this issue with me and the product\",\"It failed after about one year of using on a samsung Galaxy s4. Now I contacted Sandisk for a potential replacement. I can't format it or do anythin wiith it.\",\"SanDisk told me I needed to send this to them to format it. It will not recognize in any of my items.\",\"I returned to order a 11.6 laptop so I could have full operations than having a Notebook. I am sure this is good quality as I have purchased San Disk numerous times.\",\"Fortunately I got this as a lightning deal, so it wasn't that expensive. I purchased it in October, but didn't start using it on my Samsung Galaxy S3 until January. It was fine, until it wasn't. It chose to die today. Just a little more than four months after I started using it. I checked my phone this morning and it told me that the SD card had been unmounted. I did not think much\",\"I used this product with my Dell Venue 8 Pro. After a couple months of use, it stopped letting me add new files or delete old ones.I tried reformatting and wiping the disk, but nothing worked. Since the vast majority of the reviews appear to be positive, I assume I just got a bad one.\",\"im using this card on my galaxy note 2 but it's slow, and phone constantly unable to read the card\",\"Got the SDSDQU-064G-AFFP-A on December 28, 2012, died on May 20, 2013Could not write to it or change any data, no matter what device i used. Even after format (Full & Quick using disk manager & EaseUS Partition Master 9.1.1 Home Edition, connected in a device or adaptor or usb adaptor) when disconnected and reconnected no change. Dropbox saved my data luckily (Had it syncing using Dropsync Pro).Was using it with Samsung Galaxy Note 2 T889 for the whole time, never was removed.\",\"I bought this to because I wanted to upload music to the disk for my off the computer listening, this does not support music files so I have no need for this. I've tried hooking it up with the Flash card it came with, I've tried putting it in my phone and hooking my phone to the computer, I've tried through my mp3 player...nothing. I can't even get Windows Media to recognize the flashcard. If you're looking for more storage for portable music don't buy this.\",\"I haven't figured out yet if I'm a dummy or if I have a defective card. I don't know if the card is bad since I can't even get the card to stay in my Samsung Galaxy S4.8. The little card will go in (the larger one won't) but it won't stay in. If I put pressure on it the Samsung says .. preparing SD card but as soon as I release pressure the Samsung says .... card removed.This card came from a source outside of Amazon and took way to long to get here. It arrived in a white envelope with NO instructions. I'm very upset about this purchase as I've never had a problem before with either SanDisk or Amazon. I'll try to find someone with more experience than me to give this a try before I return it. I would have expected this to come in a package from SanDisk, like other SanDisk products I've bought in big box stores or from Amazon but it did not.\",\"06.NOV.2012 - Bought the card.12.JAN.2014 - Card failed.It cannot be formatted or used in any way.It lasted 14 months and most of that time I was not even using it.\",\"NOTE: please read the last update (scroll to the bottom) - I'm leaving this review as 1 star as it appears to help others who purchased and had a similar experience.I give SanDisk 5 stars for customer service and 1 star for the product (for those manufactured in the past) For those newly manufactured products that contain the software ROM fix, I'd give the product 5 stars.To all those who purchased this card due to\",\"The 64GB card I purchased actually contains 4GB of flash memory and some kind of hack that causes it to appear as a 64GB drive in various drives and readers. Of course, this took me a while to figure out since I only just got around to copying more than 4GB of data to the card, but with some testing I have nonetheless discovered this to be the case.The card I bought was in Amazon Frustration Free packaging. I don't know if cards purchased that way are less likely to be counterfeit than retail packaged versions, but I suspect that I will stick with manufacturer packaging from now on.\",\"I have purchased 2 of these cards. I have attempted to use them in my GoPro HeroHD, Samsung Galaxy S4, Asus TF700, and in all of them they end up corrupting out of the blue with no warning. I then have to perform a deep recovery to get the files. I will never buy these Ultra models again.\",\"I'm so disappointed in SanDisk. I bought this for my Galaxy S3 phone. Worked great for the first few months. Suddenly I noticed some pictures were missing. Then it kept giving me an error that the 'SD card has unexpectedly stopped working' then i tried popping out the card and popping it back in. Now it says unrecognizable files and it asks to format the mp3's I had bought and stored on the microsd card. In a pinch just to see if this would fix my issues I formatted the disc. Now I lost everything and it is still giving me issues. Read some similar issues from other customers, now I'm regretting my purchase. Save your money and headaches and buy something else!\",\"April 2013. I have had the card for about 4 months and seemed to work fine. I use it to store additional files on my ultrabook as the solid state drive is small (only 128GB). About a month ago, the card could not be recognized. It only lasted about 2 hours, so I thought maybe just a momentary blip. However, this weekened, it cannot be recognized at all and it has been 3 days. Sandisk\",\"I got this product exactly 1 month and 3 days ago. Prior to today, it was working fine. Out of nowhere, my Micro SD card can't be read anymore. I've tried several phones, and 3 different laptops (both OSX and Windows 7), and it doesn't even show up anymore. Be weary of the product. You may end up with a lemon.\",\"I ordered these cards at a great price during black friday week/weekend. I began loading some files (music, videos, pics, etc). The first card worked without any problems. The second card started giving me cyclic redundancy errors. At first, I thought it was my hard drive that was failing, and tried to copy the same files to a flash drive which worked just fine. Ok, maybe I received a dud, and tried with another card\",\"Performance and capacity were not in line with cost and expectations. These are most likely counterfeit or back door sales in my opinion. Very unsatisfied.\",\"I got this to use in my Acer Iconia W510-1422. When I went to format it it only shows it as a 27GB. I put it in one of my other computers to double check. YUP oddly 27GB. Fluke? Miss representing? Did I get a bad unit? Not going to return because packaging is gone and not interested in paying for the return. It works, it is fast, no issues, but only 27GB.\",\"I had this Sandisk 32Gb Class 10 micro SDHC card in a Pittasoft Blackvue DR500GW-HD in-car camera DVR. It worked like a champ for 2 months and then died with the dreaded \\\"Please format the SD card\\\" errors. Stuck it in my Mac Mini (2011) and it is unrecognizable. Same with Windows PC. Even the low level HP SD card formatter cannot reformat it. So in the garbage it goes. I have 2 more of these cards in my Garmin GPS devices and they continue to work (so far) but they are not being written to continually every day like the Blackvue. So a word of advice; if you need to write to these cards often - buy something else.\",\"Failed after a year!\",\"I am now awaiting a replacement from Sandisk because it failed after the Amazon return period. Always had good luck with Sandisk cards until now. Phone and PC simply stopped seeing the card. Lost all of my data (which i fortunately had backed up elsewhere).\",\"I purchased this product knowing there might be an issue with the galaxy s4. This card worked for a week or two then began to spontaneously unmount and would mount itself back in. The unmount periods began to become longer than a few hours, days! I tried this card in a galaxy note 2 still with the same result. I attempted to contact Sandisk customer service and utilize the warranty. They know of the problem and began the exchange process then instructed me to wait for a mailing label that never came. I called back and was told that they would re-email it to me. To this day I am still waiting for that email. I have never had this issue with this company but with ever changing technology, it is what it is, right? I know this card will be good for some device I have. If you own a galaxy phone beware!! I have not attempted to use this in a samsung tablet so on that I cannot review.\",\"When i got this memory card, noticed the writr protect lever was hard to move. Instead of just sending it back I tried to meve it and the mdmory card broke on hslt.I hanve many SNdisk cards and havd had no troible with them. I guess I just got one that missed wuslity conttol on the line.Dont want to buy another but what do you do.\",\"I bought this on October 9th and didn't start using it for about a week after I received it on the 11th. Well two days ago it died a quick death, I can't even format it! So after all these years of buying SanDisk products I guess I will give in and start paying a little more for Kingston it seems as though SanDisk is getting to be a cheaply built product. You would think that a product this small and inexpensive would be able to be replaced without cost within the first 90 days but that is my fault for not reading the fine print so lesson learned. Buy it right and buy it once so go with something else!\",\"As the title says, the card I got is defective and faulty. The issue is, the sd card always unmounts and then remounts and sometimes it will says the the sd card is corrupted and needs to be formatted, so first I tried to format it using my cellphone (xperia play) copied all my files again to the sd card and it gave me the same error tried 2 other phones (inspire 3g and Samsung\",\"First of all I am not sure if the product i received is a CLASS 10 memory card. The reason why i say this is that the maximum write speed i get on my WINDOWS 8 system is 1.4 MB/Sec. Also i have issues with my system recognizing the card and i do frequently receive 'Disk Cannot Be Formatted' error.I am totally dissatisfied with this product considering the fact that i have a brand new laptop, Do not recommend SANDISK please check other brands.\",\"Stopped working after a year and a half and lost a bunch of data. I have tried accessing the data useing multiple devices with no luck. Look elsewhere for an Micro SD card\",\"Pros:1. ordered it and got free shipping.2. got it in 3 days.3. popped it out of the box.4. popped it in the cellphone!5. Done!Cons:1. doesn't come with a hot pocket.2. Amazon won't marry me.3. took me too long to order the hell was I thinking.4. took too long to get it out of the box 1 second!-------------------------------------------------------------------------------------update:Okay I have to bring this rating down to 1 star.... My 64gb SD card just crapped out. I'm getting the \\\"0x80071ac3\\\" code and i cant format it or copy files to it. I ran scan disk and nothing works... I don't know if i will be buying any more SD cards again from them. luckily i was able to save all my files. I've goggled this problem and this is a common problem with these cards...\",\"While out and about in a photo shoot I had this card fail on me. Luckily I'm a backup freak and was just starting out for the day so I only lost a few pictures. Card completely died and had to be sent back to Sandisk for a replacement.The whole process took a little over a week and communication was excellent so 5 stars on sandisk support.I know about memory so I always have multiple cards available and if I'm out for an extended time, spread my work out over cards to minimize risk.What about the average person who throws all their data on this disk and looses precious memories. Sure they are at fault for not backing up their data. Unless you are shooting HD videos though, chances are you're not going to fill this card up in a day.Unless you either need the storage for HD video or something or your data is not important I'd say it makes more sense to just get several 16GB cards equaling 64GB at roughly the same or less price depending on brand.Again Sandisk support was great and they even asked if I needed data retrieved. I can't recommend this card though.\",\"I hope you have better luck, it has gotten a lot of great reviews, but first the sticker(!) covering the contacts on the back fell off, then the card died completely. Hopefully it's an isolated incident, but I'm trying a different brand in case its a bad batch.\",\"Worked fine for a month and then after about a month, the phone didn't see the card any more. Tried to read it on several PC's and none of them detected the card. Unfortunately it hadn't been backed up so all pictures and videos take on the phone are now gone.\",\"I bought this for my Samsung galaxy s4. I don't know if it is my phone or the card but my phone says it was unexpectedly removed from time to time. My wife's phone doesn't do it as often but still does it. Very fast but unreliable. I have had many sandisk before and this is the only one I have had problems with. I have read that there were some that were poorly made. Thinking I will send it back and give it another chance.\",\"Bought this for Galaxy S3, worked like a charm for 3 months & then I started getting error messages on phone stating the card has been taken out or that it is not there, went on like this for a week or so & then one day gone. Initially I thought it was problem with phone. Popped in a 2Gb card from BB & it worked. Popped this one into the BB & same, no detection. After spending so much on an SD card its disappointing to see it go bust outside of return period.\",\"Bought this for my Samsung Galaxy Note II. I started having all kinds of issues with recording photos and movies to the card. It would look like it worked and then when I'd go back to review the photos or movies they were corrupted. I see other people having the same issue with these cards. Lost memories - bad card...\",\"I have not had many problems with what I have bought over the years, but when I do I will make sure to warn others. I loaded a handful of videos from my PC and then installed this in my Android tablet for a trip. Corrupted. Nothing worked and sometimes it can be seen, other times it doesn't even show up. The tablet wants to format it, which it has never been able to do\",\"Worked once I was able to find a system to format it.Second card from SanDisk that was sent to me unformatted.They need to get their act together...\",\"Picked this up on sale.. doesn't work, only shows up as a 1MB (yes, Megabyte) card that I can'd do anything with. I already threw away the original packaging too. I'm sure returning it is going to be a huge PITA because of that.UPDATE: After writing this (albeit, short) review I found this is not uncommon. I also found that this card was deliberately crippled despite the product description saying \\\"The SanDisk Ultra microSDXC UHS-I Card works with any microSDXC compatible device.\\\" That was all the motivation I needed to process a return on it rather than having it replaced.\",\"Got a defective memory card. Showed only 1 GB instead of the 64 GB. Returned it for a replacement and never got the replacement! Got my money back and went to Walmart.\",\"Within an hour of using the memory card, it failed and died. it kept saying \\\"Memory error.\\\"I could never get my dashcam camera to record anything. I went to our walmart and got me just MicroSD not Ultra. It has been working all day so far.That's right. There is no way to tell what you are getting online is OEM or knock offs. When the price is too good to be true, it probably is - made and distributed by Mofia. LOL.Although the package arrived on time, I will never buy this product online or from this seller on Amazon. Waste of money.\",\"Beware guys. i bought one of these from Superior Electronics Outlet and it arrived completly dead. i tried to format it on windows and on my galaxy s3 and no go.I tried everything that possible ....have been fighting with this card for 3 days now, and no success so far. No response from the seller about it.My last hope is amazon refund me. otherwise i just wasted 80 U$\",\"I bought the SanDisk 32 Gb micro SD card (class 10) in Dec for a new Galaxy S3. I used it for songs and video and pics. It started acting flaky in April and would unmount itself and then remount and I had problems with playing music. Then it completely died and would not even reformat. This is a known issue, and I will write back after I try to get SanDisk to replace it.\",\"Monday, November 26, 2012I put this in the Galaxy S3 without formatting, restarted the phone and it showed 59.4g GB of space. I transferred all the files from the old 16 GB card and then moved all my music to the card with the phone connected to my computer by the USB cord. Still lots of space left and the various music players seem to see all the music.Tuesday, November 27, 2012The card didn't show\",\"Hi:I ordered two card and they arrived the next day, even faster than Prime. Unfortunatey, this 64gb MicroSD card is designed to only work with ex-fat. If you're an ex-fat fan and don't ever plan to change, this is the card for you. I've been able to take all of the previous 64gb MicroSD cards I've ordered, put them in an adapter and format them in my Windows 7 desktop. I'm a NTSF fan and\",\"I ordered two 32GB and two 64Gb versions of these memory cards (but I can write only one review per Amazon). Two 32GB cards went into a camera and a cell phone which only accept up to 32GB cards -- and one 64GB card went into my Samsung Galaxy S3 cell phone. The second 64GB card's a spare.The Galaxy S3 phone accepted the 64GB MicroSD card with no problems -- except for the fact that\",\"This may be the worst memory card I've ever purchased - and I have bought a lot of card over the years - wish I had just stuck with my ADATA cardsFirst issue - I lost a bunch of photos - they just did not exist at all - it was as if I never took them - but since there was a large gap in the file names I know for sure I didOf\",\"As others have found, these cards do not last. Mine died in less than 2 months. Lost several photos that I had not backed up yet. The warranty replacement died within 3 months.Go with another brand. I've been using a Kingston and so far, 9 months later, still working.\",\"Started acting erratically after about a month, it's now been a little over a month and all my files are gone. Not all of them were able to be backed up. I hope I can get at least the pictures back. Glad the S4 backs up photos automatically...\",\"Acquired this card a month ago for use in my phone Samsung Galaxy S4 and only have taken issues with it.The micro sd card is really bad, the camera takes a long time to be ready and repeatedly resets the phone. Absolutely not recommend it in my previous phone (S3) used a micro sd card 32GB Samsung brand and never had problems with it.To correct the problem of instability recommend formatting the card, I did and the problem remains the same.Live outside the U.S. and I must acquire excellent quality products because the cost of returning it exceeds the cost of the product.Next time buy a card SAMSUNG brand that never gave me problems.\",\"32 gb card is unredable...tablet cant read it, camera cant read it... Unable to format it... And i dont havve 20 words...I have 30$ less...\",\"I bought two as a back up for my Gopro Hero 3.One from Amazon the other was a gift from BB.Both did not work in my cameras, thinking it was Gopro's new update.Kept getting a SDERRI returned other and it worked with no problem.NOTE to all, there are boot-legged products out there It is hard todetect. But of all the Items I've received from Amazon/Prime and beyondHave been great. I just got stuck with a bad batch.GoPro recommends HX,HC,XC and extreme micro cards.\",\"randomly died out of nowhere. i have the camera on for about 2 min and the card worked. turned the camera off and back on a few min later and the card no longer worked. I have no idea what happened but this seems to be a common problem with these cards.\",\"Got this for Galaxy Note 2. Started receiving \\\"unexpectedly removed\\\" messages. Now card is dead and no longer working. This can be Googled for known issues. Will be contacting Amazon for replacement. Felt compelled to share.\",\"Purchased for my galaxie 3 phone and it fits and works. Not much else to say. ok, the price was good.Update 06/24/13It stopped working! All of a sudden my phone started alerting me that the sd chip was mounting and dismounting. Caused the battery to drain in a few hours. Everything on the card was lost. I attempted to re-format in my laptop. Card was not found by laptop.Googled the issue and found many blogs of others experiencing the same problem.I will attempt to return to Amazon.\",\"Died within 6 months! Stopped being able to read or write :( When I went to destroy it, it crumbled easily into tiny pieces. Never again.\",\"Buyer beware card unreadable from the get go. Luck for me amazon helped me out. There are many others on here that know how to format to Fat32 threw Window 7 and have had same issues.\",\"This was the fastest microSD card I have tested, unfortunately it died after about four months of use in my Android phone. At first my phone would randomly say the card had been removed, then eventually neither the phone nor any reader I had could access it.The test results from my older but still functional 32gb class 4 sandisk:Sequential Read : 23.022 MB/sSequential Write : 4.460 MB/sRandom Read 512KB : 22.387 MB/sRandom Write 512KB : 3.144 MB/sRandom Read 4KB (QD=1) : 3.414 MB/s [ 833.5 IOPS]Random Write 4KB (QD=1) : 1.231 MB/s [ 300.5 IOPS]Random Read 4KB (QD=32) : 3.309 MB/s [ 807.8 IOPS]Random Write 4KB (QD=32) : 0.993 MB/s [ 242.4 IOPS]Compared to this product, 32gb class 10 sandisk:Sequential Read : 41.492 MB/sSequential Write : 15.653 MB/sRandom Read 512KB : 43.380 MB/sRandom Write 512KB : 17.685 MB/sRandom Read 4KB (QD=1) : 4.696 MB/s [ 1146.5 IOPS]Random Write 4KB (QD=1) : 1.595 MB/s [ 389.4 IOPS]Random Read 4KB (QD=32) : 4.859 MB/s [ 1186.2 IOPS]Random Write 4KB (QD=32) : 1.334 MB/s [ 325.6 IOPS]\",\"Hello,Great card, great price. Plenty of speed and worked for...about a year. In fact, I wish it had stopped working a month earlier.It looks like Sandisk is out to make sure their cards stop working perfectly after the return window is up or something, because now on the end of December (Return window expired about 20 days ago) this thing only intermittently is recognized. It unmounts all the time in my phone and then gets remounted, and usually it doesn't even remount.While it was a good price, it was a good price for a name brand card that would have lasted longer than a year instead of Sandisk going \\\"ahaha got you good, now you have to buy another expensive name-brand card!\\\"Nope, I'll buy a cheaper alternative and it'll probably last longer. I still have some Kingston's going strong.\",\"DO NOT PUT ANY IMPORTANT DATA IN IT. DO NOT USE IT AS A PERMANENT STORAGE TO ARCHIVE IMPORTANT FILES.It just failed after 1.5 months use -- i don't use it too much. Just put all my digital pictures (total: about 30GB) in it and carried in my wallet. I added some more pictures to the disk for a few time in November. Tonight, when I insert it into my laptop, Windows say cannot recognize\",\"I bought this Sandisk 16GB Class 10 to use with my HTC Inspire, after 3 months, I am getting constant error saying SD Card unmounted unexpectedly.Then today, the dang fkang card won't even read in the card reader, I have 10GB worth of videos and pictures, memories that I will never be able to get back. I am very upset.\"],\"label\":{\"__ndarray__\":\"BAAAAAEAAAAGAAAAAwAAAAAAAAAAAAAAAQAAAAEAAAABAAAABQAAAAAAAAACAAAAAQAAAAEAAAABAAAAAwAAAAYAAAABAAAABQAAAAUAAAAAAAAAAAAAAAEAAAADAAAABAAAAAUAAAABAAAAAAAAAAUAAAAFAAAAAQAAAAAAAAABAAAABgAAAAEAAAAGAAAABQAAAAAAAAAFAAAAAAAAAAAAAAABAAAAAwAAAAEAAAABAAAABQAAAAYAAAABAAAAAQAAAAMAAAABAAAAAAAAAAEAAAAAAAAAAQAAAAUAAAAFAAAAAQAAAAEAAAAFAAAAAAAAAAEAAAABAAAAAAAAAAIAAAAAAAAAAAAAAAEAAAAGAAAAAAAAAAEAAAABAAAAAAAAAAMAAAAFAAAABQAAAAEAAAAAAAAABgAAAAAAAAAAAAAAAQAAAAQAAAABAAAABQAAAAAAAAACAAAAAQAAAAIAAAAFAAAABQAAAAYAAAADAAAAAAAAAAEAAAAAAAAABQAAAAEAAAABAAAAAAAAAAAAAAAGAAAAAQAAAAAAAAAAAAAABgAAAAMAAAAFAAAABgAAAAYAAAACAAAABAAAAAYAAAAGAAAAAQAAAAUAAAADAAAAAQAAAAEAAAADAAAAAgAAAAEAAAADAAAAAAAAAAQAAAACAAAAAAAAAAAAAAAFAAAAAwAAAAEAAAADAAAAAAAAAAYAAAAEAAAAAQAAAAAAAAAAAAAAAwAAAAUAAAAAAAAAAQAAAAMAAAAAAAAAAQAAAAEAAAACAAAABQAAAAAAAAAEAAAABAAAAAEAAAABAAAABgAAAAUAAAABAAAABQAAAAYAAAAFAAAAAwAAAAAAAAAFAAAAAAAAAAMAAAAFAAAAAQAAAAAAAAAEAAAABQAAAAEAAAAGAAAAAQAAAAEAAAACAAAAAQAAAAEAAAAAAAAABAAAAAEAAAAEAAAAAAAAAAAAAAAAAAAABgAAAAEAAAABAAAABAAAAAQAAAAAAAAABgAAAAUAAAAAAAAAAwAAAAMAAAABAAAABQAAAAUAAAAFAAAABgAAAAAAAAABAAAAAAAAAAEAAAAEAAAAAAAAAAIAAAABAAAAAQAAAAAAAAAFAAAAAQAAAAUAAAABAAAAAAAAAAAAAAAEAAAAAAAAAAQAAAADAAAAAAAAAAAAAAABAAAABgAAAAYAAAAAAAAABAAAAAIAAAAAAAAABQAAAAAAAAABAAAAAQAAAAAAAAABAAAAAgAAAAEAAAAAAAAAAAAAAAAAAAACAAAABQAAAAUAAAAEAAAAAAAAAAMAAAAAAAAABgAAAAAAAAABAAAAAwAAAAQAAAACAAAAAgAAAAEAAAABAAAAAAAAAAQAAAAAAAAABAAAAAUAAAAAAAAAAAAAAAEAAAAEAAAAAwAAAAUAAAABAAAAAQAAAAMAAAAAAAAABAAAAAEAAAABAAAABgAAAAAAAAABAAAAAQAAAAEAAAAAAAAABAAAAAEAAAAGAAAABQAAAAAAAAAGAAAAAQAAAAEAAAABAAAAAwAAAAAAAAABAAAAAwAAAAEAAAABAAAAAwAAAAAAAAABAAAAAwAAAAEAAAABAAAAAgAAAAEAAAADAAAAAgAAAAEAAAAFAAAAAAAAAAAAAAAAAAAAAQAAAAYAAAADAAAAAAAAAAUAAAADAAAAAAAAAAIAAAAAAAAABQAAAAIAAAAGAAAAAwAAAAUAAAABAAAA\",\"dtype\":\"int32\",\"shape\":[324]},\"x\":{\"__ndarray__\":\"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\",\"dtype\":\"float64\",\"shape\":[324]},\"y\":{\"__ndarray__\":\"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\",\"dtype\":\"float64\",\"shape\":[324]}}},\"id\":\"5e6caace-cb87-4ccc-b501-d408cf98cdd9\",\"type\":\"ColumnDataSource\"},{\"attributes\":{},\"id\":\"e059b1d1-3e05-47e0-91a4-5a26aab12107\",\"type\":\"LinearScale\"},{\"attributes\":{\"label\":{\"field\":\"label\"},\"renderers\":[{\"id\":\"0e43b004-ec41-41a4-a4b2-10a2100e12ca\",\"type\":\"GlyphRenderer\"}]},\"id\":\"934823d4-68ac-4167-aa73-3fd9896be678\",\"type\":\"LegendItem\"},{\"attributes\":{},\"id\":\"4850a986-350d-4dee-9421-94575501ddd9\",\"type\":\"BasicTickFormatter\"},{\"attributes\":{},\"id\":\"9250833a-478a-4649-8290-6ea00e949a6e\",\"type\":\"PanTool\"},{\"attributes\":{\"axis_label\":\"TSVD Dimension 1\",\"formatter\":{\"id\":\"dceb64f8-f687-4537-9e52-c1058ebe3024\",\"type\":\"BasicTickFormatter\"},\"plot\":{\"id\":\"82372c5d-041b-4bd7-bde5-599d364bad0e\",\"subtype\":\"Figure\",\"type\":\"Plot\"},\"ticker\":{\"id\":\"c42c655a-60fe-40d7-a292-8f5a968896e9\",\"type\":\"BasicTicker\"}},\"id\":\"fec618ae-dec0-420d-9e02-b4846e07a1cc\",\"type\":\"LinearAxis\"},{\"attributes\":{\"below\":[{\"id\":\"fec618ae-dec0-420d-9e02-b4846e07a1cc\",\"type\":\"LinearAxis\"}],\"left\":[{\"id\":\"524e40c3-a537-42a8-8ffc-c1fcaac9a24b\",\"type\":\"LinearAxis\"}],\"plot_height\":700,\"plot_width\":700,\"renderers\":[{\"id\":\"fec618ae-dec0-420d-9e02-b4846e07a1cc\",\"type\":\"LinearAxis\"},{\"id\":\"07c9bc61-9cc9-4fd9-a114-5240b2e53c04\",\"type\":\"Grid\"},{\"id\":\"524e40c3-a537-42a8-8ffc-c1fcaac9a24b\",\"type\":\"LinearAxis\"},{\"id\":\"d70db583-2825-4596-a937-624bfcfbd0dc\",\"type\":\"Grid\"},{\"id\":\"1edfe9c4-1066-4150-9932-db3c2bcc24a2\",\"type\":\"BoxAnnotation\"},{\"id\":\"8fddb2a5-24bb-486c-acd2-1b792a812168\",\"type\":\"Legend\"},{\"id\":\"0e43b004-ec41-41a4-a4b2-10a2100e12ca\",\"type\":\"GlyphRenderer\"}],\"title\":{\"id\":\"63fa98de-170f-4c87-8889-51c0333d1db5\",\"type\":\"Title\"},\"toolbar\":{\"id\":\"15f028b4-38ae-4ffa-86d2-cd3486c4eda6\",\"type\":\"Toolbar\"},\"x_range\":{\"id\":\"3f631afd-ed42-40a7-8f64-e186059fc034\",\"type\":\"DataRange1d\"},\"x_scale\":{\"id\":\"e059b1d1-3e05-47e0-91a4-5a26aab12107\",\"type\":\"LinearScale\"},\"y_range\":{\"id\":\"477413ad-c180-46bb-a40b-de6ca0e6a2e0\",\"type\":\"DataRange1d\"},\"y_scale\":{\"id\":\"06a3bb3d-8069-4623-b6e9-90ea7ca1b808\",\"type\":\"LinearScale\"}},\"id\":\"82372c5d-041b-4bd7-bde5-599d364bad0e\",\"subtype\":\"Figure\",\"type\":\"Plot\"},{\"attributes\":{\"data_source\":{\"id\":\"5e6caace-cb87-4ccc-b501-d408cf98cdd9\",\"type\":\"ColumnDataSource\"},\"glyph\":{\"id\":\"3d2b302f-c3af-464c-8967-0eb63a7ea05b\",\"type\":\"Circle\"},\"hover_glyph\":null,\"muted_glyph\":null,\"nonselection_glyph\":{\"id\":\"57c6c4e0-e226-43ab-a9a2-f63d90410910\",\"type\":\"Circle\"},\"selection_glyph\":null,\"view\":{\"id\":\"79e7253a-61f3-4514-aad0-1bcb858b6890\",\"type\":\"CDSView\"}},\"id\":\"0e43b004-ec41-41a4-a4b2-10a2100e12ca\",\"type\":\"GlyphRenderer\"}],\"root_ids\":[\"82372c5d-041b-4bd7-bde5-599d364bad0e\"]},\"title\":\"Bokeh Application\",\"version\":\"0.12.7dev16\"}};\n",
       "            var render_items = [{\"docid\":\"57eb4a28-5c81-49c1-9483-391c6f2b4543\",\"elementid\":\"e2201263-0e90-487b-bc0a-416d6e31141c\",\"modelid\":\"82372c5d-041b-4bd7-bde5-599d364bad0e\"}];\n",
       "            \n",
       "            Bokeh.embed.embed_items(docs_json, render_items);\n",
       "          };\n",
       "          if (document.readyState != \"loading\") fn();\n",
       "          else document.addEventListener(\"DOMContentLoaded\", fn);\n",
       "        })();\n",
       "      },\n",
       "      function(Bokeh) {\n",
       "      }\n",
       "    ];\n",
       "  \n",
       "    function run_inline_js() {\n",
       "      \n",
       "      if ((root.Bokeh !== undefined) || (force === true)) {\n",
       "        for (var i = 0; i < inline_js.length; i++) {\n",
       "          inline_js[i].call(root, root.Bokeh);\n",
       "        }if (force === true) {\n",
       "          display_loaded();\n",
       "        }} else if (Date.now() < root._bokeh_timeout) {\n",
       "        setTimeout(run_inline_js, 100);\n",
       "      } else if (!root._bokeh_failed_load) {\n",
       "        console.log(\"Bokeh: BokehJS failed to load within specified timeout.\");\n",
       "        root._bokeh_failed_load = true;\n",
       "      } else if (force !== true) {\n",
       "        var cell = $(document.getElementById(\"e2201263-0e90-487b-bc0a-416d6e31141c\")).parents('.cell').data().cell;\n",
       "        cell.output_area.append_execute_result(NB_LOAD_WARNING)\n",
       "      }\n",
       "  \n",
       "    }\n",
       "  \n",
       "    if (root._bokeh_is_loading === 0) {\n",
       "      console.log(\"Bokeh: BokehJS loaded, going straight to plotting\");\n",
       "      run_inline_js();\n",
       "    } else {\n",
       "      load_libs(js_urls, function() {\n",
       "        console.log(\"Bokeh: BokehJS plotting callback run at\", now());\n",
       "        run_inline_js();\n",
       "      });\n",
       "    }\n",
       "  }(window));\n",
       "</script>"
      ]
     },
     "metadata": {},
     "output_type": "display_data"
    }
   ],
   "source": [
    "# plot our classes\n",
    "n_categores = pd.Series(cluster_labels).nunique()\n",
    "color_swatches = viridis(n_categores)\n",
    "categories =  np.unique(cluster_labels).tolist()\n",
    "colormap = dict(zip(categories, color_swatches))\n",
    "cat_colors = [colormap[i] for i in cluster_labels]\n",
    "\n",
    "\n",
    "source = ColumnDataSource(data=dict(\n",
    "    x = reduced_docs[:,0],\n",
    "    y = reduced_docs[:,1],\n",
    "    desc = sandisk_bad_reviews['reviewPreview'].tolist(),\n",
    "    color=cat_colors,\n",
    "    label = cluster_labels\n",
    "))\n",
    "\n",
    "\n",
    "hover = HoverTool(tooltips=[\n",
    "    (\"index\", \"$index\"),\n",
    "    (\"desc\", \"@desc\")\n",
    "])\n",
    "\n",
    "p = figure(title = \"Documents by Truncated SVD Values\", width=700, height=700, tools=[hover, 'pan', 'box_zoom', 'reset', 'zoom_in','zoom_out'])\n",
    "p.xaxis.axis_label = 'TSVD Dimension 1'\n",
    "p.yaxis.axis_label = 'TSVD Dimension 2'\n",
    "\n",
    "p.circle('x','y', size=8, fill_alpha=0.2, \n",
    "        color='color',\n",
    "        legend='label',\n",
    "         source=source,)\n",
    "\n",
    "output_notebook(notebook_type='jupyter')\n",
    "show(p)"
   ]
  },
  {
   "cell_type": "markdown",
   "metadata": {},
   "source": [
    "Iterate through the steps above and adjust parameters to see if you can find any natural clusters or trends in the reviews that would shed light on ways we might be able to improve our product."
   ]
  },
  {
   "cell_type": "markdown",
   "metadata": {
    "collapsed": true
   },
   "source": [
    "\n",
    "# End of Part 2"
   ]
  }
 ],
 "metadata": {
  "anaconda-cloud": {},
  "kernelspec": {
   "display_name": "Python 3",
   "language": "python",
   "name": "python3"
  },
  "language_info": {
   "codemirror_mode": {
    "name": "ipython",
    "version": 3
   },
   "file_extension": ".py",
   "mimetype": "text/x-python",
   "name": "python",
   "nbconvert_exporter": "python",
   "pygments_lexer": "ipython3",
   "version": "3.6.2"
  }
 },
 "nbformat": 4,
 "nbformat_minor": 1
}
