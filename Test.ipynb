{
 "cells": [
  {
   "cell_type": "code",
   "execution_count": 1,
   "metadata": {},
   "outputs": [
    {
     "name": "stdout",
     "output_type": "stream",
     "text": [
      "### Great it seems like all the libraries were loaded correclty!\n"
     ]
    }
   ],
   "source": [
    "# test the main packages we'll be using are installed by importing them\n",
    "import pandas as pd\n",
    "import numpy as np\n",
    "import matplotlib.pyplot as plt\n",
    "import seaborn\n",
    "import sklearn\n",
    "import spacy\n",
    "nlp = spacy.load('en')\n",
    "\n",
    "print(\"### Great it seems like all the libraries were loaded correclty!\")\n",
    "# If all the libraries import without an error they are probably installed correctly"
   ]
  },
  {
   "cell_type": "code",
   "execution_count": 2,
   "metadata": {
    "collapsed": true
   },
   "outputs": [],
   "source": [
    "# Function for testing the location of the data files (this won't work if you\n",
    "# renamed the data files)\n",
    "from IPython.display import display\n",
    "\n",
    "def test_data():\n",
    "    amz_elec_test = pd.read_csv('data/amazon_electronics_reviews_subset.csv', header=0, index_col=0)\n",
    "    print(\"\\nAmazon Reviews data set:\")\n",
    "    display(amz_elec_test.head(1))\n",
    "    print(\"\\nAmazon Reviews for the Sandisk SD Card:\")\n",
    "    sandisk_test = pd.read_csv('data/sandisk_sd_card_reviews.csv', header=0, index_col=0)\n",
    "    display(sandisk_test.head(1))\n",
    "    print(\"\\n### \\n### It seems like the data files are all in the right location! \\n###\")"
   ]
  },
  {
   "cell_type": "code",
   "execution_count": 3,
   "metadata": {},
   "outputs": [
    {
     "name": "stdout",
     "output_type": "stream",
     "text": [
      "\n",
      "Amazon Reviews data set:\n"
     ]
    },
    {
     "data": {
      "text/html": [
       "<div>\n",
       "<style>\n",
       "    .dataframe thead tr:only-child th {\n",
       "        text-align: right;\n",
       "    }\n",
       "\n",
       "    .dataframe thead th {\n",
       "        text-align: left;\n",
       "    }\n",
       "\n",
       "    .dataframe tbody tr th {\n",
       "        vertical-align: top;\n",
       "    }\n",
       "</style>\n",
       "<table border=\"1\" class=\"dataframe\">\n",
       "  <thead>\n",
       "    <tr style=\"text-align: right;\">\n",
       "      <th></th>\n",
       "      <th>asin</th>\n",
       "      <th>helpful</th>\n",
       "      <th>overall</th>\n",
       "      <th>reviewText</th>\n",
       "      <th>reviewTime</th>\n",
       "      <th>reviewerID</th>\n",
       "      <th>reviewerName</th>\n",
       "      <th>summary</th>\n",
       "      <th>unixReviewTime</th>\n",
       "    </tr>\n",
       "  </thead>\n",
       "  <tbody>\n",
       "    <tr>\n",
       "      <th>674608</th>\n",
       "      <td>B002W7CW32</td>\n",
       "      <td>[1, 3]</td>\n",
       "      <td>5</td>\n",
       "      <td>got  my first projector yesterday from visuala...</td>\n",
       "      <td>04 7, 2010</td>\n",
       "      <td>A33XWDU85V5ZGM</td>\n",
       "      <td>Prasad N. Badal \"PB\"</td>\n",
       "      <td>updated review- still loving it</td>\n",
       "      <td>1270598400</td>\n",
       "    </tr>\n",
       "  </tbody>\n",
       "</table>\n",
       "</div>"
      ],
      "text/plain": [
       "              asin helpful  overall  \\\n",
       "674608  B002W7CW32  [1, 3]        5   \n",
       "\n",
       "                                               reviewText  reviewTime  \\\n",
       "674608  got  my first projector yesterday from visuala...  04 7, 2010   \n",
       "\n",
       "            reviewerID          reviewerName                          summary  \\\n",
       "674608  A33XWDU85V5ZGM  Prasad N. Badal \"PB\"  updated review- still loving it   \n",
       "\n",
       "        unixReviewTime  \n",
       "674608      1270598400  "
      ]
     },
     "metadata": {},
     "output_type": "display_data"
    },
    {
     "name": "stdout",
     "output_type": "stream",
     "text": [
      "\n",
      "Amazon Reviews for the Sandisk SD Card:\n"
     ]
    },
    {
     "data": {
      "text/html": [
       "<div>\n",
       "<style>\n",
       "    .dataframe thead tr:only-child th {\n",
       "        text-align: right;\n",
       "    }\n",
       "\n",
       "    .dataframe thead th {\n",
       "        text-align: left;\n",
       "    }\n",
       "\n",
       "    .dataframe tbody tr th {\n",
       "        vertical-align: top;\n",
       "    }\n",
       "</style>\n",
       "<table border=\"1\" class=\"dataframe\">\n",
       "  <thead>\n",
       "    <tr style=\"text-align: right;\">\n",
       "      <th></th>\n",
       "      <th>asin</th>\n",
       "      <th>helpful</th>\n",
       "      <th>overall</th>\n",
       "      <th>reviewText</th>\n",
       "      <th>reviewTime</th>\n",
       "      <th>reviewerID</th>\n",
       "      <th>reviewerName</th>\n",
       "      <th>summary</th>\n",
       "      <th>unixReviewTime</th>\n",
       "    </tr>\n",
       "  </thead>\n",
       "  <tbody>\n",
       "    <tr>\n",
       "      <th>1336614</th>\n",
       "      <td>B007WTAJTO</td>\n",
       "      <td>[0, 0]</td>\n",
       "      <td>4</td>\n",
       "      <td>No issues.</td>\n",
       "      <td>07 23, 2014</td>\n",
       "      <td>A3SBTW3WS4IQSN</td>\n",
       "      <td>NaN</td>\n",
       "      <td>Four Stars</td>\n",
       "      <td>1406073600</td>\n",
       "    </tr>\n",
       "  </tbody>\n",
       "</table>\n",
       "</div>"
      ],
      "text/plain": [
       "               asin helpful  overall  reviewText   reviewTime      reviewerID  \\\n",
       "1336614  B007WTAJTO  [0, 0]        4  No issues.  07 23, 2014  A3SBTW3WS4IQSN   \n",
       "\n",
       "        reviewerName     summary  unixReviewTime  \n",
       "1336614          NaN  Four Stars      1406073600  "
      ]
     },
     "metadata": {},
     "output_type": "display_data"
    },
    {
     "name": "stdout",
     "output_type": "stream",
     "text": [
      "\n",
      "### \n",
      "### It seems like the data files are all in the right location! \n",
      "###\n"
     ]
    }
   ],
   "source": [
    "# If everything loads correclty you should see the Message: \n",
    "# \"It seems like the data files are all in the right location!\" at the bottom of the cell\n",
    "test_data()"
   ]
  }
 ],
 "metadata": {
  "anaconda-cloud": {},
  "kernelspec": {
   "display_name": "Python 3",
   "language": "python",
   "name": "python3"
  },
  "language_info": {
   "codemirror_mode": {
    "name": "ipython",
    "version": 3
   },
   "file_extension": ".py",
   "mimetype": "text/x-python",
   "name": "python",
   "nbconvert_exporter": "python",
   "pygments_lexer": "ipython3",
   "version": "3.6.2"
  }
 },
 "nbformat": 4,
 "nbformat_minor": 1
}
